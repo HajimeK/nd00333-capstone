{
  "cells": [
    {
      "cell_type": "markdown",
      "source": [
        "# Automated ML\n",
        "\n",
        "TODO: Import Dependencies. In the cell below, import all the dependencies that you will need to complete the project."
      ],
      "metadata": {}
    },
    {
      "cell_type": "code",
      "source": [
        "from azureml.core import Workspace, Dataset, Experiment\r\n",
        "from azureml.train.automl import AutoMLConfig"
      ],
      "outputs": [],
      "execution_count": 4,
      "metadata": {
        "gather": {
          "logged": 1626595779411
        },
        "jupyter": {
          "outputs_hidden": false,
          "source_hidden": false
        },
        "nteract": {
          "transient": {
            "deleting": false
          }
        }
      }
    },
    {
      "cell_type": "markdown",
      "source": [
        "## Dataset\n",
        "\n",
        "### Overview\n",
        "TODO: In this markdown cell, give an overview of the dataset you are using. Also mention the task you will be performing.\n",
        "\n",
        "\n",
        "TODO: Get data. In the cell below, write code to access the data you will be using in this project. Remember that the dataset needs to be external."
      ],
      "metadata": {}
    },
    {
      "cell_type": "code",
      "source": [
        "workspace = Workspace.from_config()\r\n",
        "print(workspace.name, workspace.resource_group, workspace.location, sep = '\\n')"
      ],
      "outputs": [
        {
          "output_type": "stream",
          "name": "stdout",
          "text": [
            "udacityws\n",
            "udacitycapstone\n",
            "japaneast\n"
          ]
        }
      ],
      "execution_count": 10,
      "metadata": {
        "collapsed": true,
        "jupyter": {
          "source_hidden": false,
          "outputs_hidden": false
        },
        "nteract": {
          "transient": {
            "deleting": false
          }
        },
        "gather": {
          "logged": 1626596003042
        }
      }
    },
    {
      "cell_type": "code",
      "source": [
        "# choose a name for experiment\n",
        "experiment_name = 'capstone'\n",
        "experiment=Experiment(workspace, experiment_name)\n",
        "\n",
        "dataset = Dataset.get_by_name(workspace, name='Census Income Data Set')\n",
        "df = dataset.to_pandas_dataframe()\n",
        "df.head(20)"
      ],
      "outputs": [
        {
          "output_type": "execute_result",
          "execution_count": 68,
          "data": {
            "text/plain": "    age          workclass education_level  education-num  \\\n0    39          State-gov       Bachelors          13.00   \n1    50   Self-emp-not-inc       Bachelors          13.00   \n2    38            Private         HS-grad           9.00   \n3    53            Private            11th           7.00   \n4    28            Private       Bachelors          13.00   \n5    37            Private         Masters          14.00   \n6    49            Private             9th           5.00   \n7    52   Self-emp-not-inc         HS-grad           9.00   \n8    31            Private         Masters          14.00   \n9    42            Private       Bachelors          13.00   \n10   37            Private    Some-college          10.00   \n11   30          State-gov       Bachelors          13.00   \n12   23            Private       Bachelors          13.00   \n13   32            Private      Assoc-acdm          12.00   \n14   34            Private         7th-8th           4.00   \n15   25   Self-emp-not-inc         HS-grad           9.00   \n16   32            Private         HS-grad           9.00   \n17   38            Private            11th           7.00   \n18   43   Self-emp-not-inc         Masters          14.00   \n19   40            Private       Doctorate          16.00   \n\n            marital-status          occupation    relationship  \\\n0            Never-married        Adm-clerical   Not-in-family   \n1       Married-civ-spouse     Exec-managerial         Husband   \n2                 Divorced   Handlers-cleaners   Not-in-family   \n3       Married-civ-spouse   Handlers-cleaners         Husband   \n4       Married-civ-spouse      Prof-specialty            Wife   \n5       Married-civ-spouse     Exec-managerial            Wife   \n6    Married-spouse-absent       Other-service   Not-in-family   \n7       Married-civ-spouse     Exec-managerial         Husband   \n8            Never-married      Prof-specialty   Not-in-family   \n9       Married-civ-spouse     Exec-managerial         Husband   \n10      Married-civ-spouse     Exec-managerial         Husband   \n11      Married-civ-spouse      Prof-specialty         Husband   \n12           Never-married        Adm-clerical       Own-child   \n13           Never-married               Sales   Not-in-family   \n14      Married-civ-spouse    Transport-moving         Husband   \n15           Never-married     Farming-fishing       Own-child   \n16           Never-married   Machine-op-inspct       Unmarried   \n17      Married-civ-spouse               Sales         Husband   \n18                Divorced     Exec-managerial       Unmarried   \n19      Married-civ-spouse      Prof-specialty         Husband   \n\n                   race      sex  capital-gain  capital-loss  hours-per-week  \\\n0                 White     Male       2174.00          0.00           40.00   \n1                 White     Male          0.00          0.00           13.00   \n2                 White     Male          0.00          0.00           40.00   \n3                 Black     Male          0.00          0.00           40.00   \n4                 Black   Female          0.00          0.00           40.00   \n5                 White   Female          0.00          0.00           40.00   \n6                 Black   Female          0.00          0.00           16.00   \n7                 White     Male          0.00          0.00           45.00   \n8                 White   Female      14084.00          0.00           50.00   \n9                 White     Male       5178.00          0.00           40.00   \n10                Black     Male          0.00          0.00           80.00   \n11   Asian-Pac-Islander     Male          0.00          0.00           40.00   \n12                White   Female          0.00          0.00           30.00   \n13                Black     Male          0.00          0.00           50.00   \n14   Amer-Indian-Eskimo     Male          0.00          0.00           45.00   \n15                White     Male          0.00          0.00           35.00   \n16                White     Male          0.00          0.00           40.00   \n17                White     Male          0.00          0.00           50.00   \n18                White   Female          0.00          0.00           45.00   \n19                White     Male          0.00          0.00           60.00   \n\n    native-country income  \n0    United-States  <=50K  \n1    United-States  <=50K  \n2    United-States  <=50K  \n3    United-States  <=50K  \n4             Cuba  <=50K  \n5    United-States  <=50K  \n6          Jamaica  <=50K  \n7    United-States   >50K  \n8    United-States   >50K  \n9    United-States   >50K  \n10   United-States   >50K  \n11           India   >50K  \n12   United-States  <=50K  \n13   United-States  <=50K  \n14          Mexico  <=50K  \n15   United-States  <=50K  \n16   United-States  <=50K  \n17   United-States  <=50K  \n18   United-States   >50K  \n19   United-States   >50K  ",
            "text/html": "<div>\n<style scoped>\n    .dataframe tbody tr th:only-of-type {\n        vertical-align: middle;\n    }\n\n    .dataframe tbody tr th {\n        vertical-align: top;\n    }\n\n    .dataframe thead th {\n        text-align: right;\n    }\n</style>\n<table border=\"1\" class=\"dataframe\">\n  <thead>\n    <tr style=\"text-align: right;\">\n      <th></th>\n      <th>age</th>\n      <th>workclass</th>\n      <th>education_level</th>\n      <th>education-num</th>\n      <th>marital-status</th>\n      <th>occupation</th>\n      <th>relationship</th>\n      <th>race</th>\n      <th>sex</th>\n      <th>capital-gain</th>\n      <th>capital-loss</th>\n      <th>hours-per-week</th>\n      <th>native-country</th>\n      <th>income</th>\n    </tr>\n  </thead>\n  <tbody>\n    <tr>\n      <th>0</th>\n      <td>39</td>\n      <td>State-gov</td>\n      <td>Bachelors</td>\n      <td>13.00</td>\n      <td>Never-married</td>\n      <td>Adm-clerical</td>\n      <td>Not-in-family</td>\n      <td>White</td>\n      <td>Male</td>\n      <td>2174.00</td>\n      <td>0.00</td>\n      <td>40.00</td>\n      <td>United-States</td>\n      <td>&lt;=50K</td>\n    </tr>\n    <tr>\n      <th>1</th>\n      <td>50</td>\n      <td>Self-emp-not-inc</td>\n      <td>Bachelors</td>\n      <td>13.00</td>\n      <td>Married-civ-spouse</td>\n      <td>Exec-managerial</td>\n      <td>Husband</td>\n      <td>White</td>\n      <td>Male</td>\n      <td>0.00</td>\n      <td>0.00</td>\n      <td>13.00</td>\n      <td>United-States</td>\n      <td>&lt;=50K</td>\n    </tr>\n    <tr>\n      <th>2</th>\n      <td>38</td>\n      <td>Private</td>\n      <td>HS-grad</td>\n      <td>9.00</td>\n      <td>Divorced</td>\n      <td>Handlers-cleaners</td>\n      <td>Not-in-family</td>\n      <td>White</td>\n      <td>Male</td>\n      <td>0.00</td>\n      <td>0.00</td>\n      <td>40.00</td>\n      <td>United-States</td>\n      <td>&lt;=50K</td>\n    </tr>\n    <tr>\n      <th>3</th>\n      <td>53</td>\n      <td>Private</td>\n      <td>11th</td>\n      <td>7.00</td>\n      <td>Married-civ-spouse</td>\n      <td>Handlers-cleaners</td>\n      <td>Husband</td>\n      <td>Black</td>\n      <td>Male</td>\n      <td>0.00</td>\n      <td>0.00</td>\n      <td>40.00</td>\n      <td>United-States</td>\n      <td>&lt;=50K</td>\n    </tr>\n    <tr>\n      <th>4</th>\n      <td>28</td>\n      <td>Private</td>\n      <td>Bachelors</td>\n      <td>13.00</td>\n      <td>Married-civ-spouse</td>\n      <td>Prof-specialty</td>\n      <td>Wife</td>\n      <td>Black</td>\n      <td>Female</td>\n      <td>0.00</td>\n      <td>0.00</td>\n      <td>40.00</td>\n      <td>Cuba</td>\n      <td>&lt;=50K</td>\n    </tr>\n    <tr>\n      <th>5</th>\n      <td>37</td>\n      <td>Private</td>\n      <td>Masters</td>\n      <td>14.00</td>\n      <td>Married-civ-spouse</td>\n      <td>Exec-managerial</td>\n      <td>Wife</td>\n      <td>White</td>\n      <td>Female</td>\n      <td>0.00</td>\n      <td>0.00</td>\n      <td>40.00</td>\n      <td>United-States</td>\n      <td>&lt;=50K</td>\n    </tr>\n    <tr>\n      <th>6</th>\n      <td>49</td>\n      <td>Private</td>\n      <td>9th</td>\n      <td>5.00</td>\n      <td>Married-spouse-absent</td>\n      <td>Other-service</td>\n      <td>Not-in-family</td>\n      <td>Black</td>\n      <td>Female</td>\n      <td>0.00</td>\n      <td>0.00</td>\n      <td>16.00</td>\n      <td>Jamaica</td>\n      <td>&lt;=50K</td>\n    </tr>\n    <tr>\n      <th>7</th>\n      <td>52</td>\n      <td>Self-emp-not-inc</td>\n      <td>HS-grad</td>\n      <td>9.00</td>\n      <td>Married-civ-spouse</td>\n      <td>Exec-managerial</td>\n      <td>Husband</td>\n      <td>White</td>\n      <td>Male</td>\n      <td>0.00</td>\n      <td>0.00</td>\n      <td>45.00</td>\n      <td>United-States</td>\n      <td>&gt;50K</td>\n    </tr>\n    <tr>\n      <th>8</th>\n      <td>31</td>\n      <td>Private</td>\n      <td>Masters</td>\n      <td>14.00</td>\n      <td>Never-married</td>\n      <td>Prof-specialty</td>\n      <td>Not-in-family</td>\n      <td>White</td>\n      <td>Female</td>\n      <td>14084.00</td>\n      <td>0.00</td>\n      <td>50.00</td>\n      <td>United-States</td>\n      <td>&gt;50K</td>\n    </tr>\n    <tr>\n      <th>9</th>\n      <td>42</td>\n      <td>Private</td>\n      <td>Bachelors</td>\n      <td>13.00</td>\n      <td>Married-civ-spouse</td>\n      <td>Exec-managerial</td>\n      <td>Husband</td>\n      <td>White</td>\n      <td>Male</td>\n      <td>5178.00</td>\n      <td>0.00</td>\n      <td>40.00</td>\n      <td>United-States</td>\n      <td>&gt;50K</td>\n    </tr>\n    <tr>\n      <th>10</th>\n      <td>37</td>\n      <td>Private</td>\n      <td>Some-college</td>\n      <td>10.00</td>\n      <td>Married-civ-spouse</td>\n      <td>Exec-managerial</td>\n      <td>Husband</td>\n      <td>Black</td>\n      <td>Male</td>\n      <td>0.00</td>\n      <td>0.00</td>\n      <td>80.00</td>\n      <td>United-States</td>\n      <td>&gt;50K</td>\n    </tr>\n    <tr>\n      <th>11</th>\n      <td>30</td>\n      <td>State-gov</td>\n      <td>Bachelors</td>\n      <td>13.00</td>\n      <td>Married-civ-spouse</td>\n      <td>Prof-specialty</td>\n      <td>Husband</td>\n      <td>Asian-Pac-Islander</td>\n      <td>Male</td>\n      <td>0.00</td>\n      <td>0.00</td>\n      <td>40.00</td>\n      <td>India</td>\n      <td>&gt;50K</td>\n    </tr>\n    <tr>\n      <th>12</th>\n      <td>23</td>\n      <td>Private</td>\n      <td>Bachelors</td>\n      <td>13.00</td>\n      <td>Never-married</td>\n      <td>Adm-clerical</td>\n      <td>Own-child</td>\n      <td>White</td>\n      <td>Female</td>\n      <td>0.00</td>\n      <td>0.00</td>\n      <td>30.00</td>\n      <td>United-States</td>\n      <td>&lt;=50K</td>\n    </tr>\n    <tr>\n      <th>13</th>\n      <td>32</td>\n      <td>Private</td>\n      <td>Assoc-acdm</td>\n      <td>12.00</td>\n      <td>Never-married</td>\n      <td>Sales</td>\n      <td>Not-in-family</td>\n      <td>Black</td>\n      <td>Male</td>\n      <td>0.00</td>\n      <td>0.00</td>\n      <td>50.00</td>\n      <td>United-States</td>\n      <td>&lt;=50K</td>\n    </tr>\n    <tr>\n      <th>14</th>\n      <td>34</td>\n      <td>Private</td>\n      <td>7th-8th</td>\n      <td>4.00</td>\n      <td>Married-civ-spouse</td>\n      <td>Transport-moving</td>\n      <td>Husband</td>\n      <td>Amer-Indian-Eskimo</td>\n      <td>Male</td>\n      <td>0.00</td>\n      <td>0.00</td>\n      <td>45.00</td>\n      <td>Mexico</td>\n      <td>&lt;=50K</td>\n    </tr>\n    <tr>\n      <th>15</th>\n      <td>25</td>\n      <td>Self-emp-not-inc</td>\n      <td>HS-grad</td>\n      <td>9.00</td>\n      <td>Never-married</td>\n      <td>Farming-fishing</td>\n      <td>Own-child</td>\n      <td>White</td>\n      <td>Male</td>\n      <td>0.00</td>\n      <td>0.00</td>\n      <td>35.00</td>\n      <td>United-States</td>\n      <td>&lt;=50K</td>\n    </tr>\n    <tr>\n      <th>16</th>\n      <td>32</td>\n      <td>Private</td>\n      <td>HS-grad</td>\n      <td>9.00</td>\n      <td>Never-married</td>\n      <td>Machine-op-inspct</td>\n      <td>Unmarried</td>\n      <td>White</td>\n      <td>Male</td>\n      <td>0.00</td>\n      <td>0.00</td>\n      <td>40.00</td>\n      <td>United-States</td>\n      <td>&lt;=50K</td>\n    </tr>\n    <tr>\n      <th>17</th>\n      <td>38</td>\n      <td>Private</td>\n      <td>11th</td>\n      <td>7.00</td>\n      <td>Married-civ-spouse</td>\n      <td>Sales</td>\n      <td>Husband</td>\n      <td>White</td>\n      <td>Male</td>\n      <td>0.00</td>\n      <td>0.00</td>\n      <td>50.00</td>\n      <td>United-States</td>\n      <td>&lt;=50K</td>\n    </tr>\n    <tr>\n      <th>18</th>\n      <td>43</td>\n      <td>Self-emp-not-inc</td>\n      <td>Masters</td>\n      <td>14.00</td>\n      <td>Divorced</td>\n      <td>Exec-managerial</td>\n      <td>Unmarried</td>\n      <td>White</td>\n      <td>Female</td>\n      <td>0.00</td>\n      <td>0.00</td>\n      <td>45.00</td>\n      <td>United-States</td>\n      <td>&gt;50K</td>\n    </tr>\n    <tr>\n      <th>19</th>\n      <td>40</td>\n      <td>Private</td>\n      <td>Doctorate</td>\n      <td>16.00</td>\n      <td>Married-civ-spouse</td>\n      <td>Prof-specialty</td>\n      <td>Husband</td>\n      <td>White</td>\n      <td>Male</td>\n      <td>0.00</td>\n      <td>0.00</td>\n      <td>60.00</td>\n      <td>United-States</td>\n      <td>&gt;50K</td>\n    </tr>\n  </tbody>\n</table>\n</div>"
          },
          "metadata": {}
        }
      ],
      "execution_count": 68,
      "metadata": {
        "gather": {
          "logged": 1626641330843
        },
        "jupyter": {
          "outputs_hidden": false,
          "source_hidden": false
        },
        "nteract": {
          "transient": {
            "deleting": false
          }
        }
      }
    },
    {
      "cell_type": "markdown",
      "source": [
        "## AutoML Configuration\n",
        "\n",
        "TODO: Explain why you chose the automl settings and cofiguration you used below."
      ],
      "metadata": {}
    },
    {
      "cell_type": "code",
      "source": [
        "from azureml.core.compute import ComputeTarget, AmlCompute\r\n",
        "from azureml.core.compute_target import ComputeTargetException\r\n",
        "\r\n",
        "### YOUR CODE HERE ###\r\n",
        "cpu_cluster_name = \"cpu-cluster\"\r\n",
        "\r\n",
        "# Verify that the cluster does not exist already\r\n",
        "try:\r\n",
        "    cpu_cluster = ComputeTarget(workspace=workspace, name=cpu_cluster_name)\r\n",
        "    print('Found existing cluster, use it.')\r\n",
        "except ComputeTargetException:\r\n",
        "    compute_config = AmlCompute.provisioning_configuration(vm_size='STANDARD_D2_V2',\r\n",
        "                                                           max_nodes=6, \r\n",
        "                                                           idle_seconds_before_scaledown=2400)\r\n",
        "    cpu_cluster = ComputeTarget.create(workspace, cpu_cluster_name, compute_config)\r\n",
        "\r\n",
        "cpu_cluster.wait_for_completion(show_output=True)"
      ],
      "outputs": [
        {
          "output_type": "stream",
          "name": "stdout",
          "text": [
            "Creating......\n",
            "SucceededProvisioning operation finished, operation \"Succeeded\"\n",
            "Succeeded\n",
            "AmlCompute wait for completion finished\n",
            "\n",
            "Minimum number of nodes requested have been provisioned\n"
          ]
        }
      ],
      "execution_count": 16,
      "metadata": {
        "collapsed": true,
        "jupyter": {
          "source_hidden": false,
          "outputs_hidden": false
        },
        "nteract": {
          "transient": {
            "deleting": false
          }
        },
        "gather": {
          "logged": 1626607647352
        }
      }
    },
    {
      "cell_type": "code",
      "source": [
        "# TODO: Put your automl settings here\n",
        "automl_settings = {\n",
        "    \"compute_target\": cpu_cluster,\n",
        "    \"experiment_timeout_minutes\": 30,\n",
        "    \"max_concurrent_iterations\": 5,\n",
        "    \"primary_metric\" : 'AUC_weighted'\n",
        "}\n",
        "automl_config = AutoMLConfig(\n",
        "    task = 'classification',\n",
        "    training_data = dataset,\n",
        "    #valudation_data = validation_data,\n",
        "    label_column_name = 'income',\n",
        "    n_cross_validations = 5,\n",
        "    **automl_settings)"
      ],
      "outputs": [],
      "execution_count": 29,
      "metadata": {
        "gather": {
          "logged": 1626608692304
        },
        "jupyter": {
          "outputs_hidden": false,
          "source_hidden": false
        },
        "nteract": {
          "transient": {
            "deleting": false
          }
        }
      }
    },
    {
      "cell_type": "code",
      "source": [
        "# TODO: Submit your experiment\n",
        "automl_run = experiment.submit(automl_config, show_output = True)"
      ],
      "outputs": [
        {
          "output_type": "stream",
          "name": "stdout",
          "text": [
            "Submitting remote run.\n",
            "No run_configuration provided, running on cpu-cluster with default configuration\n",
            "Running on remote compute: cpu-cluster\n"
          ]
        },
        {
          "output_type": "display_data",
          "data": {
            "text/plain": "<IPython.core.display.HTML object>",
            "text/html": "<table style=\"width:100%\"><tr><th>Experiment</th><th>Id</th><th>Type</th><th>Status</th><th>Details Page</th><th>Docs Page</th></tr><tr><td>capstone</td><td>AutoML_8b7c9872-e139-4e02-a108-1643a9d139e7</td><td>automl</td><td>NotStarted</td><td><a href=\"https://ml.azure.com/runs/AutoML_8b7c9872-e139-4e02-a108-1643a9d139e7?wsid=/subscriptions/653662f1-95de-4498-b876-1fd625bf5d18/resourcegroups/udacitycapstone/workspaces/udacityws&amp;tid=60e63508-9cfd-4013-9a1f-7610707b07ce\" target=\"_blank\" rel=\"noopener\">Link to Azure Machine Learning studio</a></td><td><a href=\"https://docs.microsoft.com/en-us/python/api/overview/azure/ml/intro?view=azure-ml-py\" target=\"_blank\" rel=\"noopener\">Link to Documentation</a></td></tr></table>"
          },
          "metadata": {}
        },
        {
          "output_type": "stream",
          "name": "stdout",
          "text": [
            "\n",
            "Current status: FeaturesGeneration. Generating features for the dataset.\n",
            "Current status: DatasetFeaturization. Beginning to fit featurizers and featurize the dataset.\n",
            "Current status: DatasetFeaturizationCompleted. Generating individually featurized CV splits.\n",
            "Current status: DatasetCrossValidationSplit. Generating individually featurized CV splits.\n",
            "Current status: ModelSelection. Beginning model selection.\n",
            "\n",
            "****************************************************************************************************\n",
            "DATA GUARDRAILS: \n",
            "\n",
            "TYPE:         Class balancing detection\n",
            "STATUS:       PASSED\n",
            "DESCRIPTION:  Your inputs were analyzed, and all classes are balanced in your training data.\n",
            "              Learn more about imbalanced data: https://aka.ms/AutomatedMLImbalancedData\n",
            "\n",
            "****************************************************************************************************\n",
            "\n",
            "TYPE:         Missing feature values imputation\n",
            "STATUS:       PASSED\n",
            "DESCRIPTION:  No feature missing values were detected in the training data.\n",
            "              Learn more about missing value imputation: https://aka.ms/AutomatedMLFeaturization\n",
            "\n",
            "****************************************************************************************************\n",
            "\n",
            "TYPE:         High cardinality feature detection\n",
            "STATUS:       PASSED\n",
            "DESCRIPTION:  Your inputs were analyzed, and no high cardinality features were detected.\n",
            "              Learn more about high cardinality feature handling: https://aka.ms/AutomatedMLFeaturization\n",
            "\n",
            "****************************************************************************************************\n",
            "\n",
            "****************************************************************************************************\n",
            "ITERATION: The iteration being evaluated.\n",
            "PIPELINE: A summary description of the pipeline being evaluated.\n",
            "DURATION: Time taken for the current iteration.\n",
            "METRIC: The result of computing score on the fitted pipeline.\n",
            "BEST: The best observed score thus far.\n",
            "****************************************************************************************************\n",
            "\n",
            " ITERATION   PIPELINE                                       DURATION      METRIC      BEST\n",
            "         4   MaxAbsScaler RandomForest                      0:00:42       0.8680    0.8680\n",
            "         1   MaxAbsScaler XGBoostClassifier                 0:00:48       0.9199    0.9199\n",
            "         0   MaxAbsScaler LightGBM                          0:00:53       0.9275    0.9275\n",
            "         5   MaxAbsScaler ExtremeRandomTrees                0:01:02       0.8671    0.9275\n",
            "         3   MaxAbsScaler RandomForest                      0:01:42       0.8800    0.9275\n",
            "         2   MaxAbsScaler RandomForest                      0:02:02       0.8923    0.9275\n",
            "         6   MaxAbsScaler ExtremeRandomTrees                0:00:43       0.8690    0.9275\n",
            "         7   MaxAbsScaler ExtremeRandomTrees                0:00:43       0.8710    0.9275\n",
            "         8   MaxAbsScaler RandomForest                      0:00:41       0.8808    0.9275\n",
            "        10   MaxAbsScaler RandomForest                      0:00:44       0.8645    0.9275\n",
            "         9   MaxAbsScaler ExtremeRandomTrees                0:01:03       0.8611    0.9275\n",
            "        11   MaxAbsScaler RandomForest                      0:00:32       0.8466    0.9275\n",
            "        12   MaxAbsScaler RandomForest                      0:00:44       0.8606    0.9275\n",
            "        13   StandardScalerWrapper XGBoostClassifier        0:00:42       0.9047    0.9275\n",
            "        14   MaxAbsScaler RandomForest                      0:00:40       0.8782    0.9275\n",
            "        15   StandardScalerWrapper ExtremeRandomTrees       0:00:43       0.8498    0.9275\n",
            "        16   MaxAbsScaler ExtremeRandomTrees                0:00:38       0.8616    0.9275\n",
            "        17   MaxAbsScaler ExtremeRandomTrees                0:00:44       0.8613    0.9275\n",
            "        18   MaxAbsScaler RandomForest                      0:00:40       0.8484    0.9275\n",
            "        19   MaxAbsScaler LightGBM                          0:00:42       0.9067    0.9275\n",
            "        20   StandardScalerWrapper XGBoostClassifier        0:00:44       0.9215    0.9275\n",
            "        21   MaxAbsScaler LightGBM                          0:00:42       0.9024    0.9275\n",
            "        22   MaxAbsScaler LightGBM                          0:00:52       0.9072    0.9275\n",
            "        23   StandardScalerWrapper XGBoostClassifier        0:01:30       0.9270    0.9275\n",
            "        24   StandardScalerWrapper XGBoostClassifier        0:00:51       0.9242    0.9275\n",
            "        25   StandardScalerWrapper LightGBM                 0:00:59       0.8939    0.9275\n",
            "        27   MaxAbsScaler LightGBM                          0:00:45       0.8980    0.9275\n",
            "        26   MaxAbsScaler LogisticRegression                0:01:33       0.9040    0.9275\n",
            "        28   MaxAbsScaler LightGBM                          0:00:54       0.9170    0.9275\n",
            "        29   StandardScalerWrapper LogisticRegression       0:00:49       0.9037    0.9275\n",
            "        31   MaxAbsScaler LogisticRegression                0:00:44       0.9040    0.9275\n",
            "        30   MaxAbsScaler LightGBM                          0:01:03       0.8504    0.9275\n",
            "        32   StandardScalerWrapper XGBoostClassifier        0:01:00       0.9268    0.9275\n",
            "        34   StandardScalerWrapper XGBoostClassifier        0:00:48       0.9282    0.9282\n",
            "        35   MaxAbsScaler LightGBM                          0:00:58       0.8743    0.9282\n",
            "        33   StandardScalerWrapper XGBoostClassifier        0:01:47       0.9271    0.9282\n",
            "        36   StandardScalerWrapper XGBoostClassifier        0:00:58       0.9284    0.9284\n",
            "        38   StandardScalerWrapper XGBoostClassifier        0:01:12       0.9266    0.9284\n",
            "        39   StandardScalerWrapper XGBoostClassifier        0:01:18       0.9265    0.9284\n",
            "        40   StandardScalerWrapper XGBoostClassifier        0:00:51       0.9275    0.9284\n",
            "        37   StandardScalerWrapper XGBoostClassifier        0:02:50       0.9256    0.9284\n",
            "        41   StandardScalerWrapper XGBoostClassifier        0:01:15       0.9263    0.9284\n",
            "        42   StandardScalerWrapper XGBoostClassifier        0:01:14       0.9272    0.9284\n",
            "        44   StandardScalerWrapper XGBoostClassifier        0:00:50       0.9268    0.9284\n",
            "        45   SparseNormalizer XGBoostClassifier             0:00:42       0.5000    0.9284\n",
            "        46   StandardScalerWrapper XGBoostClassifier        0:00:46       0.9290    0.9290\n",
            "        43   StandardScalerWrapper XGBoostClassifier        0:02:46       0.9230    0.9290\n",
            "        47   StandardScalerWrapper LogisticRegression       0:00:48       0.9040    0.9290\n",
            "        48   StandardScalerWrapper XGBoostClassifier        0:01:31       0.9057    0.9290\n",
            "        49   SparseNormalizer XGBoostClassifier             0:02:24       0.9244    0.9290\n",
            "        50   StandardScalerWrapper XGBoostClassifier        0:02:16       0.9243    0.9290\n",
            "        51   StandardScalerWrapper LightGBM                 0:00:48       0.9115    0.9290\n",
            "        52   StandardScalerWrapper XGBoostClassifier        0:00:59       0.9259    0.9290\n",
            "        54   StandardScalerWrapper XGBoostClassifier        0:00:54       0.9204    0.9290\n",
            "        53   StandardScalerWrapper XGBoostClassifier        0:01:09       0.9222    0.9290\n",
            "        57   StandardScalerWrapper XGBoostClassifier        0:00:43       0.9156    0.9290\n",
            "        56   StandardScalerWrapper XGBoostClassifier        0:01:05       0.9269    0.9290\n",
            "        55   StandardScalerWrapper XGBoostClassifier        0:01:18       0.9240    0.9290\n",
            "        58   StandardScalerWrapper XGBoostClassifier        0:00:47       0.9198    0.9290\n",
            "        59   StandardScalerWrapper XGBoostClassifier        0:01:10       0.9275    0.9290\n",
            "        60   StandardScalerWrapper XGBoostClassifier        0:00:54       0.9276    0.9290\n",
            "        61   StandardScalerWrapper XGBoostClassifier        0:00:56       0.9262    0.9290\n",
            "        62   SparseNormalizer XGBoostClassifier             0:00:55       0.9244    0.9290\n",
            "        63   StandardScalerWrapper XGBoostClassifier        0:00:59       0.9272    0.9290\n",
            "        64   StandardScalerWrapper XGBoostClassifier        0:00:28       0.9198    0.9290\n",
            "ERROR: {\n",
            "    \"additional_properties\": {},\n",
            "    \"error\": {\n",
            "        \"additional_properties\": {\n",
            "            \"debugInfo\": null\n",
            "        },\n",
            "        \"code\": \"UserError\",\n",
            "        \"severity\": null,\n",
            "        \"message\": \"Experiment timeout reached, please consider increasing your experiment timeout.\",\n",
            "        \"message_format\": \"Experiment timeout reached, please consider increasing your experiment timeout.\",\n",
            "        \"message_parameters\": {},\n",
            "        \"reference_code\": null,\n",
            "        \"details_uri\": null,\n",
            "        \"target\": null,\n",
            "        \"details\": [],\n",
            "        \"inner_error\": {\n",
            "            \"additional_properties\": {},\n",
            "            \"code\": \"ResourceExhausted\",\n",
            "            \"inner_error\": {\n",
            "                \"additional_properties\": {},\n",
            "                \"code\": \"Timeout\",\n",
            "                \"inner_error\": {\n",
            "                    \"additional_properties\": {},\n",
            "                    \"code\": \"ExperimentTimeoutForIterations\",\n",
            "                    \"inner_error\": null\n",
            "                }\n",
            "            }\n",
            "        },\n",
            "        \"additional_info\": null\n",
            "    },\n",
            "    \"correlation\": null,\n",
            "    \"environment\": null,\n",
            "    \"location\": null,\n",
            "    \"time\": {},\n",
            "    \"component_name\": null\n",
            "}\n",
            "        65                                                  0:01:17          nan    0.9290\n",
            "ERROR: {\n",
            "    \"additional_properties\": {},\n",
            "    \"error\": {\n",
            "        \"additional_properties\": {\n",
            "            \"debugInfo\": null\n",
            "        },\n",
            "        \"code\": \"UserError\",\n",
            "        \"severity\": null,\n",
            "        \"message\": \"Experiment timeout reached, please consider increasing your experiment timeout.\",\n",
            "        \"message_format\": \"Experiment timeout reached, please consider increasing your experiment timeout.\",\n",
            "        \"message_parameters\": {},\n",
            "        \"reference_code\": null,\n",
            "        \"details_uri\": null,\n",
            "        \"target\": null,\n",
            "        \"details\": [],\n",
            "        \"inner_error\": {\n",
            "            \"additional_properties\": {},\n",
            "            \"code\": \"ResourceExhausted\",\n",
            "            \"inner_error\": {\n",
            "                \"additional_properties\": {},\n",
            "                \"code\": \"Timeout\",\n",
            "                \"inner_error\": {\n",
            "                    \"additional_properties\": {},\n",
            "                    \"code\": \"ExperimentTimeoutForIterations\",\n",
            "                    \"inner_error\": null\n",
            "                }\n",
            "            }\n",
            "        },\n",
            "        \"additional_info\": null\n",
            "    },\n",
            "    \"correlation\": null,\n",
            "    \"environment\": null,\n",
            "    \"location\": null,\n",
            "    \"time\": {},\n",
            "    \"component_name\": null\n",
            "}\n",
            "        66                                                  0:00:38          nan    0.9290\n",
            "ERROR: {\n",
            "    \"additional_properties\": {},\n",
            "    \"error\": {\n",
            "        \"additional_properties\": {\n",
            "            \"debugInfo\": null\n",
            "        },\n",
            "        \"code\": \"UserError\",\n",
            "        \"severity\": null,\n",
            "        \"message\": \"Experiment timeout reached, please consider increasing your experiment timeout.\",\n",
            "        \"message_format\": \"Experiment timeout reached, please consider increasing your experiment timeout.\",\n",
            "        \"message_parameters\": {},\n",
            "        \"reference_code\": null,\n",
            "        \"details_uri\": null,\n",
            "        \"target\": null,\n",
            "        \"details\": [],\n",
            "        \"inner_error\": {\n",
            "            \"additional_properties\": {},\n",
            "            \"code\": \"ResourceExhausted\",\n",
            "            \"inner_error\": {\n",
            "                \"additional_properties\": {},\n",
            "                \"code\": \"Timeout\",\n",
            "                \"inner_error\": {\n",
            "                    \"additional_properties\": {},\n",
            "                    \"code\": \"ExperimentTimeoutForIterations\",\n",
            "                    \"inner_error\": null\n",
            "                }\n",
            "            }\n",
            "        },\n",
            "        \"additional_info\": null\n",
            "    },\n",
            "    \"correlation\": null,\n",
            "    \"environment\": null,\n",
            "    \"location\": null,\n",
            "    \"time\": {},\n",
            "    \"component_name\": null\n",
            "}\n",
            "        67                                                  0:00:16          nan    0.9290\n",
            "ERROR: {\n",
            "    \"additional_properties\": {},\n",
            "    \"error\": {\n",
            "        \"additional_properties\": {\n",
            "            \"debugInfo\": null\n",
            "        },\n",
            "        \"code\": \"UserError\",\n",
            "        \"severity\": null,\n",
            "        \"message\": \"Experiment timeout reached, please consider increasing your experiment timeout.\",\n",
            "        \"message_format\": \"Experiment timeout reached, please consider increasing your experiment timeout.\",\n",
            "        \"message_parameters\": {},\n",
            "        \"reference_code\": null,\n",
            "        \"details_uri\": null,\n",
            "        \"target\": null,\n",
            "        \"details\": [],\n",
            "        \"inner_error\": {\n",
            "            \"additional_properties\": {},\n",
            "            \"code\": \"ResourceExhausted\",\n",
            "            \"inner_error\": {\n",
            "                \"additional_properties\": {},\n",
            "                \"code\": \"Timeout\",\n",
            "                \"inner_error\": {\n",
            "                    \"additional_properties\": {},\n",
            "                    \"code\": \"ExperimentTimeoutForIterations\",\n",
            "                    \"inner_error\": null\n",
            "                }\n",
            "            }\n",
            "        },\n",
            "        \"additional_info\": null\n",
            "    },\n",
            "    \"correlation\": null,\n",
            "    \"environment\": null,\n",
            "    \"location\": null,\n",
            "    \"time\": {},\n",
            "    \"component_name\": null\n",
            "}\n",
            "        68    VotingEnsemble                                0:02:25       0.9292    0.9292\n",
            "        69    StackEnsemble                                 0:02:29       0.9291    0.9292\n"
          ]
        }
      ],
      "execution_count": 30,
      "metadata": {
        "gather": {
          "logged": 1626611248170
        },
        "jupyter": {
          "outputs_hidden": false,
          "source_hidden": false
        },
        "nteract": {
          "transient": {
            "deleting": false
          }
        }
      }
    },
    {
      "cell_type": "code",
      "source": [
        "from azureml.widgets import RunDetails\r\n",
        "RunDetails(automl_run).show()"
      ],
      "outputs": [
        {
          "output_type": "display_data",
          "data": {
            "text/plain": "_AutoMLWidget(widget_settings={'childWidgetDisplay': 'popup', 'send_telemetry': False, 'log_level': 'INFO', 's…",
            "application/vnd.jupyter.widget-view+json": {
              "version_major": 2,
              "version_minor": 0,
              "model_id": "ba4ad12b4ae840c9901d3eac9e41822f"
            }
          },
          "metadata": {}
        },
        {
          "output_type": "display_data",
          "data": {
            "application/aml.mini.widget.v1": "{\"status\": \"Completed\", \"workbench_run_details_uri\": \"https://ml.azure.com/runs/AutoML_8b7c9872-e139-4e02-a108-1643a9d139e7?wsid=/subscriptions/653662f1-95de-4498-b876-1fd625bf5d18/resourcegroups/udacitycapstone/workspaces/udacityws&tid=60e63508-9cfd-4013-9a1f-7610707b07ce\", \"run_id\": \"AutoML_8b7c9872-e139-4e02-a108-1643a9d139e7\", \"run_properties\": {\"run_id\": \"AutoML_8b7c9872-e139-4e02-a108-1643a9d139e7\", \"created_utc\": \"2021-07-18T11:45:01.278703Z\", \"properties\": {\"num_iterations\": \"1000\", \"training_type\": \"TrainFull\", \"acquisition_function\": \"EI\", \"primary_metric\": \"AUC_weighted\", \"train_split\": \"0\", \"acquisition_parameter\": \"0\", \"num_cross_validation\": \"5\", \"target\": \"cpu-cluster\", \"AMLSettingsJsonString\": \"{\\\"path\\\":null,\\\"name\\\":\\\"capstone\\\",\\\"subscription_id\\\":\\\"653662f1-95de-4498-b876-1fd625bf5d18\\\",\\\"resource_group\\\":\\\"udacitycapstone\\\",\\\"workspace_name\\\":\\\"udacityws\\\",\\\"region\\\":\\\"japaneast\\\",\\\"compute_target\\\":\\\"cpu-cluster\\\",\\\"spark_service\\\":null,\\\"azure_service\\\":\\\"remote\\\",\\\"many_models\\\":false,\\\"pipeline_fetch_max_batch_size\\\":1,\\\"enable_batch_run\\\":false,\\\"enable_run_restructure\\\":false,\\\"start_auxiliary_runs_before_parent_complete\\\":false,\\\"enable_code_generation\\\":false,\\\"iterations\\\":1000,\\\"primary_metric\\\":\\\"AUC_weighted\\\",\\\"task_type\\\":\\\"classification\\\",\\\"data_script\\\":null,\\\"test_size\\\":0.0,\\\"validation_size\\\":0.0,\\\"n_cross_validations\\\":5,\\\"y_min\\\":null,\\\"y_max\\\":null,\\\"num_classes\\\":null,\\\"featurization\\\":\\\"auto\\\",\\\"_ignore_package_version_incompatibilities\\\":false,\\\"is_timeseries\\\":false,\\\"max_cores_per_iteration\\\":1,\\\"max_concurrent_iterations\\\":5,\\\"iteration_timeout_minutes\\\":null,\\\"mem_in_mb\\\":null,\\\"enforce_time_on_windows\\\":false,\\\"experiment_timeout_minutes\\\":30,\\\"experiment_exit_score\\\":null,\\\"whitelist_models\\\":null,\\\"blacklist_algos\\\":[\\\"TensorFlowLinearClassifier\\\",\\\"TensorFlowDNN\\\"],\\\"supported_models\\\":[\\\"LightGBM\\\",\\\"GradientBoosting\\\",\\\"RandomForest\\\",\\\"TensorFlowLinearClassifier\\\",\\\"AveragedPerceptronClassifier\\\",\\\"LinearSVM\\\",\\\"KNN\\\",\\\"TensorFlowDNN\\\",\\\"LogisticRegression\\\",\\\"DecisionTree\\\",\\\"XGBoostClassifier\\\",\\\"MultinomialNaiveBayes\\\",\\\"ExtremeRandomTrees\\\",\\\"SGD\\\",\\\"BernoulliNaiveBayes\\\",\\\"SVM\\\"],\\\"private_models\\\":[],\\\"auto_blacklist\\\":true,\\\"blacklist_samples_reached\\\":false,\\\"exclude_nan_labels\\\":true,\\\"verbosity\\\":20,\\\"_debug_log\\\":\\\"azureml_automl.log\\\",\\\"show_warnings\\\":false,\\\"model_explainability\\\":true,\\\"service_url\\\":null,\\\"sdk_url\\\":null,\\\"sdk_packages\\\":null,\\\"enable_onnx_compatible_models\\\":false,\\\"enable_split_onnx_featurizer_estimator_models\\\":false,\\\"vm_type\\\":\\\"STANDARD_D2_V2\\\",\\\"telemetry_verbosity\\\":20,\\\"send_telemetry\\\":true,\\\"enable_dnn\\\":false,\\\"scenario\\\":\\\"SDK-1.13.0\\\",\\\"environment_label\\\":null,\\\"save_mlflow\\\":false,\\\"force_text_dnn\\\":false,\\\"enable_feature_sweeping\\\":true,\\\"enable_early_stopping\\\":false,\\\"early_stopping_n_iters\\\":10,\\\"metrics\\\":null,\\\"enable_metric_confidence\\\":false,\\\"enable_ensembling\\\":true,\\\"enable_stack_ensembling\\\":true,\\\"ensemble_iterations\\\":15,\\\"enable_tf\\\":false,\\\"enable_subsampling\\\":null,\\\"subsample_seed\\\":null,\\\"enable_nimbusml\\\":false,\\\"enable_streaming\\\":false,\\\"force_streaming\\\":false,\\\"track_child_runs\\\":true,\\\"allowed_private_models\\\":[],\\\"label_column_name\\\":\\\"income\\\",\\\"weight_column_name\\\":null,\\\"cv_split_column_names\\\":null,\\\"enable_local_managed\\\":false,\\\"_local_managed_run_id\\\":null,\\\"cost_mode\\\":1,\\\"lag_length\\\":0,\\\"metric_operation\\\":\\\"maximize\\\",\\\"preprocess\\\":true}\", \"DataPrepJsonString\": \"{\\\\\\\"training_data\\\\\\\": {\\\\\\\"datasetId\\\\\\\": \\\\\\\"fa0687fd-3726-4831-863a-18a8ccfd8f14\\\\\\\"}, \\\\\\\"datasets\\\\\\\": 0}\", \"EnableSubsampling\": null, \"runTemplate\": \"AutoML\", \"azureml.runsource\": \"automl\", \"display_task_type\": \"classification\", \"dependencies_versions\": \"{\\\"azureml-widgets\\\": \\\"1.31.0\\\", \\\"azureml-train\\\": \\\"1.31.0\\\", \\\"azureml-train-restclients-hyperdrive\\\": \\\"1.31.0\\\", \\\"azureml-train-core\\\": \\\"1.31.0\\\", \\\"azureml-train-automl\\\": \\\"1.31.0\\\", \\\"azureml-train-automl-runtime\\\": \\\"1.31.0\\\", \\\"azureml-train-automl-client\\\": \\\"1.31.0\\\", \\\"azureml-tensorboard\\\": \\\"1.31.0\\\", \\\"azureml-telemetry\\\": \\\"1.31.0\\\", \\\"azureml-sdk\\\": \\\"1.31.0\\\", \\\"azureml-samples\\\": \\\"0+unknown\\\", \\\"azureml-responsibleai\\\": \\\"1.31.0\\\", \\\"azureml-pipeline\\\": \\\"1.31.0\\\", \\\"azureml-pipeline-steps\\\": \\\"1.31.0\\\", \\\"azureml-pipeline-core\\\": \\\"1.31.0\\\", \\\"azureml-opendatasets\\\": \\\"1.31.0\\\", \\\"azureml-model-management-sdk\\\": \\\"1.0.1b6.post1\\\", \\\"azureml-mlflow\\\": \\\"1.31.0\\\", \\\"azureml-interpret\\\": \\\"1.31.0\\\", \\\"azureml-explain-model\\\": \\\"1.31.0\\\", \\\"azureml-defaults\\\": \\\"1.31.0\\\", \\\"azureml-dataset-runtime\\\": \\\"1.31.0\\\", \\\"azureml-dataprep\\\": \\\"2.18.0\\\", \\\"azureml-dataprep-rslex\\\": \\\"1.16.1\\\", \\\"azureml-dataprep-native\\\": \\\"36.0.0\\\", \\\"azureml-datadrift\\\": \\\"1.31.0\\\", \\\"azureml-core\\\": \\\"1.31.0\\\", \\\"azureml-contrib-services\\\": \\\"1.31.0\\\", \\\"azureml-contrib-server\\\": \\\"1.31.0\\\", \\\"azureml-contrib-reinforcementlearning\\\": \\\"1.31.0\\\", \\\"azureml-contrib-pipeline-steps\\\": \\\"1.31.0\\\", \\\"azureml-contrib-notebook\\\": \\\"1.31.0\\\", \\\"azureml-contrib-fairness\\\": \\\"1.31.0\\\", \\\"azureml-contrib-dataset\\\": \\\"1.31.0\\\", \\\"azureml-cli-common\\\": \\\"1.31.0\\\", \\\"azureml-automl-runtime\\\": \\\"1.31.0\\\", \\\"azureml-automl-dnn-nlp\\\": \\\"1.31.0\\\", \\\"azureml-automl-core\\\": \\\"1.31.0\\\", \\\"azureml-accel-models\\\": \\\"1.31.0\\\"}\", \"_aml_system_scenario_identification\": \"Remote.Parent\", \"ClientType\": \"SDK\", \"environment_cpu_name\": \"AzureML-AutoML\", \"environment_cpu_label\": \"prod\", \"environment_gpu_name\": \"AzureML-AutoML-GPU\", \"environment_gpu_label\": \"prod\", \"root_attribution\": \"automl\", \"attribution\": \"AutoML\", \"Orchestrator\": \"AutoML\", \"CancelUri\": \"https://japaneast.api.azureml.ms/jasmine/v1.0/subscriptions/653662f1-95de-4498-b876-1fd625bf5d18/resourceGroups/udacitycapstone/providers/Microsoft.MachineLearningServices/workspaces/udacityws/experimentids/71e58e51-6b4e-48f1-9863-62022f60b877/cancel/AutoML_8b7c9872-e139-4e02-a108-1643a9d139e7\", \"ClientSdkVersion\": \"1.32.0\", \"snapshotId\": \"00000000-0000-0000-0000-000000000000\", \"SetupRunId\": \"AutoML_8b7c9872-e139-4e02-a108-1643a9d139e7_setup\", \"SetupRunContainerId\": \"dcid.AutoML_8b7c9872-e139-4e02-a108-1643a9d139e7_setup\", \"FeaturizationRunJsonPath\": \"featurizer_container.json\", \"FeaturizationRunId\": \"AutoML_8b7c9872-e139-4e02-a108-1643a9d139e7_featurize\", \"ProblemInfoJsonString\": \"{\\\"dataset_num_categorical\\\": 0, \\\"is_sparse\\\": true, \\\"subsampling\\\": false, \\\"has_extra_col\\\": true, \\\"dataset_classes\\\": 2, \\\"dataset_features\\\": 102, \\\"dataset_samples\\\": 45222, \\\"single_frequency_class_detected\\\": false}\", \"ModelExplainRunId\": \"AutoML_8b7c9872-e139-4e02-a108-1643a9d139e7_ModelExplain\", \"azureml.git.repository_uri\": \"https://github.com/HajimeK/nd00333-capstone\", \"mlflow.source.git.repoURL\": \"https://github.com/HajimeK/nd00333-capstone\", \"azureml.git.branch\": \"master\", \"mlflow.source.git.branch\": \"master\", \"azureml.git.commit\": \"bb8bb394f2d1a40e23f582b5c1b308628e329b33\", \"mlflow.source.git.commit\": \"bb8bb394f2d1a40e23f582b5c1b308628e329b33\", \"azureml.git.dirty\": \"True\"}, \"tags\": {\"model_explain_run\": \"best_run\", \"_aml_system_azureml.automlComponent\": \"AutoML\", \"pipeline_id\": \"\", \"score\": \"\", \"predicted_cost\": \"\", \"fit_time\": \"\", \"training_percent\": \"\", \"iteration\": \"\", \"run_preprocessor\": \"\", \"run_algorithm\": \"\", \"dynamic_whitelisting_iterations\": \"<25>;<30>;<35>;<40>;<45>;<50>;<55>;<60>;<65>;\", \"automl_best_child_run_id\": \"AutoML_8b7c9872-e139-4e02-a108-1643a9d139e7_68\", \"model_explain_best_run_child_id\": \"AutoML_8b7c9872-e139-4e02-a108-1643a9d139e7_68\"}, \"end_time_utc\": \"2021-07-18T12:27:03.829253Z\", \"status\": \"Completed\", \"log_files\": {}, \"log_groups\": [], \"run_duration\": \"0:42:02\", \"run_number\": \"46\", \"run_queued_details\": {\"status\": \"Completed\", \"details\": null}}, \"child_runs\": [{\"run_id\": \"AutoML_8b7c9872-e139-4e02-a108-1643a9d139e7_4\", \"run_number\": 50, \"metric\": null, \"status\": \"Completed\", \"run_type\": \"azureml.scriptrun\", \"training_percent\": \"100\", \"start_time\": \"2021-07-18T11:54:27.675293Z\", \"end_time\": \"2021-07-18T11:55:09.49935Z\", \"created_time\": \"2021-07-18T11:54:15.795039Z\", \"created_time_dt\": \"2021-07-18T11:54:15.795039Z\", \"duration\": \"0:00:53\", \"iteration\": \"4\", \"goal\": \"AUC_weighted_max\", \"run_name\": \"MaxAbsScaler, RandomForest\", \"run_properties\": \"copy=True\", \"primary_metric\": 0.86800656, \"best_metric\": 0.92748893}, {\"run_id\": \"AutoML_8b7c9872-e139-4e02-a108-1643a9d139e7_0\", \"run_number\": 51, \"metric\": null, \"status\": \"Completed\", \"run_type\": \"azureml.scriptrun\", \"training_percent\": \"100\", \"start_time\": \"2021-07-18T11:56:30.4906Z\", \"end_time\": \"2021-07-18T11:57:23.794443Z\", \"created_time\": \"2021-07-18T11:54:15.837128Z\", \"created_time_dt\": \"2021-07-18T11:54:15.837128Z\", \"duration\": \"0:03:07\", \"iteration\": \"0\", \"goal\": \"AUC_weighted_max\", \"run_name\": \"MaxAbsScaler, LightGBM\", \"run_properties\": \"copy=True\", \"primary_metric\": 0.92748893, \"best_metric\": 0.92748893}, {\"run_id\": \"AutoML_8b7c9872-e139-4e02-a108-1643a9d139e7_3\", \"run_number\": 52, \"metric\": null, \"status\": \"Completed\", \"run_type\": \"azureml.scriptrun\", \"training_percent\": \"100\", \"start_time\": \"2021-07-18T11:57:09.650021Z\", \"end_time\": \"2021-07-18T11:58:52.094472Z\", \"created_time\": \"2021-07-18T11:54:15.849149Z\", \"created_time_dt\": \"2021-07-18T11:54:15.849149Z\", \"duration\": \"0:04:36\", \"iteration\": \"3\", \"goal\": \"AUC_weighted_max\", \"run_name\": \"MaxAbsScaler, RandomForest\", \"run_properties\": \"copy=True\", \"primary_metric\": 0.88001441, \"best_metric\": 0.92748893}, {\"run_id\": \"AutoML_8b7c9872-e139-4e02-a108-1643a9d139e7_1\", \"run_number\": 53, \"metric\": null, \"status\": \"Completed\", \"run_type\": \"azureml.scriptrun\", \"training_percent\": \"100\", \"start_time\": \"2021-07-18T11:55:26.563538Z\", \"end_time\": \"2021-07-18T11:56:14.398489Z\", \"created_time\": \"2021-07-18T11:54:15.842453Z\", \"created_time_dt\": \"2021-07-18T11:54:15.842453Z\", \"duration\": \"0:01:58\", \"iteration\": \"1\", \"goal\": \"AUC_weighted_max\", \"run_name\": \"MaxAbsScaler, XGBoostClassifier\", \"run_properties\": \"copy=True\", \"primary_metric\": 0.91986815, \"best_metric\": 0.92748893}, {\"run_id\": \"AutoML_8b7c9872-e139-4e02-a108-1643a9d139e7_2\", \"run_number\": 54, \"metric\": null, \"status\": \"Completed\", \"run_type\": \"azureml.scriptrun\", \"training_percent\": \"100\", \"start_time\": \"2021-07-18T11:57:09.436007Z\", \"end_time\": \"2021-07-18T11:59:10.949144Z\", \"created_time\": \"2021-07-18T11:54:15.854828Z\", \"created_time_dt\": \"2021-07-18T11:54:15.854828Z\", \"duration\": \"0:04:55\", \"iteration\": \"2\", \"goal\": \"AUC_weighted_max\", \"run_name\": \"MaxAbsScaler, RandomForest\", \"run_properties\": \"copy=True\", \"primary_metric\": 0.89231538, \"best_metric\": 0.92748893}, {\"run_id\": \"AutoML_8b7c9872-e139-4e02-a108-1643a9d139e7_5\", \"run_number\": 55, \"metric\": null, \"status\": \"Completed\", \"run_type\": \"azureml.scriptrun\", \"training_percent\": \"100\", \"start_time\": \"2021-07-18T11:57:40.844234Z\", \"end_time\": \"2021-07-18T11:58:42.357184Z\", \"created_time\": \"2021-07-18T11:55:12.830932Z\", \"created_time_dt\": \"2021-07-18T11:55:12.830932Z\", \"duration\": \"0:03:29\", \"iteration\": \"5\", \"goal\": \"AUC_weighted_max\", \"run_name\": \"MaxAbsScaler, ExtremeRandomTrees\", \"run_properties\": \"copy=True\", \"primary_metric\": 0.86710419, \"best_metric\": 0.92748893}, {\"run_id\": \"AutoML_8b7c9872-e139-4e02-a108-1643a9d139e7_6\", \"run_number\": 56, \"metric\": null, \"status\": \"Completed\", \"run_type\": \"azureml.scriptrun\", \"training_percent\": \"100\", \"start_time\": \"2021-07-18T11:58:59.575165Z\", \"end_time\": \"2021-07-18T11:59:42.80684Z\", \"created_time\": \"2021-07-18T11:56:17.282456Z\", \"created_time_dt\": \"2021-07-18T11:56:17.282456Z\", \"duration\": \"0:03:25\", \"iteration\": \"6\", \"goal\": \"AUC_weighted_max\", \"run_name\": \"MaxAbsScaler, ExtremeRandomTrees\", \"run_properties\": \"copy=True\", \"primary_metric\": 0.86895264, \"best_metric\": 0.92748893}, {\"run_id\": \"AutoML_8b7c9872-e139-4e02-a108-1643a9d139e7_7\", \"run_number\": 57, \"metric\": null, \"status\": \"Completed\", \"run_type\": \"azureml.scriptrun\", \"training_percent\": \"100\", \"start_time\": \"2021-07-18T11:59:08.658321Z\", \"end_time\": \"2021-07-18T11:59:51.243746Z\", \"created_time\": \"2021-07-18T11:57:26.825006Z\", \"created_time_dt\": \"2021-07-18T11:57:26.825006Z\", \"duration\": \"0:02:24\", \"iteration\": \"7\", \"goal\": \"AUC_weighted_max\", \"run_name\": \"MaxAbsScaler, ExtremeRandomTrees\", \"run_properties\": \"copy=True\", \"primary_metric\": 0.87104793, \"best_metric\": 0.92748893}, {\"run_id\": \"AutoML_8b7c9872-e139-4e02-a108-1643a9d139e7_8\", \"run_number\": 58, \"metric\": null, \"status\": \"Completed\", \"run_type\": \"azureml.scriptrun\", \"training_percent\": \"100\", \"start_time\": \"2021-07-18T11:59:27.062081Z\", \"end_time\": \"2021-07-18T12:00:08.169287Z\", \"created_time\": \"2021-07-18T11:58:45.397915Z\", \"created_time_dt\": \"2021-07-18T11:58:45.397915Z\", \"duration\": \"0:01:22\", \"iteration\": \"8\", \"goal\": \"AUC_weighted_max\", \"run_name\": \"MaxAbsScaler, RandomForest\", \"run_properties\": \"copy=True\", \"primary_metric\": 0.88084171, \"best_metric\": 0.92748893}, {\"run_id\": \"AutoML_8b7c9872-e139-4e02-a108-1643a9d139e7_9\", \"run_number\": 59, \"metric\": null, \"status\": \"Completed\", \"run_type\": \"azureml.scriptrun\", \"training_percent\": \"100\", \"start_time\": \"2021-07-18T11:59:52.943545Z\", \"end_time\": \"2021-07-18T12:00:56.167163Z\", \"created_time\": \"2021-07-18T11:58:55.006258Z\", \"created_time_dt\": \"2021-07-18T11:58:55.006258Z\", \"duration\": \"0:02:01\", \"iteration\": \"9\", \"goal\": \"AUC_weighted_max\", \"run_name\": \"MaxAbsScaler, ExtremeRandomTrees\", \"run_properties\": \"copy=True\", \"primary_metric\": 0.86107026, \"best_metric\": 0.92748893}, {\"run_id\": \"AutoML_8b7c9872-e139-4e02-a108-1643a9d139e7_10\", \"run_number\": 60, \"metric\": null, \"status\": \"Completed\", \"run_type\": \"azureml.scriptrun\", \"training_percent\": \"100\", \"start_time\": \"2021-07-18T12:00:05.443178Z\", \"end_time\": \"2021-07-18T12:00:49.480354Z\", \"created_time\": \"2021-07-18T11:59:24.155847Z\", \"created_time_dt\": \"2021-07-18T11:59:24.155847Z\", \"duration\": \"0:01:25\", \"iteration\": \"10\", \"goal\": \"AUC_weighted_max\", \"run_name\": \"MaxAbsScaler, RandomForest\", \"run_properties\": \"copy=True\", \"primary_metric\": 0.86451207, \"best_metric\": 0.92748893}, {\"run_id\": \"AutoML_8b7c9872-e139-4e02-a108-1643a9d139e7_11\", \"run_number\": 61, \"metric\": null, \"status\": \"Completed\", \"run_type\": \"azureml.scriptrun\", \"training_percent\": \"100\", \"start_time\": \"2021-07-18T12:00:32.670371Z\", \"end_time\": \"2021-07-18T12:01:05.117614Z\", \"created_time\": \"2021-07-18T11:59:45.748121Z\", \"created_time_dt\": \"2021-07-18T11:59:45.748121Z\", \"duration\": \"0:01:19\", \"iteration\": \"11\", \"goal\": \"AUC_weighted_max\", \"run_name\": \"MaxAbsScaler, RandomForest\", \"run_properties\": \"copy=True\", \"primary_metric\": 0.84655329, \"best_metric\": 0.92748893}, {\"run_id\": \"AutoML_8b7c9872-e139-4e02-a108-1643a9d139e7_12\", \"run_number\": 62, \"metric\": null, \"status\": \"Completed\", \"run_type\": \"azureml.scriptrun\", \"training_percent\": \"100\", \"start_time\": \"2021-07-18T12:01:02.631066Z\", \"end_time\": \"2021-07-18T12:01:46.55852Z\", \"created_time\": \"2021-07-18T11:59:54.055035Z\", \"created_time_dt\": \"2021-07-18T11:59:54.055035Z\", \"duration\": \"0:01:52\", \"iteration\": \"12\", \"goal\": \"AUC_weighted_max\", \"run_name\": \"MaxAbsScaler, RandomForest\", \"run_properties\": \"copy=True\", \"primary_metric\": 0.86060431, \"best_metric\": 0.92748893}, {\"run_id\": \"AutoML_8b7c9872-e139-4e02-a108-1643a9d139e7_13\", \"run_number\": 63, \"metric\": null, \"status\": \"Completed\", \"run_type\": \"azureml.scriptrun\", \"training_percent\": \"100\", \"start_time\": \"2021-07-18T12:01:11.497994Z\", \"end_time\": \"2021-07-18T12:01:53.452291Z\", \"created_time\": \"2021-07-18T12:00:11.123297Z\", \"created_time_dt\": \"2021-07-18T12:00:11.123297Z\", \"duration\": \"0:01:42\", \"iteration\": \"13\", \"goal\": \"AUC_weighted_max\", \"run_name\": \"StandardScalerWrapper, XGBoostClassifier\", \"run_properties\": \"\\n    copy=True,\\n    with_mean=False,\\n    with_std=False\\n\", \"primary_metric\": 0.90467616, \"best_metric\": 0.92748893}, {\"run_id\": \"AutoML_8b7c9872-e139-4e02-a108-1643a9d139e7_14\", \"run_number\": 64, \"metric\": null, \"status\": \"Completed\", \"run_type\": \"azureml.scriptrun\", \"training_percent\": \"100\", \"start_time\": \"2021-07-18T12:01:19.341781Z\", \"end_time\": \"2021-07-18T12:01:59.745931Z\", \"created_time\": \"2021-07-18T12:00:52.452479Z\", \"created_time_dt\": \"2021-07-18T12:00:52.452479Z\", \"duration\": \"0:01:07\", \"iteration\": \"14\", \"goal\": \"AUC_weighted_max\", \"run_name\": \"MaxAbsScaler, RandomForest\", \"run_properties\": \"copy=True\", \"primary_metric\": 0.87819483, \"best_metric\": 0.92748893}, {\"run_id\": \"AutoML_8b7c9872-e139-4e02-a108-1643a9d139e7_15\", \"run_number\": 65, \"metric\": null, \"status\": \"Completed\", \"run_type\": \"azureml.scriptrun\", \"training_percent\": \"100\", \"start_time\": \"2021-07-18T12:02:02.649061Z\", \"end_time\": \"2021-07-18T12:02:45.19195Z\", \"created_time\": \"2021-07-18T12:00:59.080061Z\", \"created_time_dt\": \"2021-07-18T12:00:59.080061Z\", \"duration\": \"0:01:46\", \"iteration\": \"15\", \"goal\": \"AUC_weighted_max\", \"run_name\": \"StandardScalerWrapper, ExtremeRandomTrees\", \"run_properties\": \"\\n    copy=True,\\n    with_mean=False,\\n    with_std=False\\n\", \"primary_metric\": 0.8498429, \"best_metric\": 0.92748893}, {\"run_id\": \"AutoML_8b7c9872-e139-4e02-a108-1643a9d139e7_16\", \"run_number\": 66, \"metric\": null, \"status\": \"Completed\", \"run_type\": \"azureml.scriptrun\", \"training_percent\": \"100\", \"start_time\": \"2021-07-18T12:02:07.871322Z\", \"end_time\": \"2021-07-18T12:02:46.28074Z\", \"created_time\": \"2021-07-18T12:01:08.036462Z\", \"created_time_dt\": \"2021-07-18T12:01:08.036462Z\", \"duration\": \"0:01:38\", \"iteration\": \"16\", \"goal\": \"AUC_weighted_max\", \"run_name\": \"MaxAbsScaler, ExtremeRandomTrees\", \"run_properties\": \"copy=True\", \"primary_metric\": 0.86162377, \"best_metric\": 0.92748893}, {\"run_id\": \"AutoML_8b7c9872-e139-4e02-a108-1643a9d139e7_17\", \"run_number\": 67, \"metric\": null, \"status\": \"Completed\", \"run_type\": \"azureml.scriptrun\", \"training_percent\": \"100\", \"start_time\": \"2021-07-18T12:02:18.03854Z\", \"end_time\": \"2021-07-18T12:03:01.835888Z\", \"created_time\": \"2021-07-18T12:01:50.134119Z\", \"created_time_dt\": \"2021-07-18T12:01:50.134119Z\", \"duration\": \"0:01:11\", \"iteration\": \"17\", \"goal\": \"AUC_weighted_max\", \"run_name\": \"MaxAbsScaler, ExtremeRandomTrees\", \"run_properties\": \"copy=True\", \"primary_metric\": 0.86127647, \"best_metric\": 0.92748893}, {\"run_id\": \"AutoML_8b7c9872-e139-4e02-a108-1643a9d139e7_18\", \"run_number\": 68, \"metric\": null, \"status\": \"Completed\", \"run_type\": \"azureml.scriptrun\", \"training_percent\": \"100\", \"start_time\": \"2021-07-18T12:03:02.679393Z\", \"end_time\": \"2021-07-18T12:03:42.201743Z\", \"created_time\": \"2021-07-18T12:01:57.005876Z\", \"created_time_dt\": \"2021-07-18T12:01:57.005876Z\", \"duration\": \"0:01:45\", \"iteration\": \"18\", \"goal\": \"AUC_weighted_max\", \"run_name\": \"MaxAbsScaler, RandomForest\", \"run_properties\": \"copy=True\", \"primary_metric\": 0.84841077, \"best_metric\": 0.92748893}, {\"run_id\": \"AutoML_8b7c9872-e139-4e02-a108-1643a9d139e7_19\", \"run_number\": 69, \"metric\": null, \"status\": \"Completed\", \"run_type\": \"azureml.scriptrun\", \"training_percent\": \"100\", \"start_time\": \"2021-07-18T12:03:02.662371Z\", \"end_time\": \"2021-07-18T12:03:44.594236Z\", \"created_time\": \"2021-07-18T12:02:02.701091Z\", \"created_time_dt\": \"2021-07-18T12:02:02.701091Z\", \"duration\": \"0:01:41\", \"iteration\": \"19\", \"goal\": \"AUC_weighted_max\", \"run_name\": \"MaxAbsScaler, LightGBM\", \"run_properties\": \"copy=True\", \"primary_metric\": 0.90674136, \"best_metric\": 0.92748893}, {\"run_id\": \"AutoML_8b7c9872-e139-4e02-a108-1643a9d139e7_20\", \"run_number\": 70, \"metric\": null, \"status\": \"Completed\", \"run_type\": \"azureml.scriptrun\", \"training_percent\": \"100\", \"start_time\": \"2021-07-18T12:03:16.118997Z\", \"end_time\": \"2021-07-18T12:04:00.026409Z\", \"created_time\": \"2021-07-18T12:02:48.071283Z\", \"created_time_dt\": \"2021-07-18T12:02:48.071283Z\", \"duration\": \"0:01:11\", \"iteration\": \"20\", \"goal\": \"AUC_weighted_max\", \"run_name\": \"StandardScalerWrapper, XGBoostClassifier\", \"run_properties\": \"\\n    copy=True,\\n    with_mean=False,\\n    with_std=False\\n\", \"primary_metric\": 0.92147648, \"best_metric\": 0.92748893}, {\"run_id\": \"AutoML_8b7c9872-e139-4e02-a108-1643a9d139e7_21\", \"run_number\": 71, \"metric\": null, \"status\": \"Completed\", \"run_type\": \"azureml.scriptrun\", \"training_percent\": \"100\", \"start_time\": \"2021-07-18T12:03:58.789045Z\", \"end_time\": \"2021-07-18T12:04:40.444471Z\", \"created_time\": \"2021-07-18T12:02:51.686166Z\", \"created_time_dt\": \"2021-07-18T12:02:51.686166Z\", \"duration\": \"0:01:48\", \"iteration\": \"21\", \"goal\": \"AUC_weighted_max\", \"run_name\": \"MaxAbsScaler, LightGBM\", \"run_properties\": \"copy=True\", \"primary_metric\": 0.90242252, \"best_metric\": 0.92748893}, {\"run_id\": \"AutoML_8b7c9872-e139-4e02-a108-1643a9d139e7_22\", \"run_number\": 72, \"metric\": null, \"status\": \"Completed\", \"run_type\": \"azureml.scriptrun\", \"training_percent\": \"100\", \"start_time\": \"2021-07-18T12:04:15.425864Z\", \"end_time\": \"2021-07-18T12:05:07.599576Z\", \"created_time\": \"2021-07-18T12:03:03.747028Z\", \"created_time_dt\": \"2021-07-18T12:03:03.747028Z\", \"duration\": \"0:02:03\", \"iteration\": \"22\", \"goal\": \"AUC_weighted_max\", \"run_name\": \"MaxAbsScaler, LightGBM\", \"run_properties\": \"copy=True\", \"primary_metric\": 0.90723994, \"best_metric\": 0.92748893}, {\"run_id\": \"AutoML_8b7c9872-e139-4e02-a108-1643a9d139e7_23\", \"run_number\": 73, \"metric\": null, \"status\": \"Completed\", \"run_type\": \"azureml.scriptrun\", \"training_percent\": \"100\", \"start_time\": \"2021-07-18T12:04:21.724754Z\", \"end_time\": \"2021-07-18T12:05:51.655139Z\", \"created_time\": \"2021-07-18T12:03:43.979272Z\", \"created_time_dt\": \"2021-07-18T12:03:43.979272Z\", \"duration\": \"0:02:07\", \"iteration\": \"23\", \"goal\": \"AUC_weighted_max\", \"run_name\": \"StandardScalerWrapper, XGBoostClassifier\", \"run_properties\": \"\\n    copy=True,\\n    with_mean=False,\\n    with_std=False\\n\", \"primary_metric\": 0.92695726, \"best_metric\": 0.92748893}, {\"run_id\": \"AutoML_8b7c9872-e139-4e02-a108-1643a9d139e7_24\", \"run_number\": 74, \"metric\": null, \"status\": \"Completed\", \"run_type\": \"azureml.scriptrun\", \"training_percent\": \"100\", \"start_time\": \"2021-07-18T12:04:55.659425Z\", \"end_time\": \"2021-07-18T12:05:47.00425Z\", \"created_time\": \"2021-07-18T12:03:47.034924Z\", \"created_time_dt\": \"2021-07-18T12:03:47.034924Z\", \"duration\": \"0:01:59\", \"iteration\": \"24\", \"goal\": \"AUC_weighted_max\", \"run_name\": \"StandardScalerWrapper, XGBoostClassifier\", \"run_properties\": \"\\n    copy=True,\\n    with_mean=False,\\n    with_std=False\\n\", \"primary_metric\": 0.92417195, \"best_metric\": 0.92748893}, {\"run_id\": \"AutoML_8b7c9872-e139-4e02-a108-1643a9d139e7_25\", \"run_number\": 75, \"metric\": null, \"status\": \"Completed\", \"run_type\": \"azureml.scriptrun\", \"training_percent\": \"100\", \"start_time\": \"2021-07-18T12:05:24.137473Z\", \"end_time\": \"2021-07-18T12:06:22.899329Z\", \"created_time\": \"2021-07-18T12:04:02.858709Z\", \"created_time_dt\": \"2021-07-18T12:04:02.858709Z\", \"duration\": \"0:02:20\", \"iteration\": \"25\", \"goal\": \"AUC_weighted_max\", \"run_name\": \"StandardScalerWrapper, LightGBM\", \"run_properties\": \"\\n    copy=True,\\n    with_mean=False,\\n    with_std=True\\n\", \"primary_metric\": 0.89390388, \"best_metric\": 0.92748893}, {\"run_id\": \"AutoML_8b7c9872-e139-4e02-a108-1643a9d139e7_26\", \"run_number\": 76, \"metric\": null, \"status\": \"Completed\", \"run_type\": \"azureml.scriptrun\", \"training_percent\": \"100\", \"start_time\": \"2021-07-18T12:06:00.536347Z\", \"end_time\": \"2021-07-18T12:07:33.115974Z\", \"created_time\": \"2021-07-18T12:04:42.193734Z\", \"created_time_dt\": \"2021-07-18T12:04:42.193734Z\", \"duration\": \"0:02:50\", \"iteration\": \"26\", \"goal\": \"AUC_weighted_max\", \"run_name\": \"MaxAbsScaler, LogisticRegression\", \"run_properties\": \"copy=True\", \"primary_metric\": 0.90401396, \"best_metric\": 0.92748893}, {\"run_id\": \"AutoML_8b7c9872-e139-4e02-a108-1643a9d139e7_27\", \"run_number\": 77, \"metric\": null, \"status\": \"Completed\", \"run_type\": \"azureml.scriptrun\", \"training_percent\": \"100\", \"start_time\": \"2021-07-18T12:06:10.447723Z\", \"end_time\": \"2021-07-18T12:06:55.940432Z\", \"created_time\": \"2021-07-18T12:05:09.582805Z\", \"created_time_dt\": \"2021-07-18T12:05:09.582805Z\", \"duration\": \"0:01:46\", \"iteration\": \"27\", \"goal\": \"AUC_weighted_max\", \"run_name\": \"MaxAbsScaler, LightGBM\", \"run_properties\": \"copy=True\", \"primary_metric\": 0.89800748, \"best_metric\": 0.92748893}, {\"run_id\": \"AutoML_8b7c9872-e139-4e02-a108-1643a9d139e7_28\", \"run_number\": 78, \"metric\": null, \"status\": \"Completed\", \"run_type\": \"azureml.scriptrun\", \"training_percent\": \"100\", \"start_time\": \"2021-07-18T12:06:40.255102Z\", \"end_time\": \"2021-07-18T12:07:34.263392Z\", \"created_time\": \"2021-07-18T12:05:48.958396Z\", \"created_time_dt\": \"2021-07-18T12:05:48.958396Z\", \"duration\": \"0:01:45\", \"iteration\": \"28\", \"goal\": \"AUC_weighted_max\", \"run_name\": \"MaxAbsScaler, LightGBM\", \"run_properties\": \"copy=True\", \"primary_metric\": 0.9169665, \"best_metric\": 0.92748893}, {\"run_id\": \"AutoML_8b7c9872-e139-4e02-a108-1643a9d139e7_29\", \"run_number\": 79, \"metric\": null, \"status\": \"Completed\", \"run_type\": \"azureml.scriptrun\", \"training_percent\": \"100\", \"start_time\": \"2021-07-18T12:07:09.259949Z\", \"end_time\": \"2021-07-18T12:07:58.321349Z\", \"created_time\": \"2021-07-18T12:05:53.674253Z\", \"created_time_dt\": \"2021-07-18T12:05:53.674253Z\", \"duration\": \"0:02:04\", \"iteration\": \"29\", \"goal\": \"AUC_weighted_max\", \"run_name\": \"StandardScalerWrapper, LogisticRegression\", \"run_properties\": \"\\n    copy=True,\\n    with_mean=False,\\n    with_std=True\\n\", \"primary_metric\": 0.9037248, \"best_metric\": 0.92748893}, {\"run_id\": \"AutoML_8b7c9872-e139-4e02-a108-1643a9d139e7_30\", \"run_number\": 80, \"metric\": null, \"status\": \"Completed\", \"run_type\": \"azureml.scriptrun\", \"training_percent\": \"100\", \"start_time\": \"2021-07-18T12:07:47.555553Z\", \"end_time\": \"2021-07-18T12:08:50.448604Z\", \"created_time\": \"2021-07-18T12:06:25.847138Z\", \"created_time_dt\": \"2021-07-18T12:06:25.847138Z\", \"duration\": \"0:02:24\", \"iteration\": \"30\", \"goal\": \"AUC_weighted_max\", \"run_name\": \"MaxAbsScaler, LightGBM\", \"run_properties\": \"copy=True\", \"primary_metric\": 0.85038463, \"best_metric\": 0.92748893}, {\"run_id\": \"AutoML_8b7c9872-e139-4e02-a108-1643a9d139e7_31\", \"run_number\": 81, \"metric\": null, \"status\": \"Completed\", \"run_type\": \"azureml.scriptrun\", \"training_percent\": \"100\", \"start_time\": \"2021-07-18T12:07:49.172209Z\", \"end_time\": \"2021-07-18T12:08:32.791736Z\", \"created_time\": \"2021-07-18T12:06:57.75538Z\", \"created_time_dt\": \"2021-07-18T12:06:57.75538Z\", \"duration\": \"0:01:35\", \"iteration\": \"31\", \"goal\": \"AUC_weighted_max\", \"run_name\": \"MaxAbsScaler, LogisticRegression\", \"run_properties\": \"copy=True\", \"primary_metric\": 0.90402761, \"best_metric\": 0.92748893}, {\"run_id\": \"AutoML_8b7c9872-e139-4e02-a108-1643a9d139e7_32\", \"run_number\": 82, \"metric\": null, \"status\": \"Completed\", \"run_type\": \"azureml.scriptrun\", \"training_percent\": \"100\", \"start_time\": \"2021-07-18T12:08:13.070561Z\", \"end_time\": \"2021-07-18T12:09:13.264096Z\", \"created_time\": \"2021-07-18T12:07:35.070408Z\", \"created_time_dt\": \"2021-07-18T12:07:35.070408Z\", \"duration\": \"0:01:38\", \"iteration\": \"32\", \"goal\": \"AUC_weighted_max\", \"run_name\": \"StandardScalerWrapper, XGBoostClassifier\", \"run_properties\": \"\\n    copy=True,\\n    with_mean=False,\\n    with_std=False\\n\", \"primary_metric\": 0.92677903, \"best_metric\": 0.92748893}, {\"run_id\": \"AutoML_8b7c9872-e139-4e02-a108-1643a9d139e7_33\", \"run_number\": 83, \"metric\": null, \"status\": \"Completed\", \"run_type\": \"azureml.scriptrun\", \"training_percent\": \"100\", \"start_time\": \"2021-07-18T12:08:47.000244Z\", \"end_time\": \"2021-07-18T12:10:33.602405Z\", \"created_time\": \"2021-07-18T12:07:38.239301Z\", \"created_time_dt\": \"2021-07-18T12:07:38.239301Z\", \"duration\": \"0:02:55\", \"iteration\": \"33\", \"goal\": \"AUC_weighted_max\", \"run_name\": \"StandardScalerWrapper, XGBoostClassifier\", \"run_properties\": \"\\n    copy=True,\\n    with_mean=False,\\n    with_std=False\\n\", \"primary_metric\": 0.92712635, \"best_metric\": 0.92748893}, {\"run_id\": \"AutoML_8b7c9872-e139-4e02-a108-1643a9d139e7_34\", \"run_number\": 84, \"metric\": null, \"status\": \"Completed\", \"run_type\": \"azureml.scriptrun\", \"training_percent\": \"100\", \"start_time\": \"2021-07-18T12:09:08.963011Z\", \"end_time\": \"2021-07-18T12:09:56.540131Z\", \"created_time\": \"2021-07-18T12:08:00.226639Z\", \"created_time_dt\": \"2021-07-18T12:08:00.226639Z\", \"duration\": \"0:01:56\", \"iteration\": \"34\", \"goal\": \"AUC_weighted_max\", \"run_name\": \"StandardScalerWrapper, XGBoostClassifier\", \"run_properties\": \"\\n    copy=True,\\n    with_mean=False,\\n    with_std=False\\n\", \"primary_metric\": 0.92816275, \"best_metric\": 0.92816275}, {\"run_id\": \"AutoML_8b7c9872-e139-4e02-a108-1643a9d139e7_35\", \"run_number\": 85, \"metric\": null, \"status\": \"Completed\", \"run_type\": \"azureml.scriptrun\", \"training_percent\": \"100\", \"start_time\": \"2021-07-18T12:09:30.094128Z\", \"end_time\": \"2021-07-18T12:10:28.545527Z\", \"created_time\": \"2021-07-18T12:08:35.798108Z\", \"created_time_dt\": \"2021-07-18T12:08:35.798108Z\", \"duration\": \"0:01:52\", \"iteration\": \"35\", \"goal\": \"AUC_weighted_max\", \"run_name\": \"MaxAbsScaler, LightGBM\", \"run_properties\": \"copy=True\", \"primary_metric\": 0.87432168, \"best_metric\": 0.92816275}, {\"run_id\": \"AutoML_8b7c9872-e139-4e02-a108-1643a9d139e7_36\", \"run_number\": 86, \"metric\": null, \"status\": \"Completed\", \"run_type\": \"azureml.scriptrun\", \"training_percent\": \"100\", \"start_time\": \"2021-07-18T12:10:10.795503Z\", \"end_time\": \"2021-07-18T12:11:08.751148Z\", \"created_time\": \"2021-07-18T12:08:52.400264Z\", \"created_time_dt\": \"2021-07-18T12:08:52.400264Z\", \"duration\": \"0:02:16\", \"iteration\": \"36\", \"goal\": \"AUC_weighted_max\", \"run_name\": \"StandardScalerWrapper, XGBoostClassifier\", \"run_properties\": \"\\n    copy=True,\\n    with_mean=False,\\n    with_std=False\\n\", \"primary_metric\": 0.92835412, \"best_metric\": 0.92835412}, {\"run_id\": \"AutoML_8b7c9872-e139-4e02-a108-1643a9d139e7_37\", \"run_number\": 87, \"metric\": null, \"status\": \"Completed\", \"run_type\": \"azureml.scriptrun\", \"training_percent\": \"100\", \"start_time\": \"2021-07-18T12:10:40.456131Z\", \"end_time\": \"2021-07-18T12:13:30.296186Z\", \"created_time\": \"2021-07-18T12:09:15.096219Z\", \"created_time_dt\": \"2021-07-18T12:09:15.096219Z\", \"duration\": \"0:04:15\", \"iteration\": \"37\", \"goal\": \"AUC_weighted_max\", \"run_name\": \"StandardScalerWrapper, XGBoostClassifier\", \"run_properties\": \"\\n    copy=True,\\n    with_mean=False,\\n    with_std=False\\n\", \"primary_metric\": 0.92560493, \"best_metric\": 0.92835412}, {\"run_id\": \"AutoML_8b7c9872-e139-4e02-a108-1643a9d139e7_38\", \"run_number\": 88, \"metric\": null, \"status\": \"Completed\", \"run_type\": \"azureml.scriptrun\", \"training_percent\": \"100\", \"start_time\": \"2021-07-18T12:10:48.316325Z\", \"end_time\": \"2021-07-18T12:12:00.512496Z\", \"created_time\": \"2021-07-18T12:09:59.458518Z\", \"created_time_dt\": \"2021-07-18T12:09:59.458518Z\", \"duration\": \"0:02:01\", \"iteration\": \"38\", \"goal\": \"AUC_weighted_max\", \"run_name\": \"StandardScalerWrapper, XGBoostClassifier\", \"run_properties\": \"\\n    copy=True,\\n    with_mean=False,\\n    with_std=False\\n\", \"primary_metric\": 0.92658147, \"best_metric\": 0.92835412}, {\"run_id\": \"AutoML_8b7c9872-e139-4e02-a108-1643a9d139e7_39\", \"run_number\": 89, \"metric\": null, \"status\": \"Completed\", \"run_type\": \"azureml.scriptrun\", \"training_percent\": \"100\", \"start_time\": \"2021-07-18T12:11:24.703448Z\", \"end_time\": \"2021-07-18T12:12:42.59303Z\", \"created_time\": \"2021-07-18T12:10:30.537748Z\", \"created_time_dt\": \"2021-07-18T12:10:30.537748Z\", \"duration\": \"0:02:12\", \"iteration\": \"39\", \"goal\": \"AUC_weighted_max\", \"run_name\": \"StandardScalerWrapper, XGBoostClassifier\", \"run_properties\": \"\\n    copy=True,\\n    with_mean=False,\\n    with_std=False\\n\", \"primary_metric\": 0.92650773, \"best_metric\": 0.92835412}, {\"run_id\": \"AutoML_8b7c9872-e139-4e02-a108-1643a9d139e7_40\", \"run_number\": 90, \"metric\": null, \"status\": \"Completed\", \"run_type\": \"azureml.scriptrun\", \"training_percent\": \"100\", \"start_time\": \"2021-07-18T12:12:15.39152Z\", \"end_time\": \"2021-07-18T12:13:05.928705Z\", \"created_time\": \"2021-07-18T12:10:37.17299Z\", \"created_time_dt\": \"2021-07-18T12:10:37.17299Z\", \"duration\": \"0:02:28\", \"iteration\": \"40\", \"goal\": \"AUC_weighted_max\", \"run_name\": \"StandardScalerWrapper, XGBoostClassifier\", \"run_properties\": \"\\n    copy=True,\\n    with_mean=False,\\n    with_std=False\\n\", \"primary_metric\": 0.9274758, \"best_metric\": 0.92835412}, {\"run_id\": \"AutoML_8b7c9872-e139-4e02-a108-1643a9d139e7_41\", \"run_number\": 91, \"metric\": null, \"status\": \"Completed\", \"run_type\": \"azureml.scriptrun\", \"training_percent\": \"100\", \"start_time\": \"2021-07-18T12:12:56.55427Z\", \"end_time\": \"2021-07-18T12:14:11.413554Z\", \"created_time\": \"2021-07-18T12:11:10.756251Z\", \"created_time_dt\": \"2021-07-18T12:11:10.756251Z\", \"duration\": \"0:03:00\", \"iteration\": \"41\", \"goal\": \"AUC_weighted_max\", \"run_name\": \"StandardScalerWrapper, XGBoostClassifier\", \"run_properties\": \"\\n    copy=True,\\n    with_mean=False,\\n    with_std=False\\n\", \"primary_metric\": 0.92633671, \"best_metric\": 0.92835412}, {\"run_id\": \"AutoML_8b7c9872-e139-4e02-a108-1643a9d139e7_42\", \"run_number\": 92, \"metric\": null, \"status\": \"Completed\", \"run_type\": \"azureml.scriptrun\", \"training_percent\": \"100\", \"start_time\": \"2021-07-18T12:13:18.710712Z\", \"end_time\": \"2021-07-18T12:14:32.766621Z\", \"created_time\": \"2021-07-18T12:12:02.447351Z\", \"created_time_dt\": \"2021-07-18T12:12:02.447351Z\", \"duration\": \"0:02:30\", \"iteration\": \"42\", \"goal\": \"AUC_weighted_max\", \"run_name\": \"StandardScalerWrapper, XGBoostClassifier\", \"run_properties\": \"\\n    copy=True,\\n    with_mean=False,\\n    with_std=False\\n\", \"primary_metric\": 0.92724283, \"best_metric\": 0.92835412}, {\"run_id\": \"AutoML_8b7c9872-e139-4e02-a108-1643a9d139e7_43\", \"run_number\": 93, \"metric\": null, \"status\": \"Completed\", \"run_type\": \"azureml.scriptrun\", \"training_percent\": \"100\", \"start_time\": \"2021-07-18T12:13:39.406419Z\", \"end_time\": \"2021-07-18T12:16:25.74153Z\", \"created_time\": \"2021-07-18T12:12:44.543539Z\", \"created_time_dt\": \"2021-07-18T12:12:44.543539Z\", \"duration\": \"0:03:41\", \"iteration\": \"43\", \"goal\": \"AUC_weighted_max\", \"run_name\": \"StandardScalerWrapper, XGBoostClassifier\", \"run_properties\": \"\\n    copy=True,\\n    with_mean=False,\\n    with_std=False\\n\", \"primary_metric\": 0.92301398, \"best_metric\": 0.92835412}, {\"run_id\": \"AutoML_8b7c9872-e139-4e02-a108-1643a9d139e7_44\", \"run_number\": 94, \"metric\": null, \"status\": \"Completed\", \"run_type\": \"azureml.scriptrun\", \"training_percent\": \"100\", \"start_time\": \"2021-07-18T12:14:26.266884Z\", \"end_time\": \"2021-07-18T12:15:16.104125Z\", \"created_time\": \"2021-07-18T12:13:07.839629Z\", \"created_time_dt\": \"2021-07-18T12:13:07.839629Z\", \"duration\": \"0:02:08\", \"iteration\": \"44\", \"goal\": \"AUC_weighted_max\", \"run_name\": \"StandardScalerWrapper, XGBoostClassifier\", \"run_properties\": \"\\n    copy=True,\\n    with_mean=False,\\n    with_std=False\\n\", \"primary_metric\": 0.92682236, \"best_metric\": 0.92835412}, {\"run_id\": \"AutoML_8b7c9872-e139-4e02-a108-1643a9d139e7_45\", \"run_number\": 95, \"metric\": null, \"status\": \"Completed\", \"run_type\": \"azureml.scriptrun\", \"training_percent\": \"100\", \"start_time\": \"2021-07-18T12:14:51.33307Z\", \"end_time\": \"2021-07-18T12:15:33.438547Z\", \"created_time\": \"2021-07-18T12:13:33.190575Z\", \"created_time_dt\": \"2021-07-18T12:13:33.190575Z\", \"duration\": \"0:02:00\", \"iteration\": \"45\", \"goal\": \"AUC_weighted_max\", \"run_name\": \"SparseNormalizer, XGBoostClassifier\", \"run_properties\": \"copy=True, norm='max'\", \"primary_metric\": 0.5, \"best_metric\": 0.92835412}, {\"run_id\": \"AutoML_8b7c9872-e139-4e02-a108-1643a9d139e7_46\", \"run_number\": 96, \"metric\": null, \"status\": \"Completed\", \"run_type\": \"azureml.scriptrun\", \"training_percent\": \"100\", \"start_time\": \"2021-07-18T12:15:32.650948Z\", \"end_time\": \"2021-07-18T12:16:18.727037Z\", \"created_time\": \"2021-07-18T12:14:13.590266Z\", \"created_time_dt\": \"2021-07-18T12:14:13.590266Z\", \"duration\": \"0:02:05\", \"iteration\": \"46\", \"goal\": \"AUC_weighted_max\", \"run_name\": \"StandardScalerWrapper, XGBoostClassifier\", \"run_properties\": \"\\n    copy=True,\\n    with_mean=False,\\n    with_std=False\\n\", \"primary_metric\": 0.92900346, \"best_metric\": 0.92900346}, {\"run_id\": \"AutoML_8b7c9872-e139-4e02-a108-1643a9d139e7_47\", \"run_number\": 97, \"metric\": null, \"status\": \"Completed\", \"run_type\": \"azureml.scriptrun\", \"training_percent\": \"100\", \"start_time\": \"2021-07-18T12:15:47.105257Z\", \"end_time\": \"2021-07-18T12:16:35.43632Z\", \"created_time\": \"2021-07-18T12:14:34.76063Z\", \"created_time_dt\": \"2021-07-18T12:14:34.76063Z\", \"duration\": \"0:02:00\", \"iteration\": \"47\", \"goal\": \"AUC_weighted_max\", \"run_name\": \"StandardScalerWrapper, LogisticRegression\", \"run_properties\": \"\\n    copy=True,\\n    with_mean=False,\\n    with_std=True\\n\", \"primary_metric\": 0.90400048, \"best_metric\": 0.92900346}, {\"run_id\": \"AutoML_8b7c9872-e139-4e02-a108-1643a9d139e7_48\", \"run_number\": 98, \"metric\": null, \"status\": \"Completed\", \"run_type\": \"azureml.scriptrun\", \"training_percent\": \"100\", \"start_time\": \"2021-07-18T12:16:33.118146Z\", \"end_time\": \"2021-07-18T12:18:04.250076Z\", \"created_time\": \"2021-07-18T12:15:18.041373Z\", \"created_time_dt\": \"2021-07-18T12:15:18.041373Z\", \"duration\": \"0:02:46\", \"iteration\": \"48\", \"goal\": \"AUC_weighted_max\", \"run_name\": \"StandardScalerWrapper, XGBoostClassifier\", \"run_properties\": \"\\n    copy=True,\\n    with_mean=False,\\n    with_std=False\\n\", \"primary_metric\": 0.90565118, \"best_metric\": 0.92900346}, {\"run_id\": \"AutoML_8b7c9872-e139-4e02-a108-1643a9d139e7_49\", \"run_number\": 99, \"metric\": null, \"status\": \"Completed\", \"run_type\": \"azureml.scriptrun\", \"training_percent\": \"100\", \"start_time\": \"2021-07-18T12:16:41.970292Z\", \"end_time\": \"2021-07-18T12:19:06.20914Z\", \"created_time\": \"2021-07-18T12:15:35.488177Z\", \"created_time_dt\": \"2021-07-18T12:15:35.488177Z\", \"duration\": \"0:03:30\", \"iteration\": \"49\", \"goal\": \"AUC_weighted_max\", \"run_name\": \"SparseNormalizer, XGBoostClassifier\", \"run_properties\": \"copy=True, norm='l2'\", \"primary_metric\": 0.92440895, \"best_metric\": 0.92900346}, {\"run_id\": \"AutoML_8b7c9872-e139-4e02-a108-1643a9d139e7_50\", \"run_number\": 100, \"metric\": null, \"status\": \"Completed\", \"run_type\": \"azureml.scriptrun\", \"training_percent\": \"100\", \"start_time\": \"2021-07-18T12:16:48.852167Z\", \"end_time\": \"2021-07-18T12:19:05.230891Z\", \"created_time\": \"2021-07-18T12:16:21.644782Z\", \"created_time_dt\": \"2021-07-18T12:16:21.644782Z\", \"duration\": \"0:02:43\", \"iteration\": \"50\", \"goal\": \"AUC_weighted_max\", \"run_name\": \"StandardScalerWrapper, XGBoostClassifier\", \"run_properties\": \"\\n    copy=True,\\n    with_mean=False,\\n    with_std=False\\n\", \"primary_metric\": 0.92430029, \"best_metric\": 0.92900346}, {\"run_id\": \"AutoML_8b7c9872-e139-4e02-a108-1643a9d139e7_51\", \"run_number\": 101, \"metric\": null, \"status\": \"Completed\", \"run_type\": \"azureml.scriptrun\", \"training_percent\": \"100\", \"start_time\": \"2021-07-18T12:18:17.475237Z\", \"end_time\": \"2021-07-18T12:19:05.747019Z\", \"created_time\": \"2021-07-18T12:16:27.670419Z\", \"created_time_dt\": \"2021-07-18T12:16:27.670419Z\", \"duration\": \"0:02:38\", \"iteration\": \"51\", \"goal\": \"AUC_weighted_max\", \"run_name\": \"StandardScalerWrapper, LightGBM\", \"run_properties\": \"\\n    copy=True,\\n    with_mean=False,\\n    with_std=True\\n\", \"primary_metric\": 0.91154877, \"best_metric\": 0.92900346}, {\"run_id\": \"AutoML_8b7c9872-e139-4e02-a108-1643a9d139e7_52\", \"run_number\": 102, \"metric\": null, \"status\": \"Completed\", \"run_type\": \"azureml.scriptrun\", \"training_percent\": \"100\", \"start_time\": \"2021-07-18T12:19:19.003553Z\", \"end_time\": \"2021-07-18T12:20:18.07673Z\", \"created_time\": \"2021-07-18T12:16:37.326439Z\", \"created_time_dt\": \"2021-07-18T12:16:37.326439Z\", \"duration\": \"0:03:40\", \"iteration\": \"52\", \"goal\": \"AUC_weighted_max\", \"run_name\": \"StandardScalerWrapper, XGBoostClassifier\", \"run_properties\": \"\\n    copy=True,\\n    with_mean=False,\\n    with_std=False\\n\", \"primary_metric\": 0.92592298, \"best_metric\": 0.92900346}, {\"run_id\": \"AutoML_8b7c9872-e139-4e02-a108-1643a9d139e7_53\", \"run_number\": 103, \"metric\": null, \"status\": \"Completed\", \"run_type\": \"azureml.scriptrun\", \"training_percent\": \"100\", \"start_time\": \"2021-07-18T12:19:21.008834Z\", \"end_time\": \"2021-07-18T12:20:30.369985Z\", \"created_time\": \"2021-07-18T12:18:06.152279Z\", \"created_time_dt\": \"2021-07-18T12:18:06.152279Z\", \"duration\": \"0:02:24\", \"iteration\": \"53\", \"goal\": \"AUC_weighted_max\", \"run_name\": \"StandardScalerWrapper, XGBoostClassifier\", \"run_properties\": \"\\n    copy=True,\\n    with_mean=False,\\n    with_std=False\\n\", \"primary_metric\": 0.92216175, \"best_metric\": 0.92900346}, {\"run_id\": \"AutoML_8b7c9872-e139-4e02-a108-1643a9d139e7_54\", \"run_number\": 104, \"metric\": null, \"status\": \"Completed\", \"run_type\": \"azureml.scriptrun\", \"training_percent\": \"100\", \"start_time\": \"2021-07-18T12:19:19.94047Z\", \"end_time\": \"2021-07-18T12:20:13.983619Z\", \"created_time\": \"2021-07-18T12:19:07.219499Z\", \"created_time_dt\": \"2021-07-18T12:19:07.219499Z\", \"duration\": \"0:01:06\", \"iteration\": \"54\", \"goal\": \"AUC_weighted_max\", \"run_name\": \"StandardScalerWrapper, XGBoostClassifier\", \"run_properties\": \"\\n    copy=True,\\n    with_mean=False,\\n    with_std=False\\n\", \"primary_metric\": 0.92040425, \"best_metric\": 0.92900346}, {\"run_id\": \"AutoML_8b7c9872-e139-4e02-a108-1643a9d139e7_55\", \"run_number\": 105, \"metric\": null, \"status\": \"Completed\", \"run_type\": \"azureml.scriptrun\", \"training_percent\": \"100\", \"start_time\": \"2021-07-18T12:20:41.404297Z\", \"end_time\": \"2021-07-18T12:21:59.623613Z\", \"created_time\": \"2021-07-18T12:19:12.343331Z\", \"created_time_dt\": \"2021-07-18T12:19:12.343331Z\", \"duration\": \"0:02:47\", \"iteration\": \"55\", \"goal\": \"AUC_weighted_max\", \"run_name\": \"StandardScalerWrapper, XGBoostClassifier\", \"run_properties\": \"\\n    copy=True,\\n    with_mean=False,\\n    with_std=False\\n\", \"primary_metric\": 0.92401007, \"best_metric\": 0.92900346}, {\"run_id\": \"AutoML_8b7c9872-e139-4e02-a108-1643a9d139e7_56\", \"run_number\": 106, \"metric\": null, \"status\": \"Completed\", \"run_type\": \"azureml.scriptrun\", \"training_percent\": \"100\", \"start_time\": \"2021-07-18T12:20:27.993913Z\", \"end_time\": \"2021-07-18T12:21:33.127755Z\", \"created_time\": \"2021-07-18T12:19:12.370701Z\", \"created_time_dt\": \"2021-07-18T12:19:12.370701Z\", \"duration\": \"0:02:20\", \"iteration\": \"56\", \"goal\": \"AUC_weighted_max\", \"run_name\": \"StandardScalerWrapper, XGBoostClassifier\", \"run_properties\": \"\\n    copy=True,\\n    with_mean=False,\\n    with_std=False\\n\", \"primary_metric\": 0.92692894, \"best_metric\": 0.92900346}, {\"run_id\": \"AutoML_8b7c9872-e139-4e02-a108-1643a9d139e7_57\", \"run_number\": 107, \"metric\": null, \"status\": \"Completed\", \"run_type\": \"azureml.scriptrun\", \"training_percent\": \"100\", \"start_time\": \"2021-07-18T12:20:41.782595Z\", \"end_time\": \"2021-07-18T12:21:24.958574Z\", \"created_time\": \"2021-07-18T12:20:15.96522Z\", \"created_time_dt\": \"2021-07-18T12:20:15.96522Z\", \"duration\": \"0:01:08\", \"iteration\": \"57\", \"goal\": \"AUC_weighted_max\", \"run_name\": \"StandardScalerWrapper, XGBoostClassifier\", \"run_properties\": \"\\n    copy=True,\\n    with_mean=False,\\n    with_std=False\\n\", \"primary_metric\": 0.915647, \"best_metric\": 0.92900346}, {\"run_id\": \"AutoML_8b7c9872-e139-4e02-a108-1643a9d139e7_58\", \"run_number\": 108, \"metric\": null, \"status\": \"Completed\", \"run_type\": \"azureml.scriptrun\", \"training_percent\": \"100\", \"start_time\": \"2021-07-18T12:21:44.636032Z\", \"end_time\": \"2021-07-18T12:22:31.956468Z\", \"created_time\": \"2021-07-18T12:20:20.045805Z\", \"created_time_dt\": \"2021-07-18T12:20:20.045805Z\", \"duration\": \"0:02:11\", \"iteration\": \"58\", \"goal\": \"AUC_weighted_max\", \"run_name\": \"StandardScalerWrapper, XGBoostClassifier\", \"run_properties\": \"\\n    copy=True,\\n    with_mean=False,\\n    with_std=False\\n\", \"primary_metric\": 0.91981852, \"best_metric\": 0.92900346}, {\"run_id\": \"AutoML_8b7c9872-e139-4e02-a108-1643a9d139e7_59\", \"run_number\": 109, \"metric\": null, \"status\": \"Completed\", \"run_type\": \"azureml.scriptrun\", \"training_percent\": \"100\", \"start_time\": \"2021-07-18T12:21:49.403761Z\", \"end_time\": \"2021-07-18T12:22:59.09745Z\", \"created_time\": \"2021-07-18T12:20:32.731554Z\", \"created_time_dt\": \"2021-07-18T12:20:32.731554Z\", \"duration\": \"0:02:26\", \"iteration\": \"59\", \"goal\": \"AUC_weighted_max\", \"run_name\": \"StandardScalerWrapper, XGBoostClassifier\", \"run_properties\": \"\\n    copy=True,\\n    with_mean=False,\\n    with_std=False\\n\", \"primary_metric\": 0.92750784, \"best_metric\": 0.92900346}, {\"run_id\": \"AutoML_8b7c9872-e139-4e02-a108-1643a9d139e7_60\", \"run_number\": 110, \"metric\": null, \"status\": \"Completed\", \"run_type\": \"azureml.scriptrun\", \"training_percent\": \"100\", \"start_time\": \"2021-07-18T12:22:09.080324Z\", \"end_time\": \"2021-07-18T12:23:03.163164Z\", \"created_time\": \"2021-07-18T12:21:28.184632Z\", \"created_time_dt\": \"2021-07-18T12:21:28.184632Z\", \"duration\": \"0:01:34\", \"iteration\": \"60\", \"goal\": \"AUC_weighted_max\", \"run_name\": \"StandardScalerWrapper, XGBoostClassifier\", \"run_properties\": \"\\n    copy=True,\\n    with_mean=False,\\n    with_std=False\\n\", \"primary_metric\": 0.9276228, \"best_metric\": 0.92900346}, {\"run_id\": \"AutoML_8b7c9872-e139-4e02-a108-1643a9d139e7_61\", \"run_number\": 111, \"metric\": null, \"status\": \"Completed\", \"run_type\": \"azureml.scriptrun\", \"training_percent\": \"100\", \"start_time\": \"2021-07-18T12:22:46.768234Z\", \"end_time\": \"2021-07-18T12:23:42.851551Z\", \"created_time\": \"2021-07-18T12:21:35.057394Z\", \"created_time_dt\": \"2021-07-18T12:21:35.057394Z\", \"duration\": \"0:02:07\", \"iteration\": \"61\", \"goal\": \"AUC_weighted_max\", \"run_name\": \"StandardScalerWrapper, XGBoostClassifier\", \"run_properties\": \"\\n    copy=True,\\n    with_mean=False,\\n    with_std=False\\n\", \"primary_metric\": 0.92619137, \"best_metric\": 0.92900346}, {\"run_id\": \"AutoML_8b7c9872-e139-4e02-a108-1643a9d139e7_62\", \"run_number\": 112, \"metric\": null, \"status\": \"Completed\", \"run_type\": \"azureml.scriptrun\", \"training_percent\": \"100\", \"start_time\": \"2021-07-18T12:23:10.254571Z\", \"end_time\": \"2021-07-18T12:24:05.499413Z\", \"created_time\": \"2021-07-18T12:22:01.571804Z\", \"created_time_dt\": \"2021-07-18T12:22:01.571804Z\", \"duration\": \"0:02:03\", \"iteration\": \"62\", \"goal\": \"AUC_weighted_max\", \"run_name\": \"SparseNormalizer, XGBoostClassifier\", \"run_properties\": \"copy=True, norm='max'\", \"primary_metric\": 0.92438815, \"best_metric\": 0.92900346}, {\"run_id\": \"AutoML_8b7c9872-e139-4e02-a108-1643a9d139e7_63\", \"run_number\": 113, \"metric\": null, \"status\": \"Completed\", \"run_type\": \"azureml.scriptrun\", \"training_percent\": \"100\", \"start_time\": \"2021-07-18T12:23:18.192514Z\", \"end_time\": \"2021-07-18T12:24:16.908357Z\", \"created_time\": \"2021-07-18T12:22:34.276638Z\", \"created_time_dt\": \"2021-07-18T12:22:34.276638Z\", \"duration\": \"0:01:42\", \"iteration\": \"63\", \"goal\": \"AUC_weighted_max\", \"run_name\": \"StandardScalerWrapper, XGBoostClassifier\", \"run_properties\": \"\\n    copy=True,\\n    with_mean=False,\\n    with_std=False\\n\", \"primary_metric\": 0.92720322, \"best_metric\": 0.92900346}, {\"run_id\": \"AutoML_8b7c9872-e139-4e02-a108-1643a9d139e7_64\", \"run_number\": 114, \"metric\": null, \"status\": \"Canceled\", \"run_type\": \"azureml.scriptrun\", \"training_percent\": \"100\", \"start_time\": \"2021-07-18T12:23:54.979117Z\", \"end_time\": \"2021-07-18T12:24:23.279518Z\", \"created_time\": \"2021-07-18T12:23:00.960357Z\", \"created_time_dt\": \"2021-07-18T12:23:00.960357Z\", \"duration\": \"0:01:22\", \"iteration\": \"64\", \"goal\": \"AUC_weighted_max\", \"run_name\": \"StandardScalerWrapper, XGBoostClassifier\", \"run_properties\": \"\\n    copy=True,\\n    with_mean=False,\\n    with_std=False\\n\", \"primary_metric\": 0.91976861, \"best_metric\": 0.92900346}, {\"run_id\": \"AutoML_8b7c9872-e139-4e02-a108-1643a9d139e7_65\", \"run_number\": 115, \"metric\": null, \"status\": \"Canceled\", \"run_type\": \"azureml.scriptrun\", \"training_percent\": \"100\", \"start_time\": \"2021-07-18T12:23:06.443242Z\", \"end_time\": \"2021-07-18T12:24:23.396811Z\", \"created_time\": \"2021-07-18T12:23:06.443242Z\", \"created_time_dt\": \"2021-07-18T12:23:06.443242Z\", \"duration\": \"0:01:16\", \"iteration\": \"65\", \"goal\": null, \"run_name\": \"Canceled\", \"run_properties\": null}, {\"run_id\": \"AutoML_8b7c9872-e139-4e02-a108-1643a9d139e7_66\", \"run_number\": 116, \"metric\": null, \"status\": \"Canceled\", \"run_type\": \"azureml.scriptrun\", \"training_percent\": \"100\", \"start_time\": \"2021-07-18T12:23:44.905453Z\", \"end_time\": \"2021-07-18T12:24:23.333652Z\", \"created_time\": \"2021-07-18T12:23:44.905453Z\", \"created_time_dt\": \"2021-07-18T12:23:44.905453Z\", \"duration\": \"0:00:38\", \"iteration\": \"66\", \"goal\": null, \"run_name\": \"Canceled\", \"run_properties\": null}, {\"run_id\": \"AutoML_8b7c9872-e139-4e02-a108-1643a9d139e7_67\", \"run_number\": 117, \"metric\": null, \"status\": \"Canceled\", \"run_type\": \"azureml.scriptrun\", \"training_percent\": \"100\", \"start_time\": \"2021-07-18T12:24:07.320429Z\", \"end_time\": \"2021-07-18T12:24:23.297685Z\", \"created_time\": \"2021-07-18T12:24:07.320429Z\", \"created_time_dt\": \"2021-07-18T12:24:07.320429Z\", \"duration\": \"0:00:15\", \"iteration\": \"67\", \"goal\": null, \"run_name\": \"Canceled\", \"run_properties\": null}, {\"run_id\": \"AutoML_8b7c9872-e139-4e02-a108-1643a9d139e7_68\", \"run_number\": 118, \"metric\": null, \"status\": \"Completed\", \"run_type\": \"azureml.scriptrun\", \"training_percent\": \"100\", \"start_time\": \"2021-07-18T12:24:32.662764Z\", \"end_time\": \"2021-07-18T12:26:57.648276Z\", \"created_time\": \"2021-07-18T12:24:24.321781Z\", \"created_time_dt\": \"2021-07-18T12:24:24.321781Z\", \"duration\": \"0:02:33\", \"iteration\": \"68\", \"goal\": \"AUC_weighted_max\", \"run_name\": \"VotingEnsemble\", \"run_properties\": \"\\n    estimators=[('46', Pipeline(memory=None,\\n             steps=[('standardscalerwrapper',\\n                     StandardScalerWrapper(\\n        copy=True,\\n        with_mean=False,\\n        with_std=False\\n    \", \"primary_metric\": 0.92921663, \"best_metric\": 0.92921663}, {\"run_id\": \"AutoML_8b7c9872-e139-4e02-a108-1643a9d139e7_69\", \"run_number\": 119, \"metric\": null, \"status\": \"Completed\", \"run_type\": \"azureml.scriptrun\", \"training_percent\": \"100\", \"start_time\": \"2021-07-18T12:24:32.232719Z\", \"end_time\": \"2021-07-18T12:27:01.488312Z\", \"created_time\": \"2021-07-18T12:24:24.354712Z\", \"created_time_dt\": \"2021-07-18T12:24:24.354712Z\", \"duration\": \"0:02:37\", \"iteration\": \"69\", \"goal\": \"AUC_weighted_max\", \"run_name\": \"StackEnsemble\", \"run_properties\": \"\\n    base_learners=[('46', Pipeline(memory=None,\\n             steps=[('standardscalerwrapper',\\n                     StandardScalerWrapper(\\n        copy=True,\\n        with_mean=False,\\n        with_std=False\\n    \", \"primary_metric\": 0.92910684, \"best_metric\": 0.92921663}], \"children_metrics\": {\"categories\": [0], \"series\": {\"weighted_accuracy\": [{\"categories\": [\"0\", \"1\", \"2\", \"3\", \"4\", \"5\", \"6\", \"7\", \"8\", \"9\", \"10\", \"11\", \"12\", \"13\", \"14\", \"15\", \"16\", \"17\", \"18\", \"19\", \"20\", \"21\", \"22\", \"23\", \"24\", \"25\", \"26\", \"27\", \"28\", \"29\", \"30\", \"31\", \"32\", \"33\", \"34\", \"35\", \"36\", \"37\", \"38\", \"39\", \"40\", \"41\", \"42\", \"43\", \"44\", \"45\", \"46\", \"47\", \"48\", \"49\", \"50\", \"51\", \"52\", \"53\", \"54\", \"55\", \"56\", \"57\", \"58\", \"59\", \"60\", \"61\", \"62\", \"63\", \"64\", \"68\", \"69\"], \"mode\": \"markers\", \"name\": \"weighted_accuracy\", \"stepped\": false, \"type\": \"scatter\", \"data\": [0.911716660903056, 0.9148887323854231, 0.9091823075517643, 0.7249883856280827, 0.9069667438930387, 0.8885516143454257, 0.8854214037051461, 0.9003250868851996, 0.9142184427349473, 0.7022112281462669, 0.7049614020660662, 0.6997513389117594, 0.7160728968568486, 0.911433405096399, 0.9132282780072037, 0.8882976003285984, 0.7201599907153912, 0.7009795245481645, 0.7088154852579864, 0.9043148234665651, 0.9121534505832628, 0.9193847950229788, 0.8976242175094592, 0.9112062118362093, 0.9154591474755545, 0.8902127305823159, 0.895808890725338, 0.8889401124673693, 0.903598933258323, 0.7987617682871182, 0.8970068359936411, 0.8958979798223714, 0.911039453281882, 0.9118793404294119, 0.9141134011668749, 0.8876017634397766, 0.9133642752384535, 0.9088023706690903, 0.9110563016405141, 0.9109034769393436, 0.9137652814124037, 0.9104961667736244, 0.91283961739506, 0.9062577670638456, 0.9114694562523162, 0.9020238243834158, 0.9129604547190329, 0.8958101216214376, 0.8949911741218821, 0.9109347423395764, 0.9071082720012752, 0.8972947512312374, 0.9141134106172129, 0.9147600464532359, 0.9151160406280926, 0.9148702442716935, 0.9123074708571977, 0.9137975616072431, 0.9151482233645913, 0.9118162252396109, 0.9144867461458525, 0.9139693905643425, 0.9116931504890582, 0.913670038244532, 0.9152981804716444, 0.9134023947528274, 0.9130717478769703]}, {\"categories\": [\"0\", \"1\", \"2\", \"3\", \"4\", \"5\", \"6\", \"7\", \"8\", \"9\", \"10\", \"11\", \"12\", \"13\", \"14\", \"15\", \"16\", \"17\", \"18\", \"19\", \"20\", \"21\", \"22\", \"23\", \"24\", \"25\", \"26\", \"27\", \"28\", \"29\", \"30\", \"31\", \"32\", \"33\", \"34\", \"35\", \"36\", \"37\", \"38\", \"39\", \"40\", \"41\", \"42\", \"43\", \"44\", \"45\", \"46\", \"47\", \"48\", \"49\", \"50\", \"51\", \"52\", \"53\", \"54\", \"55\", \"56\", \"57\", \"58\", \"59\", \"60\", \"61\", \"62\", \"63\", \"64\", \"68\", \"69\"], \"mode\": \"lines\", \"name\": \"weighted_accuracy_max\", \"stepped\": true, \"type\": \"scatter\", \"data\": [0.911716660903056, 0.9148887323854231, 0.9148887323854231, 0.9148887323854231, 0.9148887323854231, 0.9148887323854231, 0.9148887323854231, 0.9148887323854231, 0.9148887323854231, 0.9148887323854231, 0.9148887323854231, 0.9148887323854231, 0.9148887323854231, 0.9148887323854231, 0.9148887323854231, 0.9148887323854231, 0.9148887323854231, 0.9148887323854231, 0.9148887323854231, 0.9148887323854231, 0.9148887323854231, 0.9193847950229788, 0.9193847950229788, 0.9193847950229788, 0.9193847950229788, 0.9193847950229788, 0.9193847950229788, 0.9193847950229788, 0.9193847950229788, 0.9193847950229788, 0.9193847950229788, 0.9193847950229788, 0.9193847950229788, 0.9193847950229788, 0.9193847950229788, 0.9193847950229788, 0.9193847950229788, 0.9193847950229788, 0.9193847950229788, 0.9193847950229788, 0.9193847950229788, 0.9193847950229788, 0.9193847950229788, 0.9193847950229788, 0.9193847950229788, 0.9193847950229788, 0.9193847950229788, 0.9193847950229788, 0.9193847950229788, 0.9193847950229788, 0.9193847950229788, 0.9193847950229788, 0.9193847950229788, 0.9193847950229788, 0.9193847950229788, 0.9193847950229788, 0.9193847950229788, 0.9193847950229788, 0.9193847950229788, 0.9193847950229788, 0.9193847950229788, 0.9193847950229788, 0.9193847950229788, 0.9193847950229788, 0.9193847950229788, 0.9193847950229788, 0.9193847950229788]}], \"recall_score_macro\": [{\"categories\": [\"0\", \"1\", \"2\", \"3\", \"4\", \"5\", \"6\", \"7\", \"8\", \"9\", \"10\", \"11\", \"12\", \"13\", \"14\", \"15\", \"16\", \"17\", \"18\", \"19\", \"20\", \"21\", \"22\", \"23\", \"24\", \"25\", \"26\", \"27\", \"28\", \"29\", \"30\", \"31\", \"32\", \"33\", \"34\", \"35\", \"36\", \"37\", \"38\", \"39\", \"40\", \"41\", \"42\", \"43\", \"44\", \"45\", \"46\", \"47\", \"48\", \"49\", \"50\", \"51\", \"52\", \"53\", \"54\", \"55\", \"56\", \"57\", \"58\", \"59\", \"60\", \"61\", \"62\", \"63\", \"64\", \"68\", \"69\"], \"mode\": \"markers\", \"name\": \"recall_score_macro\", \"stepped\": false, \"type\": \"scatter\", \"data\": [0.7992651069427531, 0.7723210134778931, 0.707192574878839, 0.7837141780761829, 0.5672956027119358, 0.7160903004256107, 0.7141123335131901, 0.6807739401050036, 0.5776103267040601, 0.7625716568334445, 0.7686436842844796, 0.7625175041891261, 0.7684334858981016, 0.7523032379963318, 0.631289073978863, 0.696489237797996, 0.7718592547859517, 0.7640845542010729, 0.7656500111612519, 0.7552492132427945, 0.7869078058577254, 0.7074921680472445, 0.7667972151832647, 0.7984576802885188, 0.7827604638947152, 0.7525319301807138, 0.7651842247912406, 0.7558954085529399, 0.7846256111101081, 0.8188411438386076, 0.6599032328506509, 0.7651510273300399, 0.8001771013354299, 0.7993393969391424, 0.7973680632635607, 0.7107790790650275, 0.7960745060810537, 0.7996041508501761, 0.7972361486105756, 0.7997943768736997, 0.7933305116560923, 0.8000033512231208, 0.7947765464026549, 0.7975972579782171, 0.7988516055379877, 0.5, 0.7984747441293838, 0.765297830031795, 0.7752884732947078, 0.795433527132863, 0.798068324099629, 0.7773677251310411, 0.7900451112927881, 0.7791902757651245, 0.7735952388958548, 0.7851724013014751, 0.7961390910367205, 0.7641418707892247, 0.7734306907030059, 0.7973815674705141, 0.7925278541136661, 0.7904899330505606, 0.7916425385560268, 0.7948466736734248, 0.7727667280372852, 0.7989175883223265, 0.7995379288931618]}, {\"categories\": [\"0\", \"1\", \"2\", \"3\", \"4\", \"5\", \"6\", \"7\", \"8\", \"9\", \"10\", \"11\", \"12\", \"13\", \"14\", \"15\", \"16\", \"17\", \"18\", \"19\", \"20\", \"21\", \"22\", \"23\", \"24\", \"25\", \"26\", \"27\", \"28\", \"29\", \"30\", \"31\", \"32\", \"33\", \"34\", \"35\", \"36\", \"37\", \"38\", \"39\", \"40\", \"41\", \"42\", \"43\", \"44\", \"45\", \"46\", \"47\", \"48\", \"49\", \"50\", \"51\", \"52\", \"53\", \"54\", \"55\", \"56\", \"57\", \"58\", \"59\", \"60\", \"61\", \"62\", \"63\", \"64\", \"68\", \"69\"], \"mode\": \"lines\", \"name\": \"recall_score_macro_max\", \"stepped\": true, \"type\": \"scatter\", \"data\": [0.7992651069427531, 0.7992651069427531, 0.7992651069427531, 0.7992651069427531, 0.7992651069427531, 0.7992651069427531, 0.7992651069427531, 0.7992651069427531, 0.7992651069427531, 0.7992651069427531, 0.7992651069427531, 0.7992651069427531, 0.7992651069427531, 0.7992651069427531, 0.7992651069427531, 0.7992651069427531, 0.7992651069427531, 0.7992651069427531, 0.7992651069427531, 0.7992651069427531, 0.7992651069427531, 0.7992651069427531, 0.7992651069427531, 0.7992651069427531, 0.7992651069427531, 0.7992651069427531, 0.7992651069427531, 0.7992651069427531, 0.7992651069427531, 0.8188411438386076, 0.8188411438386076, 0.8188411438386076, 0.8188411438386076, 0.8188411438386076, 0.8188411438386076, 0.8188411438386076, 0.8188411438386076, 0.8188411438386076, 0.8188411438386076, 0.8188411438386076, 0.8188411438386076, 0.8188411438386076, 0.8188411438386076, 0.8188411438386076, 0.8188411438386076, 0.8188411438386076, 0.8188411438386076, 0.8188411438386076, 0.8188411438386076, 0.8188411438386076, 0.8188411438386076, 0.8188411438386076, 0.8188411438386076, 0.8188411438386076, 0.8188411438386076, 0.8188411438386076, 0.8188411438386076, 0.8188411438386076, 0.8188411438386076, 0.8188411438386076, 0.8188411438386076, 0.8188411438386076, 0.8188411438386076, 0.8188411438386076, 0.8188411438386076, 0.8188411438386076, 0.8188411438386076]}], \"f1_score_micro\": [{\"categories\": [\"0\", \"1\", \"2\", \"3\", \"4\", \"5\", \"6\", \"7\", \"8\", \"9\", \"10\", \"11\", \"12\", \"13\", \"14\", \"15\", \"16\", \"17\", \"18\", \"19\", \"20\", \"21\", \"22\", \"23\", \"24\", \"25\", \"26\", \"27\", \"28\", \"29\", \"30\", \"31\", \"32\", \"33\", \"34\", \"35\", \"36\", \"37\", \"38\", \"39\", \"40\", \"41\", \"42\", \"43\", \"44\", \"45\", \"46\", \"47\", \"48\", \"49\", \"50\", \"51\", \"52\", \"53\", \"54\", \"55\", \"56\", \"57\", \"58\", \"59\", \"60\", \"61\", \"62\", \"63\", \"64\", \"68\", \"69\"], \"mode\": \"markers\", \"name\": \"f1_score_micro\", \"stepped\": false, \"type\": \"scatter\", \"data\": [0.8697979633504793, 0.861748880053025, 0.8338638836873671, 0.7468927073316889, 0.780216691372368, 0.8242448086854537, 0.8215469852076295, 0.8184511615591511, 0.7887308481915941, 0.7247135813389682, 0.7286940182374775, 0.7230995765679931, 0.7355930358527282, 0.8521296632469868, 0.8082354334768732, 0.8168148446425789, 0.7394624743499565, 0.7245144418944152, 0.7300207914186011, 0.848746199710573, 0.8654638180662856, 0.8403874235388489, 0.8488568044831618, 0.8691788147571152, 0.8659945517877221, 0.8388838548424518, 0.8471099096878867, 0.8393481288823462, 0.8592499661992752, 0.8062447627213579, 0.8086330155698483, 0.8471541281258947, 0.8697095729275389, 0.8699306577828827, 0.8705940786020264, 0.8216797260931081, 0.8696431988174513, 0.8680952429850354, 0.8686259889309657, 0.8694883853864492, 0.8688692172338953, 0.8693115042997211, 0.8688250110203809, 0.8657513039256027, 0.8694883927211453, 0.7521558823407167, 0.8702844810788066, 0.8471541403503882, 0.850360514983684, 0.8678741703541851, 0.8664589358480583, 0.8525939935195515, 0.8678741752439827, 0.8642254988754688, 0.8623680530953761, 0.8665252806193614, 0.8690018945520077, 0.8580117570289005, 0.8623237882042927, 0.8691566859789216, 0.8690240086608092, 0.86794047356221, 0.8669453826743231, 0.8693778441812267, 0.8621689698834931, 0.8707267583650374, 0.8707488578044467]}, {\"categories\": [\"0\", \"1\", \"2\", \"3\", \"4\", \"5\", \"6\", \"7\", \"8\", \"9\", \"10\", \"11\", \"12\", \"13\", \"14\", \"15\", \"16\", \"17\", \"18\", \"19\", \"20\", \"21\", \"22\", \"23\", \"24\", \"25\", \"26\", \"27\", \"28\", \"29\", \"30\", \"31\", \"32\", \"33\", \"34\", \"35\", \"36\", \"37\", \"38\", \"39\", \"40\", \"41\", \"42\", \"43\", \"44\", \"45\", \"46\", \"47\", \"48\", \"49\", \"50\", \"51\", \"52\", \"53\", \"54\", \"55\", \"56\", \"57\", \"58\", \"59\", \"60\", \"61\", \"62\", \"63\", \"64\", \"68\", \"69\"], \"mode\": \"lines\", \"name\": \"f1_score_micro_max\", \"stepped\": true, \"type\": \"scatter\", \"data\": [0.8697979633504793, 0.8697979633504793, 0.8697979633504793, 0.8697979633504793, 0.8697979633504793, 0.8697979633504793, 0.8697979633504793, 0.8697979633504793, 0.8697979633504793, 0.8697979633504793, 0.8697979633504793, 0.8697979633504793, 0.8697979633504793, 0.8697979633504793, 0.8697979633504793, 0.8697979633504793, 0.8697979633504793, 0.8697979633504793, 0.8697979633504793, 0.8697979633504793, 0.8697979633504793, 0.8697979633504793, 0.8697979633504793, 0.8697979633504793, 0.8697979633504793, 0.8697979633504793, 0.8697979633504793, 0.8697979633504793, 0.8697979633504793, 0.8697979633504793, 0.8697979633504793, 0.8697979633504793, 0.8697979633504793, 0.8699306577828827, 0.8705940786020264, 0.8705940786020264, 0.8705940786020264, 0.8705940786020264, 0.8705940786020264, 0.8705940786020264, 0.8705940786020264, 0.8705940786020264, 0.8705940786020264, 0.8705940786020264, 0.8705940786020264, 0.8705940786020264, 0.8705940786020264, 0.8705940786020264, 0.8705940786020264, 0.8705940786020264, 0.8705940786020264, 0.8705940786020264, 0.8705940786020264, 0.8705940786020264, 0.8705940786020264, 0.8705940786020264, 0.8705940786020264, 0.8705940786020264, 0.8705940786020264, 0.8705940786020264, 0.8705940786020264, 0.8705940786020264, 0.8705940786020264, 0.8705940786020264, 0.8705940786020264, 0.8707267583650374, 0.8707488578044467]}], \"precision_score_macro\": [{\"categories\": [\"0\", \"1\", \"2\", \"3\", \"4\", \"5\", \"6\", \"7\", \"8\", \"9\", \"10\", \"11\", \"12\", \"13\", \"14\", \"15\", \"16\", \"17\", \"18\", \"19\", \"20\", \"21\", \"22\", \"23\", \"24\", \"25\", \"26\", \"27\", \"28\", \"29\", \"30\", \"31\", \"32\", \"33\", \"34\", \"35\", \"36\", \"37\", \"38\", \"39\", \"40\", \"41\", \"42\", \"43\", \"44\", \"45\", \"46\", \"47\", \"48\", \"49\", \"50\", \"51\", \"52\", \"53\", \"54\", \"55\", \"56\", \"57\", \"58\", \"59\", \"60\", \"61\", \"62\", \"63\", \"64\", \"68\", \"69\"], \"mode\": \"markers\", \"name\": \"precision_score_macro\", \"stepped\": false, \"type\": \"scatter\", \"data\": [0.8372032804339561, 0.8361462778756132, 0.8133911344670125, 0.7158865296052829, 0.8324017198990292, 0.7773529444438092, 0.7718845641147882, 0.7874573168085903, 0.8595543114348896, 0.6983951181880936, 0.7029943248748526, 0.6984455035595294, 0.7042561330333709, 0.8259128987055495, 0.8244637631135511, 0.7698757439987549, 0.7075254350258601, 0.6994320358945573, 0.7015108545579303, 0.8144775581715408, 0.8349113702625004, 0.8380191842158882, 0.8077174489564921, 0.8362157028913124, 0.8392491166885222, 0.7927262941757854, 0.8046777414757333, 0.7922661700321357, 0.8215620921318603, 0.7567024845664122, 0.7733949315512608, 0.8047918986977368, 0.8364309722773055, 0.8374296258336091, 0.8403491136542838, 0.773738318044705, 0.8388732469053404, 0.8330703009956391, 0.8357055981751147, 0.8361264573782066, 0.8388377050951377, 0.8355802454394536, 0.8377732282867235, 0.8289259815825588, 0.8367125642511242, 0.37607794117035837, 0.8388318784879669, 0.80471117026681, 0.8068975233957204, 0.8350678255379422, 0.8302618559094913, 0.8106447539580612, 0.8386673166166272, 0.8373245896399361, 0.8367812601510629, 0.838799744764227, 0.8372875849244211, 0.832645696610081, 0.8368307784265315, 0.836881790651297, 0.8398154956634833, 0.8385143157285675, 0.8352632847190137, 0.8390591361242967, 0.8369706537444683, 0.8396029083648712, 0.8392760658404459]}, {\"categories\": [\"0\", \"1\", \"2\", \"3\", \"4\", \"5\", \"6\", \"7\", \"8\", \"9\", \"10\", \"11\", \"12\", \"13\", \"14\", \"15\", \"16\", \"17\", \"18\", \"19\", \"20\", \"21\", \"22\", \"23\", \"24\", \"25\", \"26\", \"27\", \"28\", \"29\", \"30\", \"31\", \"32\", \"33\", \"34\", \"35\", \"36\", \"37\", \"38\", \"39\", \"40\", \"41\", \"42\", \"43\", \"44\", \"45\", \"46\", \"47\", \"48\", \"49\", \"50\", \"51\", \"52\", \"53\", \"54\", \"55\", \"56\", \"57\", \"58\", \"59\", \"60\", \"61\", \"62\", \"63\", \"64\", \"68\", \"69\"], \"mode\": \"lines\", \"name\": \"precision_score_macro_max\", \"stepped\": true, \"type\": \"scatter\", \"data\": [0.8372032804339561, 0.8372032804339561, 0.8372032804339561, 0.8372032804339561, 0.8372032804339561, 0.8372032804339561, 0.8372032804339561, 0.8372032804339561, 0.8595543114348896, 0.8595543114348896, 0.8595543114348896, 0.8595543114348896, 0.8595543114348896, 0.8595543114348896, 0.8595543114348896, 0.8595543114348896, 0.8595543114348896, 0.8595543114348896, 0.8595543114348896, 0.8595543114348896, 0.8595543114348896, 0.8595543114348896, 0.8595543114348896, 0.8595543114348896, 0.8595543114348896, 0.8595543114348896, 0.8595543114348896, 0.8595543114348896, 0.8595543114348896, 0.8595543114348896, 0.8595543114348896, 0.8595543114348896, 0.8595543114348896, 0.8595543114348896, 0.8595543114348896, 0.8595543114348896, 0.8595543114348896, 0.8595543114348896, 0.8595543114348896, 0.8595543114348896, 0.8595543114348896, 0.8595543114348896, 0.8595543114348896, 0.8595543114348896, 0.8595543114348896, 0.8595543114348896, 0.8595543114348896, 0.8595543114348896, 0.8595543114348896, 0.8595543114348896, 0.8595543114348896, 0.8595543114348896, 0.8595543114348896, 0.8595543114348896, 0.8595543114348896, 0.8595543114348896, 0.8595543114348896, 0.8595543114348896, 0.8595543114348896, 0.8595543114348896, 0.8595543114348896, 0.8595543114348896, 0.8595543114348896, 0.8595543114348896, 0.8595543114348896, 0.8595543114348896, 0.8595543114348896]}], \"f1_score_macro\": [{\"categories\": [\"0\", \"1\", \"2\", \"3\", \"4\", \"5\", \"6\", \"7\", \"8\", \"9\", \"10\", \"11\", \"12\", \"13\", \"14\", \"15\", \"16\", \"17\", \"18\", \"19\", \"20\", \"21\", \"22\", \"23\", \"24\", \"25\", \"26\", \"27\", \"28\", \"29\", \"30\", \"31\", \"32\", \"33\", \"34\", \"35\", \"36\", \"37\", \"38\", \"39\", \"40\", \"41\", \"42\", \"43\", \"44\", \"45\", \"46\", \"47\", \"48\", \"49\", \"50\", \"51\", \"52\", \"53\", \"54\", \"55\", \"56\", \"57\", \"58\", \"59\", \"60\", \"61\", \"62\", \"63\", \"64\", \"68\", \"69\"], \"mode\": \"markers\", \"name\": \"f1_score_macro\", \"stepped\": false, \"type\": \"scatter\", \"data\": [0.8153371110609997, 0.7962450703537736, 0.7362502038140255, 0.7175729079801989, 0.5510225767409102, 0.7370414765110997, 0.734222674909003, 0.7069939322848181, 0.5725650294596163, 0.69553725577916, 0.7001477575392714, 0.6943247072600439, 0.7048639806685794, 0.7780742787564222, 0.6495277616278755, 0.7186036907620659, 0.7087418170057228, 0.6958705372105277, 0.7001796799081991, 0.7772989342363961, 0.8062578023041663, 0.7405236595523644, 0.783468299849772, 0.8144622349189392, 0.8047846178816206, 0.7687137395951914, 0.7813330539739801, 0.7708493706920312, 0.8001759082774536, 0.7719040044758055, 0.6841000507858415, 0.7813604265915154, 0.815644429886109, 0.815476070743939, 0.81521561904628, 0.7320222241114468, 0.8138514699742225, 0.8140356173474474, 0.8134799380962227, 0.8153062909509904, 0.8120030475849859, 0.8152313815313142, 0.8125955042850098, 0.8112104676023337, 0.8148964462235995, 0.42927235469408276, 0.8154227133353851, 0.7814290422049999, 0.7887957009916999, 0.8120752472873602, 0.8120098199819352, 0.7915075410830692, 0.80967280054642, 0.8016406399255954, 0.7973962481356975, 0.8063638079971354, 0.8133386469092978, 0.7891035313185377, 0.7972635366412437, 0.8139976331786436, 0.811774008369858, 0.8099654022780041, 0.8096482448172033, 0.8130882187026879, 0.796825371009937, 0.815985958499747, 0.8162651661395458]}, {\"categories\": [\"0\", \"1\", \"2\", \"3\", \"4\", \"5\", \"6\", \"7\", \"8\", \"9\", \"10\", \"11\", \"12\", \"13\", \"14\", \"15\", \"16\", \"17\", \"18\", \"19\", \"20\", \"21\", \"22\", \"23\", \"24\", \"25\", \"26\", \"27\", \"28\", \"29\", \"30\", \"31\", \"32\", \"33\", \"34\", \"35\", \"36\", \"37\", \"38\", \"39\", \"40\", \"41\", \"42\", \"43\", \"44\", \"45\", \"46\", \"47\", \"48\", \"49\", \"50\", \"51\", \"52\", \"53\", \"54\", \"55\", \"56\", \"57\", \"58\", \"59\", \"60\", \"61\", \"62\", \"63\", \"64\", \"68\", \"69\"], \"mode\": \"lines\", \"name\": \"f1_score_macro_max\", \"stepped\": true, \"type\": \"scatter\", \"data\": [0.8153371110609997, 0.8153371110609997, 0.8153371110609997, 0.8153371110609997, 0.8153371110609997, 0.8153371110609997, 0.8153371110609997, 0.8153371110609997, 0.8153371110609997, 0.8153371110609997, 0.8153371110609997, 0.8153371110609997, 0.8153371110609997, 0.8153371110609997, 0.8153371110609997, 0.8153371110609997, 0.8153371110609997, 0.8153371110609997, 0.8153371110609997, 0.8153371110609997, 0.8153371110609997, 0.8153371110609997, 0.8153371110609997, 0.8153371110609997, 0.8153371110609997, 0.8153371110609997, 0.8153371110609997, 0.8153371110609997, 0.8153371110609997, 0.8153371110609997, 0.8153371110609997, 0.8153371110609997, 0.815644429886109, 0.815644429886109, 0.815644429886109, 0.815644429886109, 0.815644429886109, 0.815644429886109, 0.815644429886109, 0.815644429886109, 0.815644429886109, 0.815644429886109, 0.815644429886109, 0.815644429886109, 0.815644429886109, 0.815644429886109, 0.815644429886109, 0.815644429886109, 0.815644429886109, 0.815644429886109, 0.815644429886109, 0.815644429886109, 0.815644429886109, 0.815644429886109, 0.815644429886109, 0.815644429886109, 0.815644429886109, 0.815644429886109, 0.815644429886109, 0.815644429886109, 0.815644429886109, 0.815644429886109, 0.815644429886109, 0.815644429886109, 0.815644429886109, 0.815985958499747, 0.8162651661395458]}], \"average_precision_score_micro\": [{\"categories\": [\"0\", \"1\", \"2\", \"3\", \"4\", \"5\", \"6\", \"7\", \"8\", \"9\", \"10\", \"11\", \"12\", \"13\", \"14\", \"15\", \"16\", \"17\", \"18\", \"19\", \"20\", \"21\", \"22\", \"23\", \"24\", \"25\", \"26\", \"27\", \"28\", \"29\", \"30\", \"31\", \"32\", \"33\", \"34\", \"35\", \"36\", \"37\", \"38\", \"39\", \"40\", \"41\", \"42\", \"43\", \"44\", \"45\", \"46\", \"47\", \"48\", \"49\", \"50\", \"51\", \"52\", \"53\", \"54\", \"55\", \"56\", \"57\", \"58\", \"59\", \"60\", \"61\", \"62\", \"63\", \"64\", \"68\", \"69\"], \"mode\": \"markers\", \"name\": \"average_precision_score_micro\", \"stepped\": false, \"type\": \"scatter\", \"data\": [0.9521538878137544, 0.9471828494064807, 0.9231546714570911, 0.8737818625556264, 0.89770946580634, 0.908428217612369, 0.9116981888119978, 0.9088771847812696, 0.9043875914121944, 0.8625738316406186, 0.862873735565717, 0.8395519860824118, 0.8573757963392292, 0.9358724693155069, 0.9076643664113107, 0.897487752069231, 0.8562665377280094, 0.8612093556021632, 0.8424440695838733, 0.9373756009271146, 0.9483751854324363, 0.9277907619435517, 0.9375302313799466, 0.9517845887938586, 0.9500043750992087, 0.9282939212701183, 0.9351878033719245, 0.9306527951559195, 0.944930761336319, 0.9035230307271386, 0.8979778988635745, 0.9352396919796575, 0.951873415265735, 0.9518720606841249, 0.9526602061693806, 0.9151143375021688, 0.9526878927405615, 0.9512192092819113, 0.9515226464710331, 0.951451738535083, 0.9521717122960369, 0.9514701705387155, 0.9519070775780865, 0.9494366380574659, 0.9516803809322683, 0.6896722047711705, 0.9532200502313799, 0.9352017677873569, 0.9374964199077113, 0.950072749734607, 0.9502153107168041, 0.9405664859639289, 0.9511109303752475, 0.948674488674999, 0.9474694518787592, 0.9498987875541511, 0.9517897252271317, 0.9441342824578334, 0.9470466423343575, 0.9521394263789602, 0.952254646457587, 0.9513090220096426, 0.9499117755271536, 0.9520149348561897, 0.9470952018238401, 0.9533224514379945, 0.9532182997738285]}, {\"categories\": [\"0\", \"1\", \"2\", \"3\", \"4\", \"5\", \"6\", \"7\", \"8\", \"9\", \"10\", \"11\", \"12\", \"13\", \"14\", \"15\", \"16\", \"17\", \"18\", \"19\", \"20\", \"21\", \"22\", \"23\", \"24\", \"25\", \"26\", \"27\", \"28\", \"29\", \"30\", \"31\", \"32\", \"33\", \"34\", \"35\", \"36\", \"37\", \"38\", \"39\", \"40\", \"41\", \"42\", \"43\", \"44\", \"45\", \"46\", \"47\", \"48\", \"49\", \"50\", \"51\", \"52\", \"53\", \"54\", \"55\", \"56\", \"57\", \"58\", \"59\", \"60\", \"61\", \"62\", \"63\", \"64\", \"68\", \"69\"], \"mode\": \"lines\", \"name\": \"average_precision_score_micro_max\", \"stepped\": true, \"type\": \"scatter\", \"data\": [0.9521538878137544, 0.9521538878137544, 0.9521538878137544, 0.9521538878137544, 0.9521538878137544, 0.9521538878137544, 0.9521538878137544, 0.9521538878137544, 0.9521538878137544, 0.9521538878137544, 0.9521538878137544, 0.9521538878137544, 0.9521538878137544, 0.9521538878137544, 0.9521538878137544, 0.9521538878137544, 0.9521538878137544, 0.9521538878137544, 0.9521538878137544, 0.9521538878137544, 0.9521538878137544, 0.9521538878137544, 0.9521538878137544, 0.9521538878137544, 0.9521538878137544, 0.9521538878137544, 0.9521538878137544, 0.9521538878137544, 0.9521538878137544, 0.9521538878137544, 0.9521538878137544, 0.9521538878137544, 0.9521538878137544, 0.9521538878137544, 0.9526602061693806, 0.9526602061693806, 0.9526878927405615, 0.9526878927405615, 0.9526878927405615, 0.9526878927405615, 0.9526878927405615, 0.9526878927405615, 0.9526878927405615, 0.9526878927405615, 0.9526878927405615, 0.9526878927405615, 0.9532200502313799, 0.9532200502313799, 0.9532200502313799, 0.9532200502313799, 0.9532200502313799, 0.9532200502313799, 0.9532200502313799, 0.9532200502313799, 0.9532200502313799, 0.9532200502313799, 0.9532200502313799, 0.9532200502313799, 0.9532200502313799, 0.9532200502313799, 0.9532200502313799, 0.9532200502313799, 0.9532200502313799, 0.9532200502313799, 0.9532200502313799, 0.9533224514379945, 0.9533224514379945]}], \"AUC_micro\": [{\"categories\": [\"0\", \"1\", \"2\", \"3\", \"4\", \"5\", \"6\", \"7\", \"8\", \"9\", \"10\", \"11\", \"12\", \"13\", \"14\", \"15\", \"16\", \"17\", \"18\", \"19\", \"20\", \"21\", \"22\", \"23\", \"24\", \"25\", \"26\", \"27\", \"28\", \"29\", \"30\", \"31\", \"32\", \"33\", \"34\", \"35\", \"36\", \"37\", \"38\", \"39\", \"40\", \"41\", \"42\", \"43\", \"44\", \"45\", \"46\", \"47\", \"48\", \"49\", \"50\", \"51\", \"52\", \"53\", \"54\", \"55\", \"56\", \"57\", \"58\", \"59\", \"60\", \"61\", \"62\", \"63\", \"64\", \"68\", \"69\"], \"mode\": \"markers\", \"name\": \"AUC_micro\", \"stepped\": false, \"type\": \"scatter\", \"data\": [0.9502846739450476, 0.9451870817634556, 0.9208100949987887, 0.8662674879427008, 0.8928091264791831, 0.9075108174942276, 0.9090069721215501, 0.905426769703905, 0.8989792834494106, 0.8535436052363006, 0.8531471997716192, 0.8315839040806783, 0.8492111279892264, 0.9354341998923148, 0.9034410381515965, 0.8970493262026439, 0.8525712988857764, 0.8520211410397784, 0.8338892040896579, 0.9350334533405306, 0.9468062799570311, 0.925114751550572, 0.935171382221488, 0.9498517769308774, 0.948188389503392, 0.9257866780527518, 0.9332067610488639, 0.927978566305366, 0.9428960750798483, 0.9004465769992512, 0.8956929930336062, 0.9331144380400523, 0.9498587860246914, 0.9499361277850766, 0.9507265816149391, 0.9124597237774077, 0.9507982074031627, 0.9491758189156603, 0.949617894190462, 0.9495818182486845, 0.9502818054132547, 0.9495057980421547, 0.9500274284883241, 0.9474155084053246, 0.9497768071082001, 0.7521558823407167, 0.9512688010627259, 0.9331774760390019, 0.9351208273176079, 0.9483646930034428, 0.9481829644011922, 0.9383157812937437, 0.9492639227336619, 0.946863742386815, 0.9454997209215958, 0.9479713145194946, 0.9499144193369284, 0.9422000654403719, 0.9451856103222651, 0.9502212449846402, 0.9503409627622853, 0.9494562998060937, 0.9482193543979758, 0.9500951977859697, 0.9451364696531492, 0.9513853331119948, 0.9513036774868981]}, {\"categories\": [\"0\", \"1\", \"2\", \"3\", \"4\", \"5\", \"6\", \"7\", \"8\", \"9\", \"10\", \"11\", \"12\", \"13\", \"14\", \"15\", \"16\", \"17\", \"18\", \"19\", \"20\", \"21\", \"22\", \"23\", \"24\", \"25\", \"26\", \"27\", \"28\", \"29\", \"30\", \"31\", \"32\", \"33\", \"34\", \"35\", \"36\", \"37\", \"38\", \"39\", \"40\", \"41\", \"42\", \"43\", \"44\", \"45\", \"46\", \"47\", \"48\", \"49\", \"50\", \"51\", \"52\", \"53\", \"54\", \"55\", \"56\", \"57\", \"58\", \"59\", \"60\", \"61\", \"62\", \"63\", \"64\", \"68\", \"69\"], \"mode\": \"lines\", \"name\": \"AUC_micro_max\", \"stepped\": true, \"type\": \"scatter\", \"data\": [0.9502846739450476, 0.9502846739450476, 0.9502846739450476, 0.9502846739450476, 0.9502846739450476, 0.9502846739450476, 0.9502846739450476, 0.9502846739450476, 0.9502846739450476, 0.9502846739450476, 0.9502846739450476, 0.9502846739450476, 0.9502846739450476, 0.9502846739450476, 0.9502846739450476, 0.9502846739450476, 0.9502846739450476, 0.9502846739450476, 0.9502846739450476, 0.9502846739450476, 0.9502846739450476, 0.9502846739450476, 0.9502846739450476, 0.9502846739450476, 0.9502846739450476, 0.9502846739450476, 0.9502846739450476, 0.9502846739450476, 0.9502846739450476, 0.9502846739450476, 0.9502846739450476, 0.9502846739450476, 0.9502846739450476, 0.9502846739450476, 0.9507265816149391, 0.9507265816149391, 0.9507982074031627, 0.9507982074031627, 0.9507982074031627, 0.9507982074031627, 0.9507982074031627, 0.9507982074031627, 0.9507982074031627, 0.9507982074031627, 0.9507982074031627, 0.9507982074031627, 0.9512688010627259, 0.9512688010627259, 0.9512688010627259, 0.9512688010627259, 0.9512688010627259, 0.9512688010627259, 0.9512688010627259, 0.9512688010627259, 0.9512688010627259, 0.9512688010627259, 0.9512688010627259, 0.9512688010627259, 0.9512688010627259, 0.9512688010627259, 0.9512688010627259, 0.9512688010627259, 0.9512688010627259, 0.9512688010627259, 0.9512688010627259, 0.9513853331119948, 0.9513853331119948]}], \"norm_macro_recall\": [{\"categories\": [\"0\", \"1\", \"2\", \"3\", \"4\", \"5\", \"6\", \"7\", \"8\", \"9\", \"10\", \"11\", \"12\", \"13\", \"14\", \"15\", \"16\", \"17\", \"18\", \"19\", \"20\", \"21\", \"22\", \"23\", \"24\", \"25\", \"26\", \"27\", \"28\", \"29\", \"30\", \"31\", \"32\", \"33\", \"34\", \"35\", \"36\", \"37\", \"38\", \"39\", \"40\", \"41\", \"42\", \"43\", \"44\", \"45\", \"46\", \"47\", \"48\", \"49\", \"50\", \"51\", \"52\", \"53\", \"54\", \"55\", \"56\", \"57\", \"58\", \"59\", \"60\", \"61\", \"62\", \"63\", \"64\", \"68\", \"69\"], \"mode\": \"markers\", \"name\": \"norm_macro_recall\", \"stepped\": false, \"type\": \"scatter\", \"data\": [0.5985302138855063, 0.5446420269557863, 0.41438514975767776, 0.5674283561523661, 0.1345912054238716, 0.43218060085122134, 0.4282246670263802, 0.36154788021000717, 0.15522065340812027, 0.525143313666889, 0.5372873685689592, 0.525035008378252, 0.5368669717962031, 0.5046064759926636, 0.2625781479577261, 0.39297847559599197, 0.5437185095719036, 0.5281691084021458, 0.5313000223225037, 0.5104984264855891, 0.5738156117154507, 0.414984336094489, 0.5335944303665294, 0.5969153605770379, 0.5655209277894304, 0.5050638603614278, 0.5303684495824811, 0.5117908171058799, 0.5692512222202162, 0.6376822876772152, 0.31980646570130195, 0.5303020546600798, 0.6003542026708597, 0.5986787938782847, 0.5947361265271214, 0.42155815813005476, 0.5921490121621072, 0.5992083017003524, 0.5944722972211512, 0.5995887537473994, 0.5866610233121844, 0.6000067024462414, 0.5895530928053099, 0.5951945159564344, 0.5977032110759757, 0.0, 0.5969494882587675, 0.5305956600635899, 0.5505769465894158, 0.590867054265726, 0.5961366481992583, 0.5547354502620826, 0.5800902225855764, 0.5583805515302489, 0.5471904777917096, 0.5703448026029505, 0.592278182073441, 0.5282837415784493, 0.5468613814060116, 0.5947631349410283, 0.5850557082273324, 0.5809798661011213, 0.5832850771120538, 0.5896933473468495, 0.5455334560745703, 0.5978351766446531, 0.5990758577863236]}, {\"categories\": [\"0\", \"1\", \"2\", \"3\", \"4\", \"5\", \"6\", \"7\", \"8\", \"9\", \"10\", \"11\", \"12\", \"13\", \"14\", \"15\", \"16\", \"17\", \"18\", \"19\", \"20\", \"21\", \"22\", \"23\", \"24\", \"25\", \"26\", \"27\", \"28\", \"29\", \"30\", \"31\", \"32\", \"33\", \"34\", \"35\", \"36\", \"37\", \"38\", \"39\", \"40\", \"41\", \"42\", \"43\", \"44\", \"45\", \"46\", \"47\", \"48\", \"49\", \"50\", \"51\", \"52\", \"53\", \"54\", \"55\", \"56\", \"57\", \"58\", \"59\", \"60\", \"61\", \"62\", \"63\", \"64\", \"68\", \"69\"], \"mode\": \"lines\", \"name\": \"norm_macro_recall_max\", \"stepped\": true, \"type\": \"scatter\", \"data\": [0.5985302138855063, 0.5985302138855063, 0.5985302138855063, 0.5985302138855063, 0.5985302138855063, 0.5985302138855063, 0.5985302138855063, 0.5985302138855063, 0.5985302138855063, 0.5985302138855063, 0.5985302138855063, 0.5985302138855063, 0.5985302138855063, 0.5985302138855063, 0.5985302138855063, 0.5985302138855063, 0.5985302138855063, 0.5985302138855063, 0.5985302138855063, 0.5985302138855063, 0.5985302138855063, 0.5985302138855063, 0.5985302138855063, 0.5985302138855063, 0.5985302138855063, 0.5985302138855063, 0.5985302138855063, 0.5985302138855063, 0.5985302138855063, 0.6376822876772152, 0.6376822876772152, 0.6376822876772152, 0.6376822876772152, 0.6376822876772152, 0.6376822876772152, 0.6376822876772152, 0.6376822876772152, 0.6376822876772152, 0.6376822876772152, 0.6376822876772152, 0.6376822876772152, 0.6376822876772152, 0.6376822876772152, 0.6376822876772152, 0.6376822876772152, 0.6376822876772152, 0.6376822876772152, 0.6376822876772152, 0.6376822876772152, 0.6376822876772152, 0.6376822876772152, 0.6376822876772152, 0.6376822876772152, 0.6376822876772152, 0.6376822876772152, 0.6376822876772152, 0.6376822876772152, 0.6376822876772152, 0.6376822876772152, 0.6376822876772152, 0.6376822876772152, 0.6376822876772152, 0.6376822876772152, 0.6376822876772152, 0.6376822876772152, 0.6376822876772152, 0.6376822876772152]}], \"accuracy\": [{\"categories\": [\"0\", \"1\", \"2\", \"3\", \"4\", \"5\", \"6\", \"7\", \"8\", \"9\", \"10\", \"11\", \"12\", \"13\", \"14\", \"15\", \"16\", \"17\", \"18\", \"19\", \"20\", \"21\", \"22\", \"23\", \"24\", \"25\", \"26\", \"27\", \"28\", \"29\", \"30\", \"31\", \"32\", \"33\", \"34\", \"35\", \"36\", \"37\", \"38\", \"39\", \"40\", \"41\", \"42\", \"43\", \"44\", \"45\", \"46\", \"47\", \"48\", \"49\", \"50\", \"51\", \"52\", \"53\", \"54\", \"55\", \"56\", \"57\", \"58\", \"59\", \"60\", \"61\", \"62\", \"63\", \"64\", \"68\", \"69\"], \"mode\": \"markers\", \"name\": \"accuracy\", \"stepped\": false, \"type\": \"scatter\", \"data\": [0.8697979633504793, 0.861748880053025, 0.8338638836873671, 0.7468927073316889, 0.780216691372368, 0.8242448086854537, 0.8215469852076295, 0.8184511615591511, 0.7887308481915941, 0.7247135813389682, 0.7286940182374774, 0.7230995765679931, 0.735593035852728, 0.8521296632469868, 0.8082354334768732, 0.8168148446425789, 0.7394624743499565, 0.7245144418944152, 0.7300207914186012, 0.848746199710573, 0.8654638180662856, 0.8403874235388489, 0.8488568044831618, 0.8691788147571152, 0.8659945517877221, 0.838883854842452, 0.8471099096878867, 0.8393481288823462, 0.8592499661992752, 0.8062447627213581, 0.8086330155698483, 0.8471541281258947, 0.8697095729275389, 0.8699306577828827, 0.8705940786020264, 0.8216797260931081, 0.8696431988174513, 0.8680952429850354, 0.8686259889309655, 0.8694883853864492, 0.8688692172338953, 0.8693115042997211, 0.8688250110203809, 0.8657513039256027, 0.8694883927211453, 0.7521558823407167, 0.8702844810788066, 0.8471541403503882, 0.850360514983684, 0.8678741703541851, 0.8664589358480583, 0.8525939935195515, 0.8678741752439827, 0.8642254988754688, 0.8623680530953761, 0.8665252806193614, 0.8690018945520077, 0.8580117570289005, 0.8623237882042927, 0.8691566859789216, 0.8690240086608092, 0.86794047356221, 0.8669453826743233, 0.8693778441812267, 0.8621689698834931, 0.8707267583650375, 0.8707488578044467]}, {\"categories\": [\"0\", \"1\", \"2\", \"3\", \"4\", \"5\", \"6\", \"7\", \"8\", \"9\", \"10\", \"11\", \"12\", \"13\", \"14\", \"15\", \"16\", \"17\", \"18\", \"19\", \"20\", \"21\", \"22\", \"23\", \"24\", \"25\", \"26\", \"27\", \"28\", \"29\", \"30\", \"31\", \"32\", \"33\", \"34\", \"35\", \"36\", \"37\", \"38\", \"39\", \"40\", \"41\", \"42\", \"43\", \"44\", \"45\", \"46\", \"47\", \"48\", \"49\", \"50\", \"51\", \"52\", \"53\", \"54\", \"55\", \"56\", \"57\", \"58\", \"59\", \"60\", \"61\", \"62\", \"63\", \"64\", \"68\", \"69\"], \"mode\": \"lines\", \"name\": \"accuracy_max\", \"stepped\": true, \"type\": \"scatter\", \"data\": [0.8697979633504793, 0.8697979633504793, 0.8697979633504793, 0.8697979633504793, 0.8697979633504793, 0.8697979633504793, 0.8697979633504793, 0.8697979633504793, 0.8697979633504793, 0.8697979633504793, 0.8697979633504793, 0.8697979633504793, 0.8697979633504793, 0.8697979633504793, 0.8697979633504793, 0.8697979633504793, 0.8697979633504793, 0.8697979633504793, 0.8697979633504793, 0.8697979633504793, 0.8697979633504793, 0.8697979633504793, 0.8697979633504793, 0.8697979633504793, 0.8697979633504793, 0.8697979633504793, 0.8697979633504793, 0.8697979633504793, 0.8697979633504793, 0.8697979633504793, 0.8697979633504793, 0.8697979633504793, 0.8697979633504793, 0.8699306577828827, 0.8705940786020264, 0.8705940786020264, 0.8705940786020264, 0.8705940786020264, 0.8705940786020264, 0.8705940786020264, 0.8705940786020264, 0.8705940786020264, 0.8705940786020264, 0.8705940786020264, 0.8705940786020264, 0.8705940786020264, 0.8705940786020264, 0.8705940786020264, 0.8705940786020264, 0.8705940786020264, 0.8705940786020264, 0.8705940786020264, 0.8705940786020264, 0.8705940786020264, 0.8705940786020264, 0.8705940786020264, 0.8705940786020264, 0.8705940786020264, 0.8705940786020264, 0.8705940786020264, 0.8705940786020264, 0.8705940786020264, 0.8705940786020264, 0.8705940786020264, 0.8705940786020264, 0.8707267583650375, 0.8707488578044467]}], \"precision_score_micro\": [{\"categories\": [\"0\", \"1\", \"2\", \"3\", \"4\", \"5\", \"6\", \"7\", \"8\", \"9\", \"10\", \"11\", \"12\", \"13\", \"14\", \"15\", \"16\", \"17\", \"18\", \"19\", \"20\", \"21\", \"22\", \"23\", \"24\", \"25\", \"26\", \"27\", \"28\", \"29\", \"30\", \"31\", \"32\", \"33\", \"34\", \"35\", \"36\", \"37\", \"38\", \"39\", \"40\", \"41\", \"42\", \"43\", \"44\", \"45\", \"46\", \"47\", \"48\", \"49\", \"50\", \"51\", \"52\", \"53\", \"54\", \"55\", \"56\", \"57\", \"58\", \"59\", \"60\", \"61\", \"62\", \"63\", \"64\", \"68\", \"69\"], \"mode\": \"markers\", \"name\": \"precision_score_micro\", \"stepped\": false, \"type\": \"scatter\", \"data\": [0.8697979633504793, 0.861748880053025, 0.8338638836873671, 0.7468927073316889, 0.780216691372368, 0.8242448086854537, 0.8215469852076295, 0.8184511615591511, 0.7887308481915941, 0.7247135813389682, 0.7286940182374774, 0.7230995765679931, 0.735593035852728, 0.8521296632469868, 0.8082354334768732, 0.8168148446425789, 0.7394624743499565, 0.7245144418944152, 0.7300207914186012, 0.848746199710573, 0.8654638180662856, 0.8403874235388489, 0.8488568044831618, 0.8691788147571152, 0.8659945517877221, 0.838883854842452, 0.8471099096878867, 0.8393481288823462, 0.8592499661992752, 0.8062447627213581, 0.8086330155698483, 0.8471541281258947, 0.8697095729275389, 0.8699306577828827, 0.8705940786020264, 0.8216797260931081, 0.8696431988174513, 0.8680952429850354, 0.8686259889309655, 0.8694883853864492, 0.8688692172338953, 0.8693115042997211, 0.8688250110203809, 0.8657513039256027, 0.8694883927211453, 0.7521558823407167, 0.8702844810788066, 0.8471541403503882, 0.850360514983684, 0.8678741703541851, 0.8664589358480583, 0.8525939935195515, 0.8678741752439827, 0.8642254988754688, 0.8623680530953761, 0.8665252806193614, 0.8690018945520077, 0.8580117570289005, 0.8623237882042927, 0.8691566859789216, 0.8690240086608092, 0.86794047356221, 0.8669453826743233, 0.8693778441812267, 0.8621689698834931, 0.8707267583650375, 0.8707488578044467]}, {\"categories\": [\"0\", \"1\", \"2\", \"3\", \"4\", \"5\", \"6\", \"7\", \"8\", \"9\", \"10\", \"11\", \"12\", \"13\", \"14\", \"15\", \"16\", \"17\", \"18\", \"19\", \"20\", \"21\", \"22\", \"23\", \"24\", \"25\", \"26\", \"27\", \"28\", \"29\", \"30\", \"31\", \"32\", \"33\", \"34\", \"35\", \"36\", \"37\", \"38\", \"39\", \"40\", \"41\", \"42\", \"43\", \"44\", \"45\", \"46\", \"47\", \"48\", \"49\", \"50\", \"51\", \"52\", \"53\", \"54\", \"55\", \"56\", \"57\", \"58\", \"59\", \"60\", \"61\", \"62\", \"63\", \"64\", \"68\", \"69\"], \"mode\": \"lines\", \"name\": \"precision_score_micro_max\", \"stepped\": true, \"type\": \"scatter\", \"data\": [0.8697979633504793, 0.8697979633504793, 0.8697979633504793, 0.8697979633504793, 0.8697979633504793, 0.8697979633504793, 0.8697979633504793, 0.8697979633504793, 0.8697979633504793, 0.8697979633504793, 0.8697979633504793, 0.8697979633504793, 0.8697979633504793, 0.8697979633504793, 0.8697979633504793, 0.8697979633504793, 0.8697979633504793, 0.8697979633504793, 0.8697979633504793, 0.8697979633504793, 0.8697979633504793, 0.8697979633504793, 0.8697979633504793, 0.8697979633504793, 0.8697979633504793, 0.8697979633504793, 0.8697979633504793, 0.8697979633504793, 0.8697979633504793, 0.8697979633504793, 0.8697979633504793, 0.8697979633504793, 0.8697979633504793, 0.8699306577828827, 0.8705940786020264, 0.8705940786020264, 0.8705940786020264, 0.8705940786020264, 0.8705940786020264, 0.8705940786020264, 0.8705940786020264, 0.8705940786020264, 0.8705940786020264, 0.8705940786020264, 0.8705940786020264, 0.8705940786020264, 0.8705940786020264, 0.8705940786020264, 0.8705940786020264, 0.8705940786020264, 0.8705940786020264, 0.8705940786020264, 0.8705940786020264, 0.8705940786020264, 0.8705940786020264, 0.8705940786020264, 0.8705940786020264, 0.8705940786020264, 0.8705940786020264, 0.8705940786020264, 0.8705940786020264, 0.8705940786020264, 0.8705940786020264, 0.8705940786020264, 0.8705940786020264, 0.8707267583650375, 0.8707488578044467]}], \"average_precision_score_weighted\": [{\"categories\": [\"0\", \"1\", \"2\", \"3\", \"4\", \"5\", \"6\", \"7\", \"8\", \"9\", \"10\", \"11\", \"12\", \"13\", \"14\", \"15\", \"16\", \"17\", \"18\", \"19\", \"20\", \"21\", \"22\", \"23\", \"24\", \"25\", \"26\", \"27\", \"28\", \"29\", \"30\", \"31\", \"32\", \"33\", \"34\", \"35\", \"36\", \"37\", \"38\", \"39\", \"40\", \"41\", \"42\", \"43\", \"44\", \"45\", \"46\", \"47\", \"48\", \"49\", \"50\", \"51\", \"52\", \"53\", \"54\", \"55\", \"56\", \"57\", \"58\", \"59\", \"60\", \"61\", \"62\", \"63\", \"64\", \"68\", \"69\"], \"mode\": \"markers\", \"name\": \"average_precision_score_weighted\", \"stepped\": false, \"type\": \"scatter\", \"data\": [0.9390440746669853, 0.9331021556844338, 0.9079189973241591, 0.8971605523522632, 0.8843699534346886, 0.8798640776548593, 0.8837129341558615, 0.8879194045990406, 0.9000000237821583, 0.8805597344049882, 0.8851575150134667, 0.8625726953028542, 0.8813371048424564, 0.9193992478712231, 0.8957322156765631, 0.8602472916113598, 0.8730436571979091, 0.8796318805485963, 0.8679093039638504, 0.9202467567758272, 0.9344952513459894, 0.9177984824697043, 0.9199309060929586, 0.9385701591213662, 0.9366107927490781, 0.9065226295900143, 0.9169758821750028, 0.9091570899986341, 0.930299921890874, 0.9162373193246227, 0.8679350120498313, 0.9168588221892463, 0.9385177183339917, 0.9387385850952317, 0.9396412400430363, 0.8868693472537081, 0.9398343131894196, 0.9376981335241872, 0.9383368438481913, 0.9382267355748816, 0.9391369032333008, 0.9381519478029918, 0.9387726165136125, 0.9356369553275142, 0.9384790511102045, 0.6271885272016243, 0.9402989555677739, 0.916966368931558, 0.9205457744439975, 0.9366262133379782, 0.9365532353327994, 0.924542250034553, 0.9378352654004285, 0.9350668215351924, 0.9334410891424284, 0.9364183596190369, 0.9386534424127813, 0.9292960850271811, 0.933077292442095, 0.9390649428567706, 0.9392369864928657, 0.9381064557525676, 0.9364050754807837, 0.9389016288292658, 0.9329814587552905, 0.9404681520533733, 0.9404008540301818]}, {\"categories\": [\"0\", \"1\", \"2\", \"3\", \"4\", \"5\", \"6\", \"7\", \"8\", \"9\", \"10\", \"11\", \"12\", \"13\", \"14\", \"15\", \"16\", \"17\", \"18\", \"19\", \"20\", \"21\", \"22\", \"23\", \"24\", \"25\", \"26\", \"27\", \"28\", \"29\", \"30\", \"31\", \"32\", \"33\", \"34\", \"35\", \"36\", \"37\", \"38\", \"39\", \"40\", \"41\", \"42\", \"43\", \"44\", \"45\", \"46\", \"47\", \"48\", \"49\", \"50\", \"51\", \"52\", \"53\", \"54\", \"55\", \"56\", \"57\", \"58\", \"59\", \"60\", \"61\", \"62\", \"63\", \"64\", \"68\", \"69\"], \"mode\": \"lines\", \"name\": \"average_precision_score_weighted_max\", \"stepped\": true, \"type\": \"scatter\", \"data\": [0.9390440746669853, 0.9390440746669853, 0.9390440746669853, 0.9390440746669853, 0.9390440746669853, 0.9390440746669853, 0.9390440746669853, 0.9390440746669853, 0.9390440746669853, 0.9390440746669853, 0.9390440746669853, 0.9390440746669853, 0.9390440746669853, 0.9390440746669853, 0.9390440746669853, 0.9390440746669853, 0.9390440746669853, 0.9390440746669853, 0.9390440746669853, 0.9390440746669853, 0.9390440746669853, 0.9390440746669853, 0.9390440746669853, 0.9390440746669853, 0.9390440746669853, 0.9390440746669853, 0.9390440746669853, 0.9390440746669853, 0.9390440746669853, 0.9390440746669853, 0.9390440746669853, 0.9390440746669853, 0.9390440746669853, 0.9390440746669853, 0.9396412400430363, 0.9396412400430363, 0.9398343131894196, 0.9398343131894196, 0.9398343131894196, 0.9398343131894196, 0.9398343131894196, 0.9398343131894196, 0.9398343131894196, 0.9398343131894196, 0.9398343131894196, 0.9398343131894196, 0.9402989555677739, 0.9402989555677739, 0.9402989555677739, 0.9402989555677739, 0.9402989555677739, 0.9402989555677739, 0.9402989555677739, 0.9402989555677739, 0.9402989555677739, 0.9402989555677739, 0.9402989555677739, 0.9402989555677739, 0.9402989555677739, 0.9402989555677739, 0.9402989555677739, 0.9402989555677739, 0.9402989555677739, 0.9402989555677739, 0.9402989555677739, 0.9404681520533733, 0.9404681520533733]}], \"log_loss\": [{\"categories\": [\"0\", \"1\", \"2\", \"3\", \"4\", \"5\", \"6\", \"7\", \"8\", \"9\", \"10\", \"11\", \"12\", \"13\", \"14\", \"15\", \"16\", \"17\", \"18\", \"19\", \"20\", \"21\", \"22\", \"23\", \"24\", \"25\", \"26\", \"27\", \"28\", \"29\", \"30\", \"31\", \"32\", \"33\", \"34\", \"35\", \"36\", \"37\", \"38\", \"39\", \"40\", \"41\", \"42\", \"43\", \"44\", \"45\", \"46\", \"47\", \"48\", \"49\", \"50\", \"51\", \"52\", \"53\", \"54\", \"55\", \"56\", \"57\", \"58\", \"59\", \"60\", \"61\", \"62\", \"63\", \"64\", \"68\", \"69\"], \"mode\": \"markers\", \"name\": \"log_loss\", \"stepped\": false, \"type\": \"scatter\", \"data\": [0.28275920092224316, 0.2993455196460976, 0.37005782872394555, 0.49278265325071635, 0.4239869810234695, 0.3827033637988195, 0.383034945269005, 0.39642779562736935, 0.4175232052643311, 0.5025224367760814, 0.506680322244264, 0.5161813296199833, 0.583004317533432, 0.42018879572737633, 0.40372166576419594, 0.3999261922156364, 0.47714962319760124, 0.5174922339220384, 0.557891692261393, 0.3258153284436879, 0.3086050999148241, 0.3699832290706278, 0.3219089568943806, 0.28366707202820035, 0.2916968524642706, 0.34363565141645713, 0.3270547104928901, 0.3379549874731438, 0.3028589234420711, 0.39557861278480866, 0.41454541202848977, 0.32696522567678704, 0.2843084157252703, 0.2836464926532474, 0.28124968025487285, 0.3722321167153086, 0.2819296765727324, 0.2871032770888525, 0.28469024227672063, 0.2847969679801907, 0.28318783924811297, 0.28485890682341874, 0.2837144259322962, 0.29302141484544697, 0.2841230288979714, 0.5608443720864903, 0.2795302556768069, 0.32701166377064095, 0.32902256966682497, 0.2885567210094705, 0.289847587268311, 0.3139932111854213, 0.28705399816611715, 0.2960342636993107, 0.298513289533211, 0.29091290787033286, 0.2841890523711371, 0.3100300516203743, 0.3014331410914012, 0.2829193840317926, 0.2833566424190903, 0.28627358110787676, 0.28916847104101606, 0.2838173224305824, 0.2996811988465212, 0.27934491416653745, 0.2960878752796356]}, {\"categories\": [\"0\", \"1\", \"2\", \"3\", \"4\", \"5\", \"6\", \"7\", \"8\", \"9\", \"10\", \"11\", \"12\", \"13\", \"14\", \"15\", \"16\", \"17\", \"18\", \"19\", \"20\", \"21\", \"22\", \"23\", \"24\", \"25\", \"26\", \"27\", \"28\", \"29\", \"30\", \"31\", \"32\", \"33\", \"34\", \"35\", \"36\", \"37\", \"38\", \"39\", \"40\", \"41\", \"42\", \"43\", \"44\", \"45\", \"46\", \"47\", \"48\", \"49\", \"50\", \"51\", \"52\", \"53\", \"54\", \"55\", \"56\", \"57\", \"58\", \"59\", \"60\", \"61\", \"62\", \"63\", \"64\", \"68\", \"69\"], \"mode\": \"lines\", \"name\": \"log_loss_min\", \"stepped\": true, \"type\": \"scatter\", \"data\": [0.28275920092224316, 0.28275920092224316, 0.28275920092224316, 0.28275920092224316, 0.28275920092224316, 0.28275920092224316, 0.28275920092224316, 0.28275920092224316, 0.28275920092224316, 0.28275920092224316, 0.28275920092224316, 0.28275920092224316, 0.28275920092224316, 0.28275920092224316, 0.28275920092224316, 0.28275920092224316, 0.28275920092224316, 0.28275920092224316, 0.28275920092224316, 0.28275920092224316, 0.28275920092224316, 0.28275920092224316, 0.28275920092224316, 0.28275920092224316, 0.28275920092224316, 0.28275920092224316, 0.28275920092224316, 0.28275920092224316, 0.28275920092224316, 0.28275920092224316, 0.28275920092224316, 0.28275920092224316, 0.28275920092224316, 0.28275920092224316, 0.28124968025487285, 0.28124968025487285, 0.28124968025487285, 0.28124968025487285, 0.28124968025487285, 0.28124968025487285, 0.28124968025487285, 0.28124968025487285, 0.28124968025487285, 0.28124968025487285, 0.28124968025487285, 0.28124968025487285, 0.2795302556768069, 0.2795302556768069, 0.2795302556768069, 0.2795302556768069, 0.2795302556768069, 0.2795302556768069, 0.2795302556768069, 0.2795302556768069, 0.2795302556768069, 0.2795302556768069, 0.2795302556768069, 0.2795302556768069, 0.2795302556768069, 0.2795302556768069, 0.2795302556768069, 0.2795302556768069, 0.2795302556768069, 0.2795302556768069, 0.2795302556768069, 0.27934491416653745, 0.27934491416653745]}], \"precision_score_weighted\": [{\"categories\": [\"0\", \"1\", \"2\", \"3\", \"4\", \"5\", \"6\", \"7\", \"8\", \"9\", \"10\", \"11\", \"12\", \"13\", \"14\", \"15\", \"16\", \"17\", \"18\", \"19\", \"20\", \"21\", \"22\", \"23\", \"24\", \"25\", \"26\", \"27\", \"28\", \"29\", \"30\", \"31\", \"32\", \"33\", \"34\", \"35\", \"36\", \"37\", \"38\", \"39\", \"40\", \"41\", \"42\", \"43\", \"44\", \"45\", \"46\", \"47\", \"48\", \"49\", \"50\", \"51\", \"52\", \"53\", \"54\", \"55\", \"56\", \"57\", \"58\", \"59\", \"60\", \"61\", \"62\", \"63\", \"64\", \"68\", \"69\"], \"mode\": \"markers\", \"name\": \"precision_score_weighted\", \"stepped\": false, \"type\": \"scatter\", \"data\": [0.8655067207486846, 0.8566907003679635, 0.8280813369583016, 0.8277616503545845, 0.8056857218214777, 0.8140355887968648, 0.8109740137801232, 0.8090349783094284, 0.8206681396943415, 0.8140899613238639, 0.8186463342336305, 0.8147269831516295, 0.8169822650696116, 0.8462646903136353, 0.8151522784849545, 0.8051540417191105, 0.8192633327039751, 0.8155570388263339, 0.8157625158598829, 0.8420275283297187, 0.8606171304898048, 0.8396820494619293, 0.8426491278481606, 0.8648252147716142, 0.8611932120558725, 0.8317663254066456, 0.8408539741645502, 0.832614494637364, 0.8541976074940344, 0.8487052393134696, 0.7970610169878145, 0.8408882681861358, 0.8654812222400847, 0.8656261080740656, 0.866232114059922, 0.8108518094311838, 0.8651870607457663, 0.8638866268886207, 0.8642200615613828, 0.8652187700673446, 0.86429366261086, 0.8650598857169076, 0.8643066599442376, 0.8615027325502428, 0.8651646303540617, 0.565750145941529, 0.8659391491549592, 0.840904027175735, 0.8450247860969992, 0.8633749011033526, 0.8622244620058959, 0.847284827297966, 0.8632072099248855, 0.8592639066993778, 0.8573398987603685, 0.8617379455826683, 0.8645322806435909, 0.8527101696365988, 0.8573166412916372, 0.8647591370665884, 0.8644684811777836, 0.86326379619353, 0.8622338322308922, 0.8648825228866622, 0.8571725660446207, 0.8664088573336016, 0.8664735736939951]}, {\"categories\": [\"0\", \"1\", \"2\", \"3\", \"4\", \"5\", \"6\", \"7\", \"8\", \"9\", \"10\", \"11\", \"12\", \"13\", \"14\", \"15\", \"16\", \"17\", \"18\", \"19\", \"20\", \"21\", \"22\", \"23\", \"24\", \"25\", \"26\", \"27\", \"28\", \"29\", \"30\", \"31\", \"32\", \"33\", \"34\", \"35\", \"36\", \"37\", \"38\", \"39\", \"40\", \"41\", \"42\", \"43\", \"44\", \"45\", \"46\", \"47\", \"48\", \"49\", \"50\", \"51\", \"52\", \"53\", \"54\", \"55\", \"56\", \"57\", \"58\", \"59\", \"60\", \"61\", \"62\", \"63\", \"64\", \"68\", \"69\"], \"mode\": \"lines\", \"name\": \"precision_score_weighted_max\", \"stepped\": true, \"type\": \"scatter\", \"data\": [0.8655067207486846, 0.8655067207486846, 0.8655067207486846, 0.8655067207486846, 0.8655067207486846, 0.8655067207486846, 0.8655067207486846, 0.8655067207486846, 0.8655067207486846, 0.8655067207486846, 0.8655067207486846, 0.8655067207486846, 0.8655067207486846, 0.8655067207486846, 0.8655067207486846, 0.8655067207486846, 0.8655067207486846, 0.8655067207486846, 0.8655067207486846, 0.8655067207486846, 0.8655067207486846, 0.8655067207486846, 0.8655067207486846, 0.8655067207486846, 0.8655067207486846, 0.8655067207486846, 0.8655067207486846, 0.8655067207486846, 0.8655067207486846, 0.8655067207486846, 0.8655067207486846, 0.8655067207486846, 0.8655067207486846, 0.8656261080740656, 0.866232114059922, 0.866232114059922, 0.866232114059922, 0.866232114059922, 0.866232114059922, 0.866232114059922, 0.866232114059922, 0.866232114059922, 0.866232114059922, 0.866232114059922, 0.866232114059922, 0.866232114059922, 0.866232114059922, 0.866232114059922, 0.866232114059922, 0.866232114059922, 0.866232114059922, 0.866232114059922, 0.866232114059922, 0.866232114059922, 0.866232114059922, 0.866232114059922, 0.866232114059922, 0.866232114059922, 0.866232114059922, 0.866232114059922, 0.866232114059922, 0.866232114059922, 0.866232114059922, 0.866232114059922, 0.866232114059922, 0.8664088573336016, 0.8664735736939951]}], \"matthews_correlation\": [{\"categories\": [\"0\", \"1\", \"2\", \"3\", \"4\", \"5\", \"6\", \"7\", \"8\", \"9\", \"10\", \"11\", \"12\", \"13\", \"14\", \"15\", \"16\", \"17\", \"18\", \"19\", \"20\", \"21\", \"22\", \"23\", \"24\", \"25\", \"26\", \"27\", \"28\", \"29\", \"30\", \"31\", \"32\", \"33\", \"34\", \"35\", \"36\", \"37\", \"38\", \"39\", \"40\", \"41\", \"42\", \"43\", \"44\", \"45\", \"46\", \"47\", \"48\", \"49\", \"50\", \"51\", \"52\", \"53\", \"54\", \"55\", \"56\", \"57\", \"58\", \"59\", \"60\", \"61\", \"62\", \"63\", \"64\", \"68\", \"69\"], \"mode\": \"markers\", \"name\": \"matthews_correlation\", \"stepped\": false, \"type\": \"scatter\", \"data\": [0.6353202455207431, 0.6050902531055435, 0.5093647852907501, 0.49497266051701655, 0.27801469504974186, 0.48952556344578635, 0.4825050478110313, 0.45572394638420877, 0.33037258402381287, 0.45647406543153846, 0.4670394121353324, 0.4564694498892288, 0.46830757187325334, 0.5734563977992424, 0.408667569991713, 0.46021450028196387, 0.47504596373458446, 0.4589819980871915, 0.46273362438356685, 0.5666074831609436, 0.6199271206709357, 0.52964201559221, 0.5730368063483916, 0.6335360894626325, 0.6194228409629199, 0.5437568062695022, 0.5684693546051134, 0.5469332453103051, 0.6050487480216548, 0.5721745200183195, 0.41810906085087873, 0.5685449673031532, 0.635560741532614, 0.6356161238855597, 0.6362512522106425, 0.48038413918127826, 0.6334932502367284, 0.6317770584121055, 0.6317570778417819, 0.6348748790814183, 0.6305192760340593, 0.6345766294725761, 0.6310738260059935, 0.625731779793708, 0.6344221692663957, 0.0, 0.636017916920139, 0.5686257150400971, 0.5813173540364265, 0.6292417142426748, 0.6274955216727227, 0.5870560241976205, 0.6267971927101845, 0.6137566945595198, 0.6070878906382926, 0.6216510789070141, 0.6320798810945236, 0.5928246048609391, 0.6069375122609756, 0.6330170941334654, 0.6305547959991407, 0.6271589597172726, 0.6253782888264381, 0.6323473461506919, 0.6063338703487142, 0.6372123988574201, 0.6375617258094892]}, {\"categories\": [\"0\", \"1\", \"2\", \"3\", \"4\", \"5\", \"6\", \"7\", \"8\", \"9\", \"10\", \"11\", \"12\", \"13\", \"14\", \"15\", \"16\", \"17\", \"18\", \"19\", \"20\", \"21\", \"22\", \"23\", \"24\", \"25\", \"26\", \"27\", \"28\", \"29\", \"30\", \"31\", \"32\", \"33\", \"34\", \"35\", \"36\", \"37\", \"38\", \"39\", \"40\", \"41\", \"42\", \"43\", \"44\", \"45\", \"46\", \"47\", \"48\", \"49\", \"50\", \"51\", \"52\", \"53\", \"54\", \"55\", \"56\", \"57\", \"58\", \"59\", \"60\", \"61\", \"62\", \"63\", \"64\", \"68\", \"69\"], \"mode\": \"lines\", \"name\": \"matthews_correlation_max\", \"stepped\": true, \"type\": \"scatter\", \"data\": [0.6353202455207431, 0.6353202455207431, 0.6353202455207431, 0.6353202455207431, 0.6353202455207431, 0.6353202455207431, 0.6353202455207431, 0.6353202455207431, 0.6353202455207431, 0.6353202455207431, 0.6353202455207431, 0.6353202455207431, 0.6353202455207431, 0.6353202455207431, 0.6353202455207431, 0.6353202455207431, 0.6353202455207431, 0.6353202455207431, 0.6353202455207431, 0.6353202455207431, 0.6353202455207431, 0.6353202455207431, 0.6353202455207431, 0.6353202455207431, 0.6353202455207431, 0.6353202455207431, 0.6353202455207431, 0.6353202455207431, 0.6353202455207431, 0.6353202455207431, 0.6353202455207431, 0.6353202455207431, 0.635560741532614, 0.6356161238855597, 0.6362512522106425, 0.6362512522106425, 0.6362512522106425, 0.6362512522106425, 0.6362512522106425, 0.6362512522106425, 0.6362512522106425, 0.6362512522106425, 0.6362512522106425, 0.6362512522106425, 0.6362512522106425, 0.6362512522106425, 0.6362512522106425, 0.6362512522106425, 0.6362512522106425, 0.6362512522106425, 0.6362512522106425, 0.6362512522106425, 0.6362512522106425, 0.6362512522106425, 0.6362512522106425, 0.6362512522106425, 0.6362512522106425, 0.6362512522106425, 0.6362512522106425, 0.6362512522106425, 0.6362512522106425, 0.6362512522106425, 0.6362512522106425, 0.6362512522106425, 0.6362512522106425, 0.6372123988574201, 0.6375617258094892]}], \"AUC_weighted\": [{\"categories\": [\"0\", \"1\", \"2\", \"3\", \"4\", \"5\", \"6\", \"7\", \"8\", \"9\", \"10\", \"11\", \"12\", \"13\", \"14\", \"15\", \"16\", \"17\", \"18\", \"19\", \"20\", \"21\", \"22\", \"23\", \"24\", \"25\", \"26\", \"27\", \"28\", \"29\", \"30\", \"31\", \"32\", \"33\", \"34\", \"35\", \"36\", \"37\", \"38\", \"39\", \"40\", \"41\", \"42\", \"43\", \"44\", \"45\", \"46\", \"47\", \"48\", \"49\", \"50\", \"51\", \"52\", \"53\", \"54\", \"55\", \"56\", \"57\", \"58\", \"59\", \"60\", \"61\", \"62\", \"63\", \"64\", \"68\", \"69\"], \"mode\": \"markers\", \"name\": \"AUC_weighted\", \"stepped\": false, \"type\": \"scatter\", \"data\": [0.9274889336889851, 0.9198681527105746, 0.8923153811592635, 0.8800144135912022, 0.8680065640605097, 0.8671041924869718, 0.8689526418900181, 0.8710479331811258, 0.8808417115955651, 0.8610702629546975, 0.864512074893652, 0.8465532918109802, 0.8606043147998154, 0.9046761589953128, 0.8781948345140054, 0.8498428976551977, 0.8616237695713782, 0.861276468482022, 0.8484107692207811, 0.9067413577263572, 0.9214764769225215, 0.9024225199583041, 0.9072399352266561, 0.9269572584444553, 0.9241719475506093, 0.8939038821678228, 0.9040139553683014, 0.8980074824166673, 0.9169665002184348, 0.903724804773572, 0.850384626417557, 0.9040276071403944, 0.9267790261969967, 0.9271263456441787, 0.9281627486282641, 0.8743216755937325, 0.9283541197766596, 0.9256049329554003, 0.926581468071185, 0.9265077285947578, 0.9274757982106067, 0.9263367135923009, 0.9272428348803677, 0.9230139832016702, 0.9268223569691356, 0.5, 0.9290034624782695, 0.9040004828006417, 0.905651177536275, 0.9244089538905514, 0.9243002850913274, 0.9115487702909253, 0.9259229800478334, 0.9221617547793134, 0.9204042482354685, 0.9240100710558755, 0.9269289361528316, 0.9156470012085102, 0.9198185179243211, 0.9275078441603908, 0.9276228029856435, 0.9261913703918753, 0.9243881539097204, 0.927203224644035, 0.9197686074706933, 0.9292166295140211, 0.929106837498583]}, {\"categories\": [\"0\", \"1\", \"2\", \"3\", \"4\", \"5\", \"6\", \"7\", \"8\", \"9\", \"10\", \"11\", \"12\", \"13\", \"14\", \"15\", \"16\", \"17\", \"18\", \"19\", \"20\", \"21\", \"22\", \"23\", \"24\", \"25\", \"26\", \"27\", \"28\", \"29\", \"30\", \"31\", \"32\", \"33\", \"34\", \"35\", \"36\", \"37\", \"38\", \"39\", \"40\", \"41\", \"42\", \"43\", \"44\", \"45\", \"46\", \"47\", \"48\", \"49\", \"50\", \"51\", \"52\", \"53\", \"54\", \"55\", \"56\", \"57\", \"58\", \"59\", \"60\", \"61\", \"62\", \"63\", \"64\", \"68\", \"69\"], \"mode\": \"lines\", \"name\": \"AUC_weighted_max\", \"stepped\": true, \"type\": \"scatter\", \"data\": [0.9274889336889851, 0.9274889336889851, 0.9274889336889851, 0.9274889336889851, 0.9274889336889851, 0.9274889336889851, 0.9274889336889851, 0.9274889336889851, 0.9274889336889851, 0.9274889336889851, 0.9274889336889851, 0.9274889336889851, 0.9274889336889851, 0.9274889336889851, 0.9274889336889851, 0.9274889336889851, 0.9274889336889851, 0.9274889336889851, 0.9274889336889851, 0.9274889336889851, 0.9274889336889851, 0.9274889336889851, 0.9274889336889851, 0.9274889336889851, 0.9274889336889851, 0.9274889336889851, 0.9274889336889851, 0.9274889336889851, 0.9274889336889851, 0.9274889336889851, 0.9274889336889851, 0.9274889336889851, 0.9274889336889851, 0.9274889336889851, 0.9281627486282641, 0.9281627486282641, 0.9283541197766596, 0.9283541197766596, 0.9283541197766596, 0.9283541197766596, 0.9283541197766596, 0.9283541197766596, 0.9283541197766596, 0.9283541197766596, 0.9283541197766596, 0.9283541197766596, 0.9290034624782695, 0.9290034624782695, 0.9290034624782695, 0.9290034624782695, 0.9290034624782695, 0.9290034624782695, 0.9290034624782695, 0.9290034624782695, 0.9290034624782695, 0.9290034624782695, 0.9290034624782695, 0.9290034624782695, 0.9290034624782695, 0.9290034624782695, 0.9290034624782695, 0.9290034624782695, 0.9290034624782695, 0.9290034624782695, 0.9290034624782695, 0.9292166295140211, 0.9292166295140211]}], \"recall_score_weighted\": [{\"categories\": [\"0\", \"1\", \"2\", \"3\", \"4\", \"5\", \"6\", \"7\", \"8\", \"9\", \"10\", \"11\", \"12\", \"13\", \"14\", \"15\", \"16\", \"17\", \"18\", \"19\", \"20\", \"21\", \"22\", \"23\", \"24\", \"25\", \"26\", \"27\", \"28\", \"29\", \"30\", \"31\", \"32\", \"33\", \"34\", \"35\", \"36\", \"37\", \"38\", \"39\", \"40\", \"41\", \"42\", \"43\", \"44\", \"45\", \"46\", \"47\", \"48\", \"49\", \"50\", \"51\", \"52\", \"53\", \"54\", \"55\", \"56\", \"57\", \"58\", \"59\", \"60\", \"61\", \"62\", \"63\", \"64\", \"68\", \"69\"], \"mode\": \"markers\", \"name\": \"recall_score_weighted\", \"stepped\": false, \"type\": \"scatter\", \"data\": [0.8697979633504793, 0.861748880053025, 0.8338638836873671, 0.7468927073316889, 0.780216691372368, 0.8242448086854537, 0.8215469852076295, 0.8184511615591511, 0.7887308481915941, 0.7247135813389682, 0.7286940182374774, 0.7230995765679931, 0.735593035852728, 0.8521296632469868, 0.8082354334768732, 0.8168148446425789, 0.7394624743499565, 0.7245144418944152, 0.7300207914186012, 0.848746199710573, 0.8654638180662856, 0.8403874235388489, 0.8488568044831618, 0.8691788147571152, 0.8659945517877221, 0.838883854842452, 0.8471099096878867, 0.8393481288823462, 0.8592499661992752, 0.8062447627213581, 0.8086330155698483, 0.8471541281258947, 0.8697095729275389, 0.8699306577828827, 0.8705940786020264, 0.8216797260931081, 0.8696431988174513, 0.8680952429850354, 0.8686259889309655, 0.8694883853864492, 0.8688692172338953, 0.8693115042997211, 0.8688250110203809, 0.8657513039256027, 0.8694883927211453, 0.7521558823407167, 0.8702844810788066, 0.8471541403503882, 0.850360514983684, 0.8678741703541851, 0.8664589358480583, 0.8525939935195515, 0.8678741752439827, 0.8642254988754688, 0.8623680530953761, 0.8665252806193614, 0.8690018945520077, 0.8580117570289005, 0.8623237882042927, 0.8691566859789216, 0.8690240086608092, 0.86794047356221, 0.8669453826743233, 0.8693778441812267, 0.8621689698834931, 0.8707267583650375, 0.8707488578044467]}, {\"categories\": [\"0\", \"1\", \"2\", \"3\", \"4\", \"5\", \"6\", \"7\", \"8\", \"9\", \"10\", \"11\", \"12\", \"13\", \"14\", \"15\", \"16\", \"17\", \"18\", \"19\", \"20\", \"21\", \"22\", \"23\", \"24\", \"25\", \"26\", \"27\", \"28\", \"29\", \"30\", \"31\", \"32\", \"33\", \"34\", \"35\", \"36\", \"37\", \"38\", \"39\", \"40\", \"41\", \"42\", \"43\", \"44\", \"45\", \"46\", \"47\", \"48\", \"49\", \"50\", \"51\", \"52\", \"53\", \"54\", \"55\", \"56\", \"57\", \"58\", \"59\", \"60\", \"61\", \"62\", \"63\", \"64\", \"68\", \"69\"], \"mode\": \"lines\", \"name\": \"recall_score_weighted_max\", \"stepped\": true, \"type\": \"scatter\", \"data\": [0.8697979633504793, 0.8697979633504793, 0.8697979633504793, 0.8697979633504793, 0.8697979633504793, 0.8697979633504793, 0.8697979633504793, 0.8697979633504793, 0.8697979633504793, 0.8697979633504793, 0.8697979633504793, 0.8697979633504793, 0.8697979633504793, 0.8697979633504793, 0.8697979633504793, 0.8697979633504793, 0.8697979633504793, 0.8697979633504793, 0.8697979633504793, 0.8697979633504793, 0.8697979633504793, 0.8697979633504793, 0.8697979633504793, 0.8697979633504793, 0.8697979633504793, 0.8697979633504793, 0.8697979633504793, 0.8697979633504793, 0.8697979633504793, 0.8697979633504793, 0.8697979633504793, 0.8697979633504793, 0.8697979633504793, 0.8699306577828827, 0.8705940786020264, 0.8705940786020264, 0.8705940786020264, 0.8705940786020264, 0.8705940786020264, 0.8705940786020264, 0.8705940786020264, 0.8705940786020264, 0.8705940786020264, 0.8705940786020264, 0.8705940786020264, 0.8705940786020264, 0.8705940786020264, 0.8705940786020264, 0.8705940786020264, 0.8705940786020264, 0.8705940786020264, 0.8705940786020264, 0.8705940786020264, 0.8705940786020264, 0.8705940786020264, 0.8705940786020264, 0.8705940786020264, 0.8705940786020264, 0.8705940786020264, 0.8705940786020264, 0.8705940786020264, 0.8705940786020264, 0.8705940786020264, 0.8705940786020264, 0.8705940786020264, 0.8707267583650375, 0.8707488578044467]}], \"f1_score_weighted\": [{\"categories\": [\"0\", \"1\", \"2\", \"3\", \"4\", \"5\", \"6\", \"7\", \"8\", \"9\", \"10\", \"11\", \"12\", \"13\", \"14\", \"15\", \"16\", \"17\", \"18\", \"19\", \"20\", \"21\", \"22\", \"23\", \"24\", \"25\", \"26\", \"27\", \"28\", \"29\", \"30\", \"31\", \"32\", \"33\", \"34\", \"35\", \"36\", \"37\", \"38\", \"39\", \"40\", \"41\", \"42\", \"43\", \"44\", \"45\", \"46\", \"47\", \"48\", \"49\", \"50\", \"51\", \"52\", \"53\", \"54\", \"55\", \"56\", \"57\", \"58\", \"59\", \"60\", \"61\", \"62\", \"63\", \"64\", \"68\", \"69\"], \"mode\": \"markers\", \"name\": \"f1_score_weighted\", \"stepped\": false, \"type\": \"scatter\", \"data\": [0.8659221752333192, 0.8545252831335584, 0.8171362914788209, 0.7634357519286106, 0.71234771575112, 0.8133948277973371, 0.8110363809894124, 0.798088671758655, 0.7258242749966393, 0.7430666880257372, 0.7467835100651183, 0.7415127819687038, 0.7528614678484123, 0.8427501455428954, 0.7686082019629809, 0.8024340379601009, 0.756323712972276, 0.7429001994707587, 0.7478266406170468, 0.8409170017594605, 0.8602797054520153, 0.8217003682033175, 0.8434846607637796, 0.8652854542792792, 0.8599234917451757, 0.8329705698012637, 0.8418220134225628, 0.8340371394999064, 0.854976241192713, 0.8165389255267469, 0.7841510206409004, 0.8418537958636703, 0.8660036332875981, 0.8660421442552894, 0.866245127172335, 0.8101940636136973, 0.86525893640146, 0.8646107789548665, 0.8646364461390921, 0.865767209224505, 0.8641557334053976, 0.8656547878050785, 0.8643739965507974, 0.8623941649394327, 0.8656026160052118, 0.6457670552932678, 0.8661855323462916, 0.841882622636769, 0.8463049926246793, 0.8637274249550554, 0.8630465745838279, 0.8484365793991963, 0.8627680857190633, 0.8578428540992429, 0.8552744187786312, 0.8608084645608235, 0.8647549324729138, 0.8499122081743593, 0.8551964466833792, 0.8650877095411703, 0.8641365248470259, 0.8629105173169822, 0.8623263949679473, 0.8648320880376066, 0.8549449446717066, 0.8666160594803062, 0.8667368641097033]}, {\"categories\": [\"0\", \"1\", \"2\", \"3\", \"4\", \"5\", \"6\", \"7\", \"8\", \"9\", \"10\", \"11\", \"12\", \"13\", \"14\", \"15\", \"16\", \"17\", \"18\", \"19\", \"20\", \"21\", \"22\", \"23\", \"24\", \"25\", \"26\", \"27\", \"28\", \"29\", \"30\", \"31\", \"32\", \"33\", \"34\", \"35\", \"36\", \"37\", \"38\", \"39\", \"40\", \"41\", \"42\", \"43\", \"44\", \"45\", \"46\", \"47\", \"48\", \"49\", \"50\", \"51\", \"52\", \"53\", \"54\", \"55\", \"56\", \"57\", \"58\", \"59\", \"60\", \"61\", \"62\", \"63\", \"64\", \"68\", \"69\"], \"mode\": \"lines\", \"name\": \"f1_score_weighted_max\", \"stepped\": true, \"type\": \"scatter\", \"data\": [0.8659221752333192, 0.8659221752333192, 0.8659221752333192, 0.8659221752333192, 0.8659221752333192, 0.8659221752333192, 0.8659221752333192, 0.8659221752333192, 0.8659221752333192, 0.8659221752333192, 0.8659221752333192, 0.8659221752333192, 0.8659221752333192, 0.8659221752333192, 0.8659221752333192, 0.8659221752333192, 0.8659221752333192, 0.8659221752333192, 0.8659221752333192, 0.8659221752333192, 0.8659221752333192, 0.8659221752333192, 0.8659221752333192, 0.8659221752333192, 0.8659221752333192, 0.8659221752333192, 0.8659221752333192, 0.8659221752333192, 0.8659221752333192, 0.8659221752333192, 0.8659221752333192, 0.8659221752333192, 0.8660036332875981, 0.8660421442552894, 0.866245127172335, 0.866245127172335, 0.866245127172335, 0.866245127172335, 0.866245127172335, 0.866245127172335, 0.866245127172335, 0.866245127172335, 0.866245127172335, 0.866245127172335, 0.866245127172335, 0.866245127172335, 0.866245127172335, 0.866245127172335, 0.866245127172335, 0.866245127172335, 0.866245127172335, 0.866245127172335, 0.866245127172335, 0.866245127172335, 0.866245127172335, 0.866245127172335, 0.866245127172335, 0.866245127172335, 0.866245127172335, 0.866245127172335, 0.866245127172335, 0.866245127172335, 0.866245127172335, 0.866245127172335, 0.866245127172335, 0.8666160594803062, 0.8667368641097033]}], \"AUC_macro\": [{\"categories\": [\"0\", \"1\", \"2\", \"3\", \"4\", \"5\", \"6\", \"7\", \"8\", \"9\", \"10\", \"11\", \"12\", \"13\", \"14\", \"15\", \"16\", \"17\", \"18\", \"19\", \"20\", \"21\", \"22\", \"23\", \"24\", \"25\", \"26\", \"27\", \"28\", \"29\", \"30\", \"31\", \"32\", \"33\", \"34\", \"35\", \"36\", \"37\", \"38\", \"39\", \"40\", \"41\", \"42\", \"43\", \"44\", \"45\", \"46\", \"47\", \"48\", \"49\", \"50\", \"51\", \"52\", \"53\", \"54\", \"55\", \"56\", \"57\", \"58\", \"59\", \"60\", \"61\", \"62\", \"63\", \"64\", \"68\", \"69\"], \"mode\": \"markers\", \"name\": \"AUC_macro\", \"stepped\": false, \"type\": \"scatter\", \"data\": [0.9274889336889851, 0.9198681527105748, 0.8923153811592635, 0.8800144135912022, 0.8680065640605097, 0.8671041924869718, 0.8689526418900181, 0.8710479331811258, 0.8808417115955651, 0.8610702629546975, 0.864512074893652, 0.8465532918109802, 0.8606043147998154, 0.9046761589953128, 0.8781948345140054, 0.8498428976551977, 0.8616237695713782, 0.861276468482022, 0.8484107692207811, 0.9067413577263572, 0.9214764769225215, 0.9024225199583041, 0.9072399352266561, 0.9269572584444553, 0.9241719475506092, 0.8939038821678228, 0.9040139553683014, 0.8980074824166673, 0.9169665002184351, 0.903724804773572, 0.850384626417557, 0.9040276071403944, 0.9267790212187469, 0.9271263456441788, 0.9281627503422142, 0.8743216755937325, 0.9283541311264359, 0.9256049363099297, 0.9265814694694298, 0.9265077285947578, 0.9274757982106069, 0.9263367137011709, 0.9272428316075411, 0.9230139816673881, 0.9268223569691356, 0.5, 0.9290034608105231, 0.9040004828006417, 0.9056511758223251, 0.9244089521766015, 0.9243002833147109, 0.9115487702909253, 0.9259229784237174, 0.9221617499069652, 0.9204042482354687, 0.9240100694507956, 0.9269289378120515, 0.9156470012085102, 0.9198185162565746, 0.9275078425553109, 0.9276228029856435, 0.926191371996955, 0.9243881441138528, 0.927203224644035, 0.9197686074706933, 0.9292166295140213, 0.929106837498583]}, {\"categories\": [\"0\", \"1\", \"2\", \"3\", \"4\", \"5\", \"6\", \"7\", \"8\", \"9\", \"10\", \"11\", \"12\", \"13\", \"14\", \"15\", \"16\", \"17\", \"18\", \"19\", \"20\", \"21\", \"22\", \"23\", \"24\", \"25\", \"26\", \"27\", \"28\", \"29\", \"30\", \"31\", \"32\", \"33\", \"34\", \"35\", \"36\", \"37\", \"38\", \"39\", \"40\", \"41\", \"42\", \"43\", \"44\", \"45\", \"46\", \"47\", \"48\", \"49\", \"50\", \"51\", \"52\", \"53\", \"54\", \"55\", \"56\", \"57\", \"58\", \"59\", \"60\", \"61\", \"62\", \"63\", \"64\", \"68\", \"69\"], \"mode\": \"lines\", \"name\": \"AUC_macro_max\", \"stepped\": true, \"type\": \"scatter\", \"data\": [0.9274889336889851, 0.9274889336889851, 0.9274889336889851, 0.9274889336889851, 0.9274889336889851, 0.9274889336889851, 0.9274889336889851, 0.9274889336889851, 0.9274889336889851, 0.9274889336889851, 0.9274889336889851, 0.9274889336889851, 0.9274889336889851, 0.9274889336889851, 0.9274889336889851, 0.9274889336889851, 0.9274889336889851, 0.9274889336889851, 0.9274889336889851, 0.9274889336889851, 0.9274889336889851, 0.9274889336889851, 0.9274889336889851, 0.9274889336889851, 0.9274889336889851, 0.9274889336889851, 0.9274889336889851, 0.9274889336889851, 0.9274889336889851, 0.9274889336889851, 0.9274889336889851, 0.9274889336889851, 0.9274889336889851, 0.9274889336889851, 0.9281627503422142, 0.9281627503422142, 0.9283541311264359, 0.9283541311264359, 0.9283541311264359, 0.9283541311264359, 0.9283541311264359, 0.9283541311264359, 0.9283541311264359, 0.9283541311264359, 0.9283541311264359, 0.9283541311264359, 0.9290034608105231, 0.9290034608105231, 0.9290034608105231, 0.9290034608105231, 0.9290034608105231, 0.9290034608105231, 0.9290034608105231, 0.9290034608105231, 0.9290034608105231, 0.9290034608105231, 0.9290034608105231, 0.9290034608105231, 0.9290034608105231, 0.9290034608105231, 0.9290034608105231, 0.9290034608105231, 0.9290034608105231, 0.9290034608105231, 0.9290034608105231, 0.9292166295140213, 0.9292166295140213]}], \"average_precision_score_macro\": [{\"categories\": [\"0\", \"1\", \"2\", \"3\", \"4\", \"5\", \"6\", \"7\", \"8\", \"9\", \"10\", \"11\", \"12\", \"13\", \"14\", \"15\", \"16\", \"17\", \"18\", \"19\", \"20\", \"21\", \"22\", \"23\", \"24\", \"25\", \"26\", \"27\", \"28\", \"29\", \"30\", \"31\", \"32\", \"33\", \"34\", \"35\", \"36\", \"37\", \"38\", \"39\", \"40\", \"41\", \"42\", \"43\", \"44\", \"45\", \"46\", \"47\", \"48\", \"49\", \"50\", \"51\", \"52\", \"53\", \"54\", \"55\", \"56\", \"57\", \"58\", \"59\", \"60\", \"61\", \"62\", \"63\", \"64\", \"68\", \"69\"], \"mode\": \"markers\", \"name\": \"average_precision_score_macro\", \"stepped\": false, \"type\": \"scatter\", \"data\": [0.9031958892227223, 0.8940978845437929, 0.8539167608156945, 0.8358518650506881, 0.8154209175141093, 0.8081296323216758, 0.8133855534568347, 0.8208688664289572, 0.8415638255655018, 0.8100191672760129, 0.8189284881138847, 0.7800870763192257, 0.8108782806722271, 0.8741913972231471, 0.8339715820239253, 0.7756806988633077, 0.7963361570329279, 0.8079199000097734, 0.789266777578816, 0.8726224293172375, 0.8969571985661073, 0.8696825970337315, 0.8716355647538778, 0.9023403062092145, 0.8997014403660539, 0.8495336490550102, 0.8673117172952777, 0.8529747421128283, 0.8893627549965661, 0.8656326796306528, 0.7903809531107797, 0.8668732143247804, 0.9022940656589565, 0.9025719031396331, 0.9040358268640294, 0.8176021528670265, 0.9043797996308974, 0.9011368162602581, 0.9020331741978547, 0.9019214796587469, 0.9033530250022297, 0.9017254661280022, 0.9026417089348815, 0.8979995351216322, 0.902238906561608, 0.5, 0.9049990215597834, 0.8672194439592215, 0.8739838525245214, 0.8997371697166903, 0.8992910685857403, 0.8794197899153483, 0.9013921072470623, 0.8973919443482806, 0.8945890990647785, 0.8992077707510736, 0.9025946811411837, 0.8880859861903122, 0.8942428318627231, 0.9031311607053387, 0.9034576346944736, 0.9018255310373228, 0.8992721581250315, 0.9029333693607746, 0.8939332152082328, 0.9052596448596135, 0.9051750046987748]}, {\"categories\": [\"0\", \"1\", \"2\", \"3\", \"4\", \"5\", \"6\", \"7\", \"8\", \"9\", \"10\", \"11\", \"12\", \"13\", \"14\", \"15\", \"16\", \"17\", \"18\", \"19\", \"20\", \"21\", \"22\", \"23\", \"24\", \"25\", \"26\", \"27\", \"28\", \"29\", \"30\", \"31\", \"32\", \"33\", \"34\", \"35\", \"36\", \"37\", \"38\", \"39\", \"40\", \"41\", \"42\", \"43\", \"44\", \"45\", \"46\", \"47\", \"48\", \"49\", \"50\", \"51\", \"52\", \"53\", \"54\", \"55\", \"56\", \"57\", \"58\", \"59\", \"60\", \"61\", \"62\", \"63\", \"64\", \"68\", \"69\"], \"mode\": \"lines\", \"name\": \"average_precision_score_macro_max\", \"stepped\": true, \"type\": \"scatter\", \"data\": [0.9031958892227223, 0.9031958892227223, 0.9031958892227223, 0.9031958892227223, 0.9031958892227223, 0.9031958892227223, 0.9031958892227223, 0.9031958892227223, 0.9031958892227223, 0.9031958892227223, 0.9031958892227223, 0.9031958892227223, 0.9031958892227223, 0.9031958892227223, 0.9031958892227223, 0.9031958892227223, 0.9031958892227223, 0.9031958892227223, 0.9031958892227223, 0.9031958892227223, 0.9031958892227223, 0.9031958892227223, 0.9031958892227223, 0.9031958892227223, 0.9031958892227223, 0.9031958892227223, 0.9031958892227223, 0.9031958892227223, 0.9031958892227223, 0.9031958892227223, 0.9031958892227223, 0.9031958892227223, 0.9031958892227223, 0.9031958892227223, 0.9040358268640294, 0.9040358268640294, 0.9043797996308974, 0.9043797996308974, 0.9043797996308974, 0.9043797996308974, 0.9043797996308974, 0.9043797996308974, 0.9043797996308974, 0.9043797996308974, 0.9043797996308974, 0.9043797996308974, 0.9049990215597834, 0.9049990215597834, 0.9049990215597834, 0.9049990215597834, 0.9049990215597834, 0.9049990215597834, 0.9049990215597834, 0.9049990215597834, 0.9049990215597834, 0.9049990215597834, 0.9049990215597834, 0.9049990215597834, 0.9049990215597834, 0.9049990215597834, 0.9049990215597834, 0.9049990215597834, 0.9049990215597834, 0.9049990215597834, 0.9049990215597834, 0.9052596448596135, 0.9052596448596135]}], \"recall_score_micro\": [{\"categories\": [\"0\", \"1\", \"2\", \"3\", \"4\", \"5\", \"6\", \"7\", \"8\", \"9\", \"10\", \"11\", \"12\", \"13\", \"14\", \"15\", \"16\", \"17\", \"18\", \"19\", \"20\", \"21\", \"22\", \"23\", \"24\", \"25\", \"26\", \"27\", \"28\", \"29\", \"30\", \"31\", \"32\", \"33\", \"34\", \"35\", \"36\", \"37\", \"38\", \"39\", \"40\", \"41\", \"42\", \"43\", \"44\", \"45\", \"46\", \"47\", \"48\", \"49\", \"50\", \"51\", \"52\", \"53\", \"54\", \"55\", \"56\", \"57\", \"58\", \"59\", \"60\", \"61\", \"62\", \"63\", \"64\", \"68\", \"69\"], \"mode\": \"markers\", \"name\": \"recall_score_micro\", \"stepped\": false, \"type\": \"scatter\", \"data\": [0.8697979633504793, 0.861748880053025, 0.8338638836873671, 0.7468927073316889, 0.780216691372368, 0.8242448086854537, 0.8215469852076295, 0.8184511615591511, 0.7887308481915941, 0.7247135813389682, 0.7286940182374774, 0.7230995765679931, 0.735593035852728, 0.8521296632469868, 0.8082354334768732, 0.8168148446425789, 0.7394624743499565, 0.7245144418944152, 0.7300207914186012, 0.848746199710573, 0.8654638180662856, 0.8403874235388489, 0.8488568044831618, 0.8691788147571152, 0.8659945517877221, 0.838883854842452, 0.8471099096878867, 0.8393481288823462, 0.8592499661992752, 0.8062447627213581, 0.8086330155698483, 0.8471541281258947, 0.8697095729275389, 0.8699306577828827, 0.8705940786020264, 0.8216797260931081, 0.8696431988174513, 0.8680952429850354, 0.8686259889309655, 0.8694883853864492, 0.8688692172338953, 0.8693115042997211, 0.8688250110203809, 0.8657513039256027, 0.8694883927211453, 0.7521558823407167, 0.8702844810788066, 0.8471541403503882, 0.850360514983684, 0.8678741703541851, 0.8664589358480583, 0.8525939935195515, 0.8678741752439827, 0.8642254988754688, 0.8623680530953761, 0.8665252806193614, 0.8690018945520077, 0.8580117570289005, 0.8623237882042927, 0.8691566859789216, 0.8690240086608092, 0.86794047356221, 0.8669453826743233, 0.8693778441812267, 0.8621689698834931, 0.8707267583650375, 0.8707488578044467]}, {\"categories\": [\"0\", \"1\", \"2\", \"3\", \"4\", \"5\", \"6\", \"7\", \"8\", \"9\", \"10\", \"11\", \"12\", \"13\", \"14\", \"15\", \"16\", \"17\", \"18\", \"19\", \"20\", \"21\", \"22\", \"23\", \"24\", \"25\", \"26\", \"27\", \"28\", \"29\", \"30\", \"31\", \"32\", \"33\", \"34\", \"35\", \"36\", \"37\", \"38\", \"39\", \"40\", \"41\", \"42\", \"43\", \"44\", \"45\", \"46\", \"47\", \"48\", \"49\", \"50\", \"51\", \"52\", \"53\", \"54\", \"55\", \"56\", \"57\", \"58\", \"59\", \"60\", \"61\", \"62\", \"63\", \"64\", \"68\", \"69\"], \"mode\": \"lines\", \"name\": \"recall_score_micro_max\", \"stepped\": true, \"type\": \"scatter\", \"data\": [0.8697979633504793, 0.8697979633504793, 0.8697979633504793, 0.8697979633504793, 0.8697979633504793, 0.8697979633504793, 0.8697979633504793, 0.8697979633504793, 0.8697979633504793, 0.8697979633504793, 0.8697979633504793, 0.8697979633504793, 0.8697979633504793, 0.8697979633504793, 0.8697979633504793, 0.8697979633504793, 0.8697979633504793, 0.8697979633504793, 0.8697979633504793, 0.8697979633504793, 0.8697979633504793, 0.8697979633504793, 0.8697979633504793, 0.8697979633504793, 0.8697979633504793, 0.8697979633504793, 0.8697979633504793, 0.8697979633504793, 0.8697979633504793, 0.8697979633504793, 0.8697979633504793, 0.8697979633504793, 0.8697979633504793, 0.8699306577828827, 0.8705940786020264, 0.8705940786020264, 0.8705940786020264, 0.8705940786020264, 0.8705940786020264, 0.8705940786020264, 0.8705940786020264, 0.8705940786020264, 0.8705940786020264, 0.8705940786020264, 0.8705940786020264, 0.8705940786020264, 0.8705940786020264, 0.8705940786020264, 0.8705940786020264, 0.8705940786020264, 0.8705940786020264, 0.8705940786020264, 0.8705940786020264, 0.8705940786020264, 0.8705940786020264, 0.8705940786020264, 0.8705940786020264, 0.8705940786020264, 0.8705940786020264, 0.8705940786020264, 0.8705940786020264, 0.8705940786020264, 0.8705940786020264, 0.8705940786020264, 0.8705940786020264, 0.8707267583650375, 0.8707488578044467]}], \"balanced_accuracy\": [{\"categories\": [\"0\", \"1\", \"2\", \"3\", \"4\", \"5\", \"6\", \"7\", \"8\", \"9\", \"10\", \"11\", \"12\", \"13\", \"14\", \"15\", \"16\", \"17\", \"18\", \"19\", \"20\", \"21\", \"22\", \"23\", \"24\", \"25\", \"26\", \"27\", \"28\", \"29\", \"30\", \"31\", \"32\", \"33\", \"34\", \"35\", \"36\", \"37\", \"38\", \"39\", \"40\", \"41\", \"42\", \"43\", \"44\", \"45\", \"46\", \"47\", \"48\", \"49\", \"50\", \"51\", \"52\", \"53\", \"54\", \"55\", \"56\", \"57\", \"58\", \"59\", \"60\", \"61\", \"62\", \"63\", \"64\", \"68\", \"69\"], \"mode\": \"markers\", \"name\": \"balanced_accuracy\", \"stepped\": false, \"type\": \"scatter\", \"data\": [0.7992651069427531, 0.7723210134778931, 0.707192574878839, 0.7837141780761829, 0.5672956027119358, 0.7160903004256107, 0.7141123335131901, 0.6807739401050036, 0.5776103267040601, 0.7625716568334445, 0.7686436842844796, 0.7625175041891261, 0.7684334858981016, 0.7523032379963318, 0.631289073978863, 0.696489237797996, 0.7718592547859517, 0.7640845542010729, 0.7656500111612519, 0.7552492132427945, 0.7869078058577254, 0.7074921680472445, 0.7667972151832647, 0.7984576802885188, 0.7827604638947152, 0.7525319301807138, 0.7651842247912406, 0.7558954085529399, 0.7846256111101081, 0.8188411438386076, 0.6599032328506509, 0.7651510273300399, 0.8001771013354299, 0.7993393969391424, 0.7973680632635607, 0.7107790790650275, 0.7960745060810537, 0.7996041508501761, 0.7972361486105756, 0.7997943768736997, 0.7933305116560923, 0.8000033512231208, 0.7947765464026549, 0.7975972579782171, 0.7988516055379877, 0.5, 0.7984747441293838, 0.765297830031795, 0.7752884732947078, 0.795433527132863, 0.798068324099629, 0.7773677251310411, 0.7900451112927881, 0.7791902757651245, 0.7735952388958548, 0.7851724013014751, 0.7961390910367205, 0.7641418707892247, 0.7734306907030059, 0.7973815674705141, 0.7925278541136661, 0.7904899330505606, 0.7916425385560268, 0.7948466736734248, 0.7727667280372852, 0.7989175883223265, 0.7995379288931618]}, {\"categories\": [\"0\", \"1\", \"2\", \"3\", \"4\", \"5\", \"6\", \"7\", \"8\", \"9\", \"10\", \"11\", \"12\", \"13\", \"14\", \"15\", \"16\", \"17\", \"18\", \"19\", \"20\", \"21\", \"22\", \"23\", \"24\", \"25\", \"26\", \"27\", \"28\", \"29\", \"30\", \"31\", \"32\", \"33\", \"34\", \"35\", \"36\", \"37\", \"38\", \"39\", \"40\", \"41\", \"42\", \"43\", \"44\", \"45\", \"46\", \"47\", \"48\", \"49\", \"50\", \"51\", \"52\", \"53\", \"54\", \"55\", \"56\", \"57\", \"58\", \"59\", \"60\", \"61\", \"62\", \"63\", \"64\", \"68\", \"69\"], \"mode\": \"lines\", \"name\": \"balanced_accuracy_max\", \"stepped\": true, \"type\": \"scatter\", \"data\": [0.7992651069427531, 0.7992651069427531, 0.7992651069427531, 0.7992651069427531, 0.7992651069427531, 0.7992651069427531, 0.7992651069427531, 0.7992651069427531, 0.7992651069427531, 0.7992651069427531, 0.7992651069427531, 0.7992651069427531, 0.7992651069427531, 0.7992651069427531, 0.7992651069427531, 0.7992651069427531, 0.7992651069427531, 0.7992651069427531, 0.7992651069427531, 0.7992651069427531, 0.7992651069427531, 0.7992651069427531, 0.7992651069427531, 0.7992651069427531, 0.7992651069427531, 0.7992651069427531, 0.7992651069427531, 0.7992651069427531, 0.7992651069427531, 0.8188411438386076, 0.8188411438386076, 0.8188411438386076, 0.8188411438386076, 0.8188411438386076, 0.8188411438386076, 0.8188411438386076, 0.8188411438386076, 0.8188411438386076, 0.8188411438386076, 0.8188411438386076, 0.8188411438386076, 0.8188411438386076, 0.8188411438386076, 0.8188411438386076, 0.8188411438386076, 0.8188411438386076, 0.8188411438386076, 0.8188411438386076, 0.8188411438386076, 0.8188411438386076, 0.8188411438386076, 0.8188411438386076, 0.8188411438386076, 0.8188411438386076, 0.8188411438386076, 0.8188411438386076, 0.8188411438386076, 0.8188411438386076, 0.8188411438386076, 0.8188411438386076, 0.8188411438386076, 0.8188411438386076, 0.8188411438386076, 0.8188411438386076, 0.8188411438386076, 0.8188411438386076, 0.8188411438386076]}]}, \"metricName\": null, \"primaryMetricName\": \"AUC_weighted\", \"showLegend\": false}, \"run_metrics\": [{\"name\": \"experiment_status\", \"run_id\": \"AutoML_8b7c9872-e139-4e02-a108-1643a9d139e7\", \"categories\": [0, 1, 2, 3, 4, 5, 6, 7, 8, 9, 10, 11, 12, 13], \"series\": [{\"data\": [\"DatasetEvaluation\", \"FeaturesGeneration\", \"DatasetFeaturization\", \"DatasetFeaturizationCompleted\", \"DatasetCrossValidationSplit\", \"ModelSelection\", \"BestRunExplainModel\", \"ModelExplanationDataSetSetup\", \"PickSurrogateModel\", \"EngineeredFeatureExplanations\", \"EngineeredFeatureExplanations\", \"RawFeaturesExplanations\", \"RawFeaturesExplanations\", \"BestRunExplainModel\"]}]}, {\"name\": \"experiment_status_description\", \"run_id\": \"AutoML_8b7c9872-e139-4e02-a108-1643a9d139e7\", \"categories\": [0, 1, 2, 3, 4, 5, 6, 7, 8, 9, 10, 11, 12, 13], \"series\": [{\"data\": [\"Gathering dataset statistics.\", \"Generating features for the dataset.\", \"Beginning to fit featurizers and featurize the dataset.\", \"Completed fit featurizers and featurizing the dataset.\", \"Generating individually featurized CV splits.\", \"Beginning model selection.\", \"Best run model explanations started\", \"Model explanations data setup completed\", \"Choosing LightGBM as the surrogate model for explanations\", \"Computation of engineered features started\", \"Computation of engineered features completed\", \"Computation of raw features started\", \"Computation of raw features completed\", \"Best run model explanations completed\"]}]}, {\"name\": \"AUC_macro\", \"run_id\": \"AutoML_8b7c9872-e139-4e02-a108-1643a9d139e7\", \"categories\": [0], \"series\": [{\"data\": [0.9292166295140213]}]}, {\"name\": \"weighted_accuracy\", \"run_id\": \"AutoML_8b7c9872-e139-4e02-a108-1643a9d139e7\", \"categories\": [0], \"series\": [{\"data\": [0.9134023947528274]}]}, {\"name\": \"average_precision_score_macro\", \"run_id\": \"AutoML_8b7c9872-e139-4e02-a108-1643a9d139e7\", \"categories\": [0], \"series\": [{\"data\": [0.9052596448596135]}]}, {\"name\": \"f1_score_micro\", \"run_id\": \"AutoML_8b7c9872-e139-4e02-a108-1643a9d139e7\", \"categories\": [0], \"series\": [{\"data\": [0.8707267583650374]}]}, {\"name\": \"precision_score_weighted\", \"run_id\": \"AutoML_8b7c9872-e139-4e02-a108-1643a9d139e7\", \"categories\": [0], \"series\": [{\"data\": [0.8664088573336016]}]}, {\"name\": \"log_loss\", \"run_id\": \"AutoML_8b7c9872-e139-4e02-a108-1643a9d139e7\", \"categories\": [0], \"series\": [{\"data\": [0.27934491416653745]}]}, {\"name\": \"precision_score_micro\", \"run_id\": \"AutoML_8b7c9872-e139-4e02-a108-1643a9d139e7\", \"categories\": [0], \"series\": [{\"data\": [0.8707267583650375]}]}, {\"name\": \"recall_score_macro\", \"run_id\": \"AutoML_8b7c9872-e139-4e02-a108-1643a9d139e7\", \"categories\": [0], \"series\": [{\"data\": [0.7989175883223265]}]}, {\"name\": \"AUC_micro\", \"run_id\": \"AutoML_8b7c9872-e139-4e02-a108-1643a9d139e7\", \"categories\": [0], \"series\": [{\"data\": [0.9513853331119948]}]}, {\"name\": \"norm_macro_recall\", \"run_id\": \"AutoML_8b7c9872-e139-4e02-a108-1643a9d139e7\", \"categories\": [0], \"series\": [{\"data\": [0.5978351766446531]}]}, {\"name\": \"accuracy\", \"run_id\": \"AutoML_8b7c9872-e139-4e02-a108-1643a9d139e7\", \"categories\": [0], \"series\": [{\"data\": [0.8707267583650375]}]}, {\"name\": \"recall_score_weighted\", \"run_id\": \"AutoML_8b7c9872-e139-4e02-a108-1643a9d139e7\", \"categories\": [0], \"series\": [{\"data\": [0.8707267583650375]}]}, {\"name\": \"precision_score_macro\", \"run_id\": \"AutoML_8b7c9872-e139-4e02-a108-1643a9d139e7\", \"categories\": [0], \"series\": [{\"data\": [0.8396029083648712]}]}, {\"name\": \"average_precision_score_micro\", \"run_id\": \"AutoML_8b7c9872-e139-4e02-a108-1643a9d139e7\", \"categories\": [0], \"series\": [{\"data\": [0.9533224514379945]}]}, {\"name\": \"recall_score_micro\", \"run_id\": \"AutoML_8b7c9872-e139-4e02-a108-1643a9d139e7\", \"categories\": [0], \"series\": [{\"data\": [0.8707267583650375]}]}, {\"name\": \"matthews_correlation\", \"run_id\": \"AutoML_8b7c9872-e139-4e02-a108-1643a9d139e7\", \"categories\": [0], \"series\": [{\"data\": [0.6372123988574201]}]}, {\"name\": \"AUC_weighted\", \"run_id\": \"AutoML_8b7c9872-e139-4e02-a108-1643a9d139e7\", \"categories\": [0], \"series\": [{\"data\": [0.9292166295140211]}]}, {\"name\": \"f1_score_macro\", \"run_id\": \"AutoML_8b7c9872-e139-4e02-a108-1643a9d139e7\", \"categories\": [0], \"series\": [{\"data\": [0.815985958499747]}]}, {\"name\": \"average_precision_score_weighted\", \"run_id\": \"AutoML_8b7c9872-e139-4e02-a108-1643a9d139e7\", \"categories\": [0], \"series\": [{\"data\": [0.9404681520533733]}]}, {\"name\": \"balanced_accuracy\", \"run_id\": \"AutoML_8b7c9872-e139-4e02-a108-1643a9d139e7\", \"categories\": [0], \"series\": [{\"data\": [0.7989175883223265]}]}, {\"name\": \"f1_score_weighted\", \"run_id\": \"AutoML_8b7c9872-e139-4e02-a108-1643a9d139e7\", \"categories\": [0], \"series\": [{\"data\": [0.8666160594803062]}]}], \"run_logs\": \"\\nRun is completed.\", \"graph\": {}, \"widget_settings\": {\"childWidgetDisplay\": \"popup\", \"send_telemetry\": false, \"log_level\": \"INFO\", \"sdk_version\": \"1.31.0\"}, \"loading\": false}"
          },
          "metadata": {}
        }
      ],
      "execution_count": 31,
      "metadata": {
        "collapsed": true,
        "jupyter": {
          "source_hidden": false,
          "outputs_hidden": false
        },
        "nteract": {
          "transient": {
            "deleting": false
          }
        },
        "gather": {
          "logged": 1626611249234
        }
      }
    },
    {
      "cell_type": "code",
      "source": [
        "automl_run.wait_for_completion(show_output=True)"
      ],
      "outputs": [
        {
          "output_type": "display_data",
          "data": {
            "text/plain": "<IPython.core.display.HTML object>",
            "text/html": "<table style=\"width:100%\"><tr><th>Experiment</th><th>Id</th><th>Type</th><th>Status</th><th>Details Page</th><th>Docs Page</th></tr><tr><td>capstone</td><td>AutoML_8b7c9872-e139-4e02-a108-1643a9d139e7</td><td>automl</td><td>Completed</td><td><a href=\"https://ml.azure.com/runs/AutoML_8b7c9872-e139-4e02-a108-1643a9d139e7?wsid=/subscriptions/653662f1-95de-4498-b876-1fd625bf5d18/resourcegroups/udacitycapstone/workspaces/udacityws&amp;tid=60e63508-9cfd-4013-9a1f-7610707b07ce\" target=\"_blank\" rel=\"noopener\">Link to Azure Machine Learning studio</a></td><td><a href=\"https://docs.microsoft.com/en-us/python/api/overview/azure/ml/intro?view=azure-ml-py\" target=\"_blank\" rel=\"noopener\">Link to Documentation</a></td></tr></table>"
          },
          "metadata": {}
        },
        {
          "output_type": "stream",
          "name": "stdout",
          "text": [
            "\n",
            "\n",
            "****************************************************************************************************\n",
            "DATA GUARDRAILS: \n",
            "\n",
            "TYPE:         Class balancing detection\n",
            "STATUS:       PASSED\n",
            "DESCRIPTION:  Your inputs were analyzed, and all classes are balanced in your training data.\n",
            "              Learn more about imbalanced data: https://aka.ms/AutomatedMLImbalancedData\n",
            "\n",
            "****************************************************************************************************\n",
            "\n",
            "TYPE:         Missing feature values imputation\n",
            "STATUS:       PASSED\n",
            "DESCRIPTION:  No feature missing values were detected in the training data.\n",
            "              Learn more about missing value imputation: https://aka.ms/AutomatedMLFeaturization\n",
            "\n",
            "****************************************************************************************************\n",
            "\n",
            "TYPE:         High cardinality feature detection\n",
            "STATUS:       PASSED\n",
            "DESCRIPTION:  Your inputs were analyzed, and no high cardinality features were detected.\n",
            "              Learn more about high cardinality feature handling: https://aka.ms/AutomatedMLFeaturization\n",
            "\n",
            "****************************************************************************************************\n",
            "\n",
            "****************************************************************************************************\n",
            "ITERATION: The iteration being evaluated.\n",
            "PIPELINE: A summary description of the pipeline being evaluated.\n",
            "DURATION: Time taken for the current iteration.\n",
            "METRIC: The result of computing score on the fitted pipeline.\n",
            "BEST: The best observed score thus far.\n",
            "****************************************************************************************************\n",
            "\n",
            " ITERATION   PIPELINE                                       DURATION      METRIC      BEST\n",
            "         0   MaxAbsScaler LightGBM                          0:00:53       0.9275    0.9275\n",
            "         1   MaxAbsScaler XGBoostClassifier                 0:00:48       0.9199    0.9275\n",
            "         2   MaxAbsScaler RandomForest                      0:02:02       0.8923    0.9275\n",
            "         3   MaxAbsScaler RandomForest                      0:01:42       0.8800    0.9275\n",
            "         4   MaxAbsScaler RandomForest                      0:00:42       0.8680    0.9275\n",
            "         5   MaxAbsScaler ExtremeRandomTrees                0:01:02       0.8671    0.9275\n",
            "         6   MaxAbsScaler ExtremeRandomTrees                0:00:43       0.8690    0.9275\n",
            "         7   MaxAbsScaler ExtremeRandomTrees                0:00:43       0.8710    0.9275\n",
            "         8   MaxAbsScaler RandomForest                      0:00:41       0.8808    0.9275\n",
            "         9   MaxAbsScaler ExtremeRandomTrees                0:01:03       0.8611    0.9275\n",
            "        10   MaxAbsScaler RandomForest                      0:00:44       0.8645    0.9275\n",
            "        11   MaxAbsScaler RandomForest                      0:00:32       0.8466    0.9275\n",
            "        12   MaxAbsScaler RandomForest                      0:00:44       0.8606    0.9275\n",
            "        13   StandardScalerWrapper XGBoostClassifier        0:00:42       0.9047    0.9275\n",
            "        14   MaxAbsScaler RandomForest                      0:00:40       0.8782    0.9275\n",
            "        15   StandardScalerWrapper ExtremeRandomTrees       0:00:43       0.8498    0.9275\n",
            "        16   MaxAbsScaler ExtremeRandomTrees                0:00:38       0.8616    0.9275\n",
            "        17   MaxAbsScaler ExtremeRandomTrees                0:00:44       0.8613    0.9275\n",
            "        18   MaxAbsScaler RandomForest                      0:00:40       0.8484    0.9275\n",
            "        19   MaxAbsScaler LightGBM                          0:00:42       0.9067    0.9275\n",
            "        20   StandardScalerWrapper XGBoostClassifier        0:00:44       0.9215    0.9275\n",
            "        21   MaxAbsScaler LightGBM                          0:00:42       0.9024    0.9275\n",
            "        22   MaxAbsScaler LightGBM                          0:00:52       0.9072    0.9275\n",
            "        23   StandardScalerWrapper XGBoostClassifier        0:01:30       0.9270    0.9275\n",
            "        24   StandardScalerWrapper XGBoostClassifier        0:00:51       0.9242    0.9275\n",
            "        25   StandardScalerWrapper LightGBM                 0:00:59       0.8939    0.9275\n",
            "        26   MaxAbsScaler LogisticRegression                0:01:33       0.9040    0.9275\n",
            "        27   MaxAbsScaler LightGBM                          0:00:45       0.8980    0.9275\n",
            "        28   MaxAbsScaler LightGBM                          0:00:54       0.9170    0.9275\n",
            "        29   StandardScalerWrapper LogisticRegression       0:00:49       0.9037    0.9275\n",
            "        30   MaxAbsScaler LightGBM                          0:01:03       0.8504    0.9275\n",
            "        31   MaxAbsScaler LogisticRegression                0:00:44       0.9040    0.9275\n",
            "        32   StandardScalerWrapper XGBoostClassifier        0:01:00       0.9268    0.9275\n",
            "        33   StandardScalerWrapper XGBoostClassifier        0:01:47       0.9271    0.9275\n",
            "        34   StandardScalerWrapper XGBoostClassifier        0:00:48       0.9282    0.9282\n",
            "        35   MaxAbsScaler LightGBM                          0:00:58       0.8743    0.9282\n",
            "        36   StandardScalerWrapper XGBoostClassifier        0:00:58       0.9284    0.9284\n",
            "        37   StandardScalerWrapper XGBoostClassifier        0:02:50       0.9256    0.9284\n",
            "        38   StandardScalerWrapper XGBoostClassifier        0:01:12       0.9266    0.9284\n",
            "        39   StandardScalerWrapper XGBoostClassifier        0:01:18       0.9265    0.9284\n",
            "        40   StandardScalerWrapper XGBoostClassifier        0:00:51       0.9275    0.9284\n",
            "        41   StandardScalerWrapper XGBoostClassifier        0:01:15       0.9263    0.9284\n",
            "        42   StandardScalerWrapper XGBoostClassifier        0:01:14       0.9272    0.9284\n",
            "        43   StandardScalerWrapper XGBoostClassifier        0:02:46       0.9230    0.9284\n",
            "        44   StandardScalerWrapper XGBoostClassifier        0:00:50       0.9268    0.9284\n",
            "        45   SparseNormalizer XGBoostClassifier             0:00:42       0.5000    0.9284\n",
            "        46   StandardScalerWrapper XGBoostClassifier        0:00:46       0.9290    0.9290\n",
            "        47   StandardScalerWrapper LogisticRegression       0:00:48       0.9040    0.9290\n",
            "        48   StandardScalerWrapper XGBoostClassifier        0:01:31       0.9057    0.9290\n",
            "        49   SparseNormalizer XGBoostClassifier             0:02:24       0.9244    0.9290\n",
            "        50   StandardScalerWrapper XGBoostClassifier        0:02:16       0.9243    0.9290\n",
            "        51   StandardScalerWrapper LightGBM                 0:00:48       0.9115    0.9290\n",
            "        52   StandardScalerWrapper XGBoostClassifier        0:00:59       0.9259    0.9290\n",
            "        53   StandardScalerWrapper XGBoostClassifier        0:01:09       0.9222    0.9290\n",
            "        54   StandardScalerWrapper XGBoostClassifier        0:00:54       0.9204    0.9290\n",
            "        55   StandardScalerWrapper XGBoostClassifier        0:01:18       0.9240    0.9290\n",
            "        56   StandardScalerWrapper XGBoostClassifier        0:01:05       0.9269    0.9290\n",
            "        57   StandardScalerWrapper XGBoostClassifier        0:00:43       0.9156    0.9290\n",
            "        58   StandardScalerWrapper XGBoostClassifier        0:00:47       0.9198    0.9290\n",
            "        59   StandardScalerWrapper XGBoostClassifier        0:01:10       0.9275    0.9290\n",
            "        60   StandardScalerWrapper XGBoostClassifier        0:00:54       0.9276    0.9290\n",
            "        61   StandardScalerWrapper XGBoostClassifier        0:00:56       0.9262    0.9290\n",
            "        62   SparseNormalizer XGBoostClassifier             0:00:55       0.9244    0.9290\n",
            "        63   StandardScalerWrapper XGBoostClassifier        0:00:59       0.9272    0.9290\n",
            "        64   StandardScalerWrapper XGBoostClassifier        0:00:28       0.9198    0.9290\n",
            "ERROR: {\n",
            "    \"additional_properties\": {},\n",
            "    \"error\": {\n",
            "        \"additional_properties\": {\n",
            "            \"debugInfo\": null\n",
            "        },\n",
            "        \"code\": \"UserError\",\n",
            "        \"severity\": null,\n",
            "        \"message\": \"Experiment timeout reached, please consider increasing your experiment timeout.\",\n",
            "        \"message_format\": \"Experiment timeout reached, please consider increasing your experiment timeout.\",\n",
            "        \"message_parameters\": {},\n",
            "        \"reference_code\": null,\n",
            "        \"details_uri\": null,\n",
            "        \"target\": null,\n",
            "        \"details\": [],\n",
            "        \"inner_error\": {\n",
            "            \"additional_properties\": {},\n",
            "            \"code\": \"ResourceExhausted\",\n",
            "            \"inner_error\": {\n",
            "                \"additional_properties\": {},\n",
            "                \"code\": \"Timeout\",\n",
            "                \"inner_error\": {\n",
            "                    \"additional_properties\": {},\n",
            "                    \"code\": \"ExperimentTimeoutForIterations\",\n",
            "                    \"inner_error\": null\n",
            "                }\n",
            "            }\n",
            "        },\n",
            "        \"additional_info\": null\n",
            "    },\n",
            "    \"correlation\": null,\n",
            "    \"environment\": null,\n",
            "    \"location\": null,\n",
            "    \"time\": {},\n",
            "    \"component_name\": null\n",
            "}\n",
            "        65                                                  0:01:17          nan    0.9290\n",
            "ERROR: {\n",
            "    \"additional_properties\": {},\n",
            "    \"error\": {\n",
            "        \"additional_properties\": {\n",
            "            \"debugInfo\": null\n",
            "        },\n",
            "        \"code\": \"UserError\",\n",
            "        \"severity\": null,\n",
            "        \"message\": \"Experiment timeout reached, please consider increasing your experiment timeout.\",\n",
            "        \"message_format\": \"Experiment timeout reached, please consider increasing your experiment timeout.\",\n",
            "        \"message_parameters\": {},\n",
            "        \"reference_code\": null,\n",
            "        \"details_uri\": null,\n",
            "        \"target\": null,\n",
            "        \"details\": [],\n",
            "        \"inner_error\": {\n",
            "            \"additional_properties\": {},\n",
            "            \"code\": \"ResourceExhausted\",\n",
            "            \"inner_error\": {\n",
            "                \"additional_properties\": {},\n",
            "                \"code\": \"Timeout\",\n",
            "                \"inner_error\": {\n",
            "                    \"additional_properties\": {},\n",
            "                    \"code\": \"ExperimentTimeoutForIterations\",\n",
            "                    \"inner_error\": null\n",
            "                }\n",
            "            }\n",
            "        },\n",
            "        \"additional_info\": null\n",
            "    },\n",
            "    \"correlation\": null,\n",
            "    \"environment\": null,\n",
            "    \"location\": null,\n",
            "    \"time\": {},\n",
            "    \"component_name\": null\n",
            "}\n",
            "        66                                                  0:00:38          nan    0.9290\n",
            "ERROR: {\n",
            "    \"additional_properties\": {},\n",
            "    \"error\": {\n",
            "        \"additional_properties\": {\n",
            "            \"debugInfo\": null\n",
            "        },\n",
            "        \"code\": \"UserError\",\n",
            "        \"severity\": null,\n",
            "        \"message\": \"Experiment timeout reached, please consider increasing your experiment timeout.\",\n",
            "        \"message_format\": \"Experiment timeout reached, please consider increasing your experiment timeout.\",\n",
            "        \"message_parameters\": {},\n",
            "        \"reference_code\": null,\n",
            "        \"details_uri\": null,\n",
            "        \"target\": null,\n",
            "        \"details\": [],\n",
            "        \"inner_error\": {\n",
            "            \"additional_properties\": {},\n",
            "            \"code\": \"ResourceExhausted\",\n",
            "            \"inner_error\": {\n",
            "                \"additional_properties\": {},\n",
            "                \"code\": \"Timeout\",\n",
            "                \"inner_error\": {\n",
            "                    \"additional_properties\": {},\n",
            "                    \"code\": \"ExperimentTimeoutForIterations\",\n",
            "                    \"inner_error\": null\n",
            "                }\n",
            "            }\n",
            "        },\n",
            "        \"additional_info\": null\n",
            "    },\n",
            "    \"correlation\": null,\n",
            "    \"environment\": null,\n",
            "    \"location\": null,\n",
            "    \"time\": {},\n",
            "    \"component_name\": null\n",
            "}\n",
            "        67                                                  0:00:16          nan    0.9290\n",
            "ERROR: {\n",
            "    \"additional_properties\": {},\n",
            "    \"error\": {\n",
            "        \"additional_properties\": {\n",
            "            \"debugInfo\": null\n",
            "        },\n",
            "        \"code\": \"UserError\",\n",
            "        \"severity\": null,\n",
            "        \"message\": \"Experiment timeout reached, please consider increasing your experiment timeout.\",\n",
            "        \"message_format\": \"Experiment timeout reached, please consider increasing your experiment timeout.\",\n",
            "        \"message_parameters\": {},\n",
            "        \"reference_code\": null,\n",
            "        \"details_uri\": null,\n",
            "        \"target\": null,\n",
            "        \"details\": [],\n",
            "        \"inner_error\": {\n",
            "            \"additional_properties\": {},\n",
            "            \"code\": \"ResourceExhausted\",\n",
            "            \"inner_error\": {\n",
            "                \"additional_properties\": {},\n",
            "                \"code\": \"Timeout\",\n",
            "                \"inner_error\": {\n",
            "                    \"additional_properties\": {},\n",
            "                    \"code\": \"ExperimentTimeoutForIterations\",\n",
            "                    \"inner_error\": null\n",
            "                }\n",
            "            }\n",
            "        },\n",
            "        \"additional_info\": null\n",
            "    },\n",
            "    \"correlation\": null,\n",
            "    \"environment\": null,\n",
            "    \"location\": null,\n",
            "    \"time\": {},\n",
            "    \"component_name\": null\n",
            "}\n",
            "        68    VotingEnsemble                                0:02:25       0.9292    0.9292\n",
            "        69    StackEnsemble                                 0:02:29       0.9291    0.9292\n"
          ]
        },
        {
          "output_type": "execute_result",
          "execution_count": 32,
          "data": {
            "text/plain": "{'runId': 'AutoML_8b7c9872-e139-4e02-a108-1643a9d139e7',\n 'target': 'cpu-cluster',\n 'status': 'Completed',\n 'startTimeUtc': '2021-07-18T11:45:17.231656Z',\n 'endTimeUtc': '2021-07-18T12:27:03.829253Z',\n 'properties': {'num_iterations': '1000',\n  'training_type': 'TrainFull',\n  'acquisition_function': 'EI',\n  'primary_metric': 'AUC_weighted',\n  'train_split': '0',\n  'acquisition_parameter': '0',\n  'num_cross_validation': '5',\n  'target': 'cpu-cluster',\n  'AMLSettingsJsonString': '{\"path\":null,\"name\":\"capstone\",\"subscription_id\":\"653662f1-95de-4498-b876-1fd625bf5d18\",\"resource_group\":\"udacitycapstone\",\"workspace_name\":\"udacityws\",\"region\":\"japaneast\",\"compute_target\":\"cpu-cluster\",\"spark_service\":null,\"azure_service\":\"remote\",\"many_models\":false,\"pipeline_fetch_max_batch_size\":1,\"enable_batch_run\":false,\"enable_run_restructure\":false,\"start_auxiliary_runs_before_parent_complete\":false,\"enable_code_generation\":false,\"iterations\":1000,\"primary_metric\":\"AUC_weighted\",\"task_type\":\"classification\",\"data_script\":null,\"test_size\":0.0,\"validation_size\":0.0,\"n_cross_validations\":5,\"y_min\":null,\"y_max\":null,\"num_classes\":null,\"featurization\":\"auto\",\"_ignore_package_version_incompatibilities\":false,\"is_timeseries\":false,\"max_cores_per_iteration\":1,\"max_concurrent_iterations\":5,\"iteration_timeout_minutes\":null,\"mem_in_mb\":null,\"enforce_time_on_windows\":false,\"experiment_timeout_minutes\":30,\"experiment_exit_score\":null,\"whitelist_models\":null,\"blacklist_algos\":[\"TensorFlowLinearClassifier\",\"TensorFlowDNN\"],\"supported_models\":[\"LightGBM\",\"GradientBoosting\",\"RandomForest\",\"TensorFlowLinearClassifier\",\"AveragedPerceptronClassifier\",\"LinearSVM\",\"KNN\",\"TensorFlowDNN\",\"LogisticRegression\",\"DecisionTree\",\"XGBoostClassifier\",\"MultinomialNaiveBayes\",\"ExtremeRandomTrees\",\"SGD\",\"BernoulliNaiveBayes\",\"SVM\"],\"private_models\":[],\"auto_blacklist\":true,\"blacklist_samples_reached\":false,\"exclude_nan_labels\":true,\"verbosity\":20,\"_debug_log\":\"azureml_automl.log\",\"show_warnings\":false,\"model_explainability\":true,\"service_url\":null,\"sdk_url\":null,\"sdk_packages\":null,\"enable_onnx_compatible_models\":false,\"enable_split_onnx_featurizer_estimator_models\":false,\"vm_type\":\"STANDARD_D2_V2\",\"telemetry_verbosity\":20,\"send_telemetry\":true,\"enable_dnn\":false,\"scenario\":\"SDK-1.13.0\",\"environment_label\":null,\"save_mlflow\":false,\"force_text_dnn\":false,\"enable_feature_sweeping\":true,\"enable_early_stopping\":false,\"early_stopping_n_iters\":10,\"metrics\":null,\"enable_metric_confidence\":false,\"enable_ensembling\":true,\"enable_stack_ensembling\":true,\"ensemble_iterations\":15,\"enable_tf\":false,\"enable_subsampling\":null,\"subsample_seed\":null,\"enable_nimbusml\":false,\"enable_streaming\":false,\"force_streaming\":false,\"track_child_runs\":true,\"allowed_private_models\":[],\"label_column_name\":\"income\",\"weight_column_name\":null,\"cv_split_column_names\":null,\"enable_local_managed\":false,\"_local_managed_run_id\":null,\"cost_mode\":1,\"lag_length\":0,\"metric_operation\":\"maximize\",\"preprocess\":true}',\n  'DataPrepJsonString': '{\\\\\"training_data\\\\\": {\\\\\"datasetId\\\\\": \\\\\"fa0687fd-3726-4831-863a-18a8ccfd8f14\\\\\"}, \\\\\"datasets\\\\\": 0}',\n  'EnableSubsampling': None,\n  'runTemplate': 'AutoML',\n  'azureml.runsource': 'automl',\n  'display_task_type': 'classification',\n  'dependencies_versions': '{\"azureml-widgets\": \"1.31.0\", \"azureml-train\": \"1.31.0\", \"azureml-train-restclients-hyperdrive\": \"1.31.0\", \"azureml-train-core\": \"1.31.0\", \"azureml-train-automl\": \"1.31.0\", \"azureml-train-automl-runtime\": \"1.31.0\", \"azureml-train-automl-client\": \"1.31.0\", \"azureml-tensorboard\": \"1.31.0\", \"azureml-telemetry\": \"1.31.0\", \"azureml-sdk\": \"1.31.0\", \"azureml-samples\": \"0+unknown\", \"azureml-responsibleai\": \"1.31.0\", \"azureml-pipeline\": \"1.31.0\", \"azureml-pipeline-steps\": \"1.31.0\", \"azureml-pipeline-core\": \"1.31.0\", \"azureml-opendatasets\": \"1.31.0\", \"azureml-model-management-sdk\": \"1.0.1b6.post1\", \"azureml-mlflow\": \"1.31.0\", \"azureml-interpret\": \"1.31.0\", \"azureml-explain-model\": \"1.31.0\", \"azureml-defaults\": \"1.31.0\", \"azureml-dataset-runtime\": \"1.31.0\", \"azureml-dataprep\": \"2.18.0\", \"azureml-dataprep-rslex\": \"1.16.1\", \"azureml-dataprep-native\": \"36.0.0\", \"azureml-datadrift\": \"1.31.0\", \"azureml-core\": \"1.31.0\", \"azureml-contrib-services\": \"1.31.0\", \"azureml-contrib-server\": \"1.31.0\", \"azureml-contrib-reinforcementlearning\": \"1.31.0\", \"azureml-contrib-pipeline-steps\": \"1.31.0\", \"azureml-contrib-notebook\": \"1.31.0\", \"azureml-contrib-fairness\": \"1.31.0\", \"azureml-contrib-dataset\": \"1.31.0\", \"azureml-cli-common\": \"1.31.0\", \"azureml-automl-runtime\": \"1.31.0\", \"azureml-automl-dnn-nlp\": \"1.31.0\", \"azureml-automl-core\": \"1.31.0\", \"azureml-accel-models\": \"1.31.0\"}',\n  '_aml_system_scenario_identification': 'Remote.Parent',\n  'ClientType': 'SDK',\n  'environment_cpu_name': 'AzureML-AutoML',\n  'environment_cpu_label': 'prod',\n  'environment_gpu_name': 'AzureML-AutoML-GPU',\n  'environment_gpu_label': 'prod',\n  'root_attribution': 'automl',\n  'attribution': 'AutoML',\n  'Orchestrator': 'AutoML',\n  'CancelUri': 'https://japaneast.api.azureml.ms/jasmine/v1.0/subscriptions/653662f1-95de-4498-b876-1fd625bf5d18/resourceGroups/udacitycapstone/providers/Microsoft.MachineLearningServices/workspaces/udacityws/experimentids/71e58e51-6b4e-48f1-9863-62022f60b877/cancel/AutoML_8b7c9872-e139-4e02-a108-1643a9d139e7',\n  'ClientSdkVersion': '1.32.0',\n  'snapshotId': '00000000-0000-0000-0000-000000000000',\n  'SetupRunId': 'AutoML_8b7c9872-e139-4e02-a108-1643a9d139e7_setup',\n  'SetupRunContainerId': 'dcid.AutoML_8b7c9872-e139-4e02-a108-1643a9d139e7_setup',\n  'FeaturizationRunJsonPath': 'featurizer_container.json',\n  'FeaturizationRunId': 'AutoML_8b7c9872-e139-4e02-a108-1643a9d139e7_featurize',\n  'ProblemInfoJsonString': '{\"dataset_num_categorical\": 0, \"is_sparse\": true, \"subsampling\": false, \"has_extra_col\": true, \"dataset_classes\": 2, \"dataset_features\": 102, \"dataset_samples\": 45222, \"single_frequency_class_detected\": false}',\n  'ModelExplainRunId': 'AutoML_8b7c9872-e139-4e02-a108-1643a9d139e7_ModelExplain',\n  'azureml.git.repository_uri': 'https://github.com/HajimeK/nd00333-capstone',\n  'mlflow.source.git.repoURL': 'https://github.com/HajimeK/nd00333-capstone',\n  'azureml.git.branch': 'master',\n  'mlflow.source.git.branch': 'master',\n  'azureml.git.commit': 'bb8bb394f2d1a40e23f582b5c1b308628e329b33',\n  'mlflow.source.git.commit': 'bb8bb394f2d1a40e23f582b5c1b308628e329b33',\n  'azureml.git.dirty': 'True'},\n 'inputDatasets': [{'dataset': {'id': 'fa0687fd-3726-4831-863a-18a8ccfd8f14'}, 'consumptionDetails': {'type': 'RunInput', 'inputName': 'training_data', 'mechanism': 'Direct'}}],\n 'outputDatasets': [],\n 'logFiles': {},\n 'submittedBy': '創 川田'}"
          },
          "metadata": {}
        }
      ],
      "execution_count": 32,
      "metadata": {
        "collapsed": true,
        "jupyter": {
          "source_hidden": false,
          "outputs_hidden": false
        },
        "nteract": {
          "transient": {
            "deleting": false
          }
        },
        "gather": {
          "logged": 1626611572308
        }
      }
    },
    {
      "cell_type": "markdown",
      "source": [
        "## Run Details\n",
        "\n",
        "OPTIONAL: Write about the different models trained and their performance. Why do you think some models did better than others?\n",
        "\n",
        "TODO: In the cell below, use the `RunDetails` widget to show the different experiments."
      ],
      "metadata": {}
    },
    {
      "cell_type": "code",
      "source": [
        "best_automl_run, fitted_automl_model = automl_run.get_output()\r\n",
        "\r\n",
        "print(fitted_automl_model)\r\n",
        "fitted_automl_model._final_estimator"
      ],
      "outputs": [
        {
          "output_type": "stream",
          "name": "stderr",
          "text": [
            "WARNING:root:The version of the SDK does not match the version the model was trained on.\n",
            "WARNING:root:The consistency in the result may not be guaranteed.\n",
            "WARNING:root:Package:azureml-automl-core, training version:1.32.0, current version:1.31.0\n",
            "Package:azureml-automl-runtime, training version:1.32.0, current version:1.31.0\n",
            "Package:azureml-core, training version:1.32.0, current version:1.31.0\n",
            "Package:azureml-dataset-runtime, training version:1.32.0, current version:1.31.0\n",
            "Package:azureml-defaults, training version:1.32.0, current version:1.31.0\n",
            "Package:azureml-interpret, training version:1.32.0, current version:1.31.0\n",
            "Package:azureml-mlflow, training version:1.32.0, current version:1.31.0\n",
            "Package:azureml-pipeline-core, training version:1.32.0, current version:1.31.0\n",
            "Package:azureml-telemetry, training version:1.32.0, current version:1.31.0\n",
            "Package:azureml-train-automl-client, training version:1.32.0, current version:1.31.0\n",
            "Package:azureml-train-automl-runtime, training version:1.32.0, current version:1.31.0\n",
            "WARNING:root:Please ensure the version of your local conda dependencies match the version on which your model was trained in order to properly retrieve your model.\n"
          ]
        },
        {
          "output_type": "stream",
          "name": "stdout",
          "text": [
            "Pipeline(memory=None,\n",
            "         steps=[('datatransformer',\n",
            "                 DataTransformer(enable_dnn=False, enable_feature_sweeping=True, feature_sweeping_config={}, feature_sweeping_timeout=86400, featurization_config=None, force_text_dnn=False, is_cross_validation=True, is_onnx_compatible=False, observer=None, task='classification', working_dir='/mnt/batch/tasks/shared/LS_root/mount...\n",
            "    gpu_training_param_dict={'processing_unit_type': 'cpu'}\n",
            "), random_state=0, reg_alpha=0, reg_lambda=2.3958333333333335, subsample=1, tree_method='auto'))], verbose=False))], flatten_transform=None, weights=[0.4, 0.06666666666666667, 0.06666666666666667, 0.06666666666666667, 0.06666666666666667, 0.13333333333333333, 0.13333333333333333, 0.06666666666666667]))],\n",
            "         verbose=False)\n",
            "Y_transformer(['LabelEncoder', LabelEncoder()])\n"
          ]
        },
        {
          "output_type": "execute_result",
          "execution_count": 33,
          "data": {
            "text/plain": "PreFittedSoftVotingClassifier(\n    estimators=[('46', Pipeline(memory=None,\n             steps=[('standardscalerwrapper',\n                     StandardScalerWrapper(\n        copy=True,\n        with_mean=False,\n        with_std=False\n    )),\n                    ('xgboostclassifier',\n                     XGBoostClassifier(booster='gbtree', colsample_bytree=0.8, eta=0.2, gamma=0.01, grow_policy='lossguide', max_bin=255, max_depth=6, max_leaves=0, n_estimators=200, n_jobs=1, objective='reg:logistic', problem_info=ProblemInfo...\n        iteration_timeout_mode=0,\n        iteration_timeout_param=None,\n        feature_column_names=None,\n        label_column_name=None,\n        weight_column_name=None,\n        cv_split_column_names=None,\n        enable_streaming=None,\n        timeseries_param_dict=None,\n        gpu_training_param_dict={'processing_unit_type': 'cpu'}\n    ), random_state=0, reg_alpha=0, reg_lambda=1.7708333333333335, subsample=1, tree_method='hist'))],\n             verbose=False)), ('36', Pipeline(memory=None,\n             steps=[('standardscalerwrapper',\n                     StandardScalerWrapper(\n        copy=True,\n        with_mean=False,\n        with_std=False\n    )),\n                    ('xgboostclassifier',\n                     XGBoostClassifier(booster='gbtree', colsample_bytree=0.5, eta=0.4, gamma=0, max_depth=8, max_leaves=31, n_estimators=100, n_jobs=1, objective='reg:logistic', problem_info=ProblemInfo(\n        dataset_samples=45222,\n        dataset_feature...\n        iteration_timeout_param=None,\n        feature_column_names=None,\n        label_column_name=None,\n        weight_column_name=None,\n        cv_split_column_names=None,\n        enable_streaming=None,\n        timeseries_param_dict=None,\n        gpu_training_param_dict={'processing_unit_type': 'cpu'}\n    ), random_state=0, reg_alpha=1.4583333333333335, reg_lambda=1.6666666666666667, subsample=1, tree_method='auto'))],\n             verbose=False)), ('34', Pipeline(memory=None,\n             steps=[('standardscalerwrapper',\n                     StandardScalerWrapper(\n        copy=True,\n        with_mean=False,\n        with_std=False\n    )),\n                    ('xgboostclassifier',\n                     XGBoostClassifier(booster='gbtree', colsample_bytree=0.7, eta=0.3, gamma=0, grow_policy='lossguide', max_bin=255, max_depth=9, max_leaves=0, n_estimators=100, n_jobs=1, objective='reg:logistic', problem_info=ProblemInfo(\n        da...\n        iteration_timeout_mode=0,\n        iteration_timeout_param=None,\n        feature_column_names=None,\n        label_column_name=None,\n        weight_column_name=None,\n        cv_split_column_names=None,\n        enable_streaming=None,\n        timeseries_param_dict=None,\n        gpu_training_param_dict={'processing_unit_type': 'cpu'}\n    ), random_state=0, reg_alpha=0, reg_lambda=1.875, subsample=1, tree_method='hist'))],\n             verbose=False)), ('60', Pipeline(memory=None,\n             steps=[('standardscalerwrapper',\n                     StandardScalerWrapper(\n        copy=True,\n        with_mean=False,\n        with_std=False\n    )),\n                    ('xgboostclassifier',\n                     XGBoostClassifier(booster='gbtree', colsample_bytree=0.7, eta=0.1, gamma=0, max_depth=6, max_leaves=31, n_estimators=100, n_jobs=1, objective='reg:logistic', problem_info=ProblemInfo(\n        dataset_samples=45222,\n        dataset_feature...\n        iteration_timeout_mode=0,\n        iteration_timeout_param=None,\n        feature_column_names=None,\n        label_column_name=None,\n        weight_column_name=None,\n        cv_split_column_names=None,\n        enable_streaming=None,\n        timeseries_param_dict=None,\n        gpu_training_param_dict={'processing_unit_type': 'cpu'}\n    ), random_state=0, reg_alpha=1.0416666666666667, reg_lambda=0.3125, subsample=1, tree_method='auto'))],\n             verbose=False)), ('59', Pipeline(memory=None,\n             steps=[('standardscalerwrapper',\n                     StandardScalerWrapper(\n        copy=True,\n        with_mean=False,\n        with_std=False\n    )),\n                    ('xgboostclassifier',\n                     XGBoostClassifier(booster='gbtree', colsample_bytree=0.8, eta=0.05, gamma=0.1, max_depth=8, max_leaves=0, n_estimators=100, n_jobs=1, objective='reg:logistic', problem_info=ProblemInfo(\n        dataset_samples=45222,\n        dataset_featu...\n        iteration_timeout_param=None,\n        feature_column_names=None,\n        label_column_name=None,\n        weight_column_name=None,\n        cv_split_column_names=None,\n        enable_streaming=None,\n        timeseries_param_dict=None,\n        gpu_training_param_dict={'processing_unit_type': 'cpu'}\n    ), random_state=0, reg_alpha=0.10416666666666667, reg_lambda=2.3958333333333335, subsample=0.7, tree_method='auto'))],\n             verbose=False)), ('42', Pipeline(memory=None,\n             steps=[('standardscalerwrapper',\n                     StandardScalerWrapper(\n        copy=True,\n        with_mean=False,\n        with_std=False\n    )),\n                    ('xgboostclassifier',\n                     XGBoostClassifier(booster='gbtree', colsample_bytree=0.6, eta=0.05, grow_policy='lossguide', max_bin=255, max_depth=2, max_leaves=0, n_estimators=600, n_jobs=1, objective='reg:logistic', problem_info=ProblemInfo(\n        dataset_s...\n        iteration_timeout_mode=0,\n        iteration_timeout_param=None,\n        feature_column_names=None,\n        label_column_name=None,\n        weight_column_name=None,\n        cv_split_column_names=None,\n        enable_streaming=None,\n        timeseries_param_dict=None,\n        gpu_training_param_dict={'processing_unit_type': 'cpu'}\n    ), random_state=0, reg_alpha=0, reg_lambda=0.20833333333333334, subsample=0.8, tree_method='hist'))],\n             verbose=False)), ('32', Pipeline(memory=None,\n             steps=[('standardscalerwrapper',\n                     StandardScalerWrapper(\n        copy=True,\n        with_mean=False,\n        with_std=False\n    )),\n                    ('xgboostclassifier',\n                     XGBoostClassifier(booster='gbtree', colsample_bytree=0.8, eta=0.001, gamma=0, grow_policy='lossguide', max_bin=255, max_depth=8, max_leaves=0, n_estimators=400, n_jobs=1, objective='reg:logistic', problem_info=ProblemInfo(...\n        iteration_timeout_mode=0,\n        iteration_timeout_param=None,\n        feature_column_names=None,\n        label_column_name=None,\n        weight_column_name=None,\n        cv_split_column_names=None,\n        enable_streaming=None,\n        timeseries_param_dict=None,\n        gpu_training_param_dict={'processing_unit_type': 'cpu'}\n    ), random_state=0, reg_alpha=0, reg_lambda=0.5208333333333334, subsample=1, tree_method='hist'))],\n             verbose=False)), ('37', Pipeline(memory=None,\n             steps=[('standardscalerwrapper',\n                     StandardScalerWrapper(\n        copy=True,\n        with_mean=False,\n        with_std=False\n    )),\n                    ('xgboostclassifier',\n                     XGBoostClassifier(booster='gbtree', colsample_bytree=0.7, eta=0.4, gamma=0.1, max_depth=10, max_leaves=0, n_estimators=600, n_jobs=1, objective='reg:logistic', problem_info=ProblemInfo(\n        dataset_samples=45222,\n        dataset_featu...\n        iteration_timeout_mode=0,\n        iteration_timeout_param=None,\n        feature_column_names=None,\n        label_column_name=None,\n        weight_column_name=None,\n        cv_split_column_names=None,\n        enable_streaming=None,\n        timeseries_param_dict=None,\n        gpu_training_param_dict={'processing_unit_type': 'cpu'}\n    ), random_state=0, reg_alpha=0, reg_lambda=2.3958333333333335, subsample=1, tree_method='auto'))],\n             verbose=False))],\n    weights=[0.4, 0.06666666666666667, 0.06666666666666667, 0.06666666666666667, 0.06666666666666667, 0.13333333333333333, 0.13333333333333333, 0.06666666666666667],\n    flatten_transform=None,\n    classification_labels=array([0, 1])\n)"
          },
          "metadata": {}
        }
      ],
      "execution_count": 33,
      "metadata": {
        "gather": {
          "logged": 1626611574141
        },
        "jupyter": {
          "outputs_hidden": false,
          "source_hidden": false
        },
        "nteract": {
          "transient": {
            "deleting": false
          }
        }
      }
    },
    {
      "cell_type": "markdown",
      "source": [
        "## Best Model\n",
        "\n",
        "TODO: In the cell below, get the best model from the automl experiments and display all the properties of the model.\n",
        "\n"
      ],
      "metadata": {}
    },
    {
      "cell_type": "code",
      "source": [
        "print(best_automl_run)"
      ],
      "outputs": [
        {
          "output_type": "stream",
          "name": "stdout",
          "text": [
            "Run(Experiment: capstone,\n",
            "Id: AutoML_8b7c9872-e139-4e02-a108-1643a9d139e7_68,\n",
            "Type: azureml.scriptrun,\n",
            "Status: Completed)\n"
          ]
        }
      ],
      "execution_count": 34,
      "metadata": {
        "gather": {
          "logged": 1626611574496
        },
        "jupyter": {
          "outputs_hidden": false,
          "source_hidden": false
        },
        "nteract": {
          "transient": {
            "deleting": false
          }
        }
      }
    },
    {
      "cell_type": "code",
      "source": [
        "#TODO: Save the best model\r\n",
        "import joblib\r\n",
        "joblib.dump(fitted_automl_model, './automl_best_model.joblib', compress = 3)"
      ],
      "outputs": [
        {
          "output_type": "execute_result",
          "execution_count": 35,
          "data": {
            "text/plain": "['./automl_best_model.joblib']",
            "text/html": "['./automl_best_model.joblib']"
          },
          "metadata": {}
        }
      ],
      "execution_count": 35,
      "metadata": {
        "gather": {
          "logged": 1626611575252
        },
        "jupyter": {
          "outputs_hidden": false,
          "source_hidden": false
        },
        "nteract": {
          "transient": {
            "deleting": false
          }
        }
      }
    },
    {
      "cell_type": "markdown",
      "source": [
        "## Model Deployment\n",
        "\n",
        "Remember you have to deploy only one of the two models you trained.. Perform the steps in the rest of this notebook only if you wish to deploy this model.\n",
        "\n",
        "TODO: In the cell below, register the model, create an inference config and deploy the model as a web service."
      ],
      "metadata": {}
    },
    {
      "cell_type": "code",
      "source": [
        "from azureml.core.model import InferenceConfig\r\n",
        "from azureml.core.environment import Environment\r\n",
        "\r\n",
        "# Register the model to deploy\r\n",
        "model = automl_run.register_model(description = 'Census Income Data Set')\r\n",
        "print(f'model ID {automl_run.model_id}')\r\n",
        "# Combine scoring script & environment in Inference configuration\r\n",
        "env = best_automl_run.get_environment().save_to_directory(path='environments')\r\n",
        "script_file= 'score.py'\r\n",
        "best_automl_run.download_file('outputs/scoring_file_v_1_0_0.py', script_file)\r\n",
        "inference_config = InferenceConfig(entry_script=script_file, environment=env)"
      ],
      "outputs": [
        {
          "output_type": "stream",
          "name": "stdout",
          "text": [
            "model ID AutoML8b7c9872e68\n"
          ]
        }
      ],
      "execution_count": 58,
      "metadata": {
        "collapsed": true,
        "jupyter": {
          "source_hidden": false,
          "outputs_hidden": false
        },
        "nteract": {
          "transient": {
            "deleting": false
          }
        },
        "gather": {
          "logged": 1626640439655
        }
      }
    },
    {
      "cell_type": "code",
      "source": [
        "from azureml.core.webservice import AciWebservice, Webservice\r\n",
        "\r\n",
        "# Set deployment configuration\r\n",
        "deployment_config = AciWebservice.deploy_configuration(cpu_cores = 1, memory_gb = 1)"
      ],
      "outputs": [],
      "execution_count": 59,
      "metadata": {
        "collapsed": true,
        "jupyter": {
          "source_hidden": false,
          "outputs_hidden": false
        },
        "nteract": {
          "transient": {
            "deleting": false
          }
        },
        "gather": {
          "logged": 1626640446906
        }
      }
    },
    {
      "cell_type": "code",
      "source": [
        "from azureml.core.model import Model\r\n",
        "# Define the model, inference, & deployment configuration and web service name and location to deploy\r\n",
        "service = Model.deploy(\r\n",
        "    workspace = workspace,\r\n",
        "    name = \"capstone-model\",\r\n",
        "    models = [model],\r\n",
        "    inference_config = inference_config,\r\n",
        "    deployment_config = deployment_config,\r\n",
        "    overwrite = True)\r\n",
        "service.wait_for_deployment(show_output=True)"
      ],
      "outputs": [
        {
          "output_type": "stream",
          "name": "stdout",
          "text": [
            "Tips: You can try get_logs(): https://aka.ms/debugimage#dockerlog or local deployment: https://aka.ms/debugimage#debug-locally to debug if deployment takes longer than 10 minutes.\n",
            "Running\n",
            "2021-07-18 20:35:16+00:00 Creating Container Registry if not exists.\n",
            "2021-07-18 20:35:19+00:00 Use the existing image.\n",
            "2021-07-18 20:35:20+00:00 Generating deployment configuration.\n",
            "2021-07-18 20:35:21+00:00 Submitting deployment to compute..\n",
            "2021-07-18 20:35:24+00:00 Checking the status of deployment capstone-model..\n",
            "2021-07-18 20:40:49+00:00 Checking the status of inference endpoint capstone-model.\n",
            "Succeeded\n",
            "ACI service creation operation finished, operation \"Succeeded\"\n"
          ]
        }
      ],
      "execution_count": 60,
      "metadata": {
        "collapsed": true,
        "jupyter": {
          "source_hidden": false,
          "outputs_hidden": false
        },
        "nteract": {
          "transient": {
            "deleting": false
          }
        },
        "gather": {
          "logged": 1626640853776
        }
      }
    },
    {
      "cell_type": "code",
      "source": [
        "print(service.state)"
      ],
      "outputs": [
        {
          "output_type": "stream",
          "name": "stdout",
          "text": [
            "Healthy\n"
          ]
        }
      ],
      "execution_count": 61,
      "metadata": {
        "collapsed": true,
        "jupyter": {
          "source_hidden": false,
          "outputs_hidden": false
        },
        "nteract": {
          "transient": {
            "deleting": false
          }
        },
        "gather": {
          "logged": 1626640854948
        }
      }
    },
    {
      "cell_type": "markdown",
      "source": [
        "TODO: In the cell below, send a request to the web service you deployed to test it."
      ],
      "metadata": {
        "collapsed": true,
        "gather": {
          "logged": 1598431657736
        },
        "jupyter": {
          "outputs_hidden": false,
          "source_hidden": false
        },
        "nteract": {
          "transient": {
            "deleting": false
          }
        }
      }
    },
    {
      "cell_type": "code",
      "source": [
        "import json\r\n",
        "\r\n",
        "input_payload = json.dumps({\r\n",
        "    'data': json.loads(df.drop('income', axis = 1)[0:20].to_json(orient='records'))\r\n",
        "})\r\n",
        "\r\n",
        "output = service.run(input_payload)\r\n",
        "\r\n",
        "print(output)"
      ],
      "outputs": [
        {
          "output_type": "stream",
          "name": "stdout",
          "text": [
            "{\"result\": [\"<=50K\", \"<=50K\", \"<=50K\", \"<=50K\", \"<=50K\", \">50K\", \"<=50K\", \"<=50K\", \">50K\", \">50K\", \">50K\", \">50K\", \"<=50K\", \"<=50K\", \"<=50K\", \"<=50K\", \"<=50K\", \"<=50K\", \"<=50K\", \">50K\"]}\n"
          ]
        }
      ],
      "execution_count": 67,
      "metadata": {
        "gather": {
          "logged": 1626641298013
        },
        "jupyter": {
          "outputs_hidden": false,
          "source_hidden": false
        },
        "nteract": {
          "transient": {
            "deleting": false
          }
        }
      }
    },
    {
      "cell_type": "markdown",
      "source": [
        "TODO: In the cell below, print the logs of the web service and delete the service"
      ],
      "metadata": {
        "collapsed": true,
        "gather": {
          "logged": 1598432765711
        },
        "jupyter": {
          "outputs_hidden": false,
          "source_hidden": false
        },
        "nteract": {
          "transient": {
            "deleting": false
          }
        }
      }
    },
    {
      "cell_type": "code",
      "source": [
        "service.delete()"
      ],
      "outputs": [],
      "execution_count": null,
      "metadata": {
        "jupyter": {
          "outputs_hidden": false,
          "source_hidden": false
        },
        "nteract": {
          "transient": {
            "deleting": false
          }
        }
      }
    }
  ],
  "metadata": {
    "kernel_info": {
      "name": "python3"
    },
    "kernelspec": {
      "name": "python3",
      "language": "python",
      "display_name": "Python 3"
    },
    "language_info": {
      "name": "python",
      "version": "3.6.9",
      "mimetype": "text/x-python",
      "codemirror_mode": {
        "name": "ipython",
        "version": 3
      },
      "pygments_lexer": "ipython3",
      "nbconvert_exporter": "python",
      "file_extension": ".py"
    },
    "nteract": {
      "version": "nteract-front-end@1.0.0"
    },
    "microsoft": {
      "host": {
        "AzureML": {
          "notebookHasBeenCompleted": true
        }
      }
    }
  },
  "nbformat": 4,
  "nbformat_minor": 2
}